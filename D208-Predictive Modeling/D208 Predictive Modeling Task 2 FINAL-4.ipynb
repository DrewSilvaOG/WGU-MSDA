{
 "cells": [
  {
   "cell_type": "code",
   "execution_count": 322,
   "id": "2dc94711",
   "metadata": {},
   "outputs": [],
   "source": [
    "# Importing Relevant Packages\n",
    "\n",
    "# Standard imports\n",
    "import numpy as np\n",
    "import pandas as pd\n",
    "from pandas import Series, DataFrame\n",
    "\n",
    "# Vizualization libraries\n",
    "import seaborn as sns\n",
    "import matplotlib.pyplot as plt\n",
    "%matplotlib inline\n",
    "\n",
    "# Statistical packages\n",
    "import pylab\n",
    "from pylab import rcParams\n",
    "import statsmodels.api as sm\n",
    "from statsmodels.stats.outliers_influence import variance_inflation_factor\n",
    "from statsmodels.graphics.mosaicplot import mosaic\n",
    "import statistics\n",
    "from scipy import stats\n",
    "\n",
    "# Scikit-learn\n",
    "import sklearn\n",
    "from sklearn import preprocessing\n",
    "from sklearn.linear_model import LogisticRegression\n",
    "from sklearn.model_selection import train_test_split\n",
    "from sklearn.metrics import confusion_matrix\n",
    "\n",
    "# Chisquare from SciPy.stats\n",
    "from scipy.stats import chisquare\n",
    "from scipy.stats import chi2_contingency"
   ]
  },
  {
   "cell_type": "code",
   "execution_count": 323,
   "id": "87d02297",
   "metadata": {},
   "outputs": [
    {
     "name": "stdout",
     "output_type": "stream",
     "text": [
      "<class 'pandas.core.frame.DataFrame'>\n",
      "RangeIndex: 10000 entries, 0 to 9999\n",
      "Data columns (total 50 columns):\n",
      " #   Column              Non-Null Count  Dtype  \n",
      "---  ------              --------------  -----  \n",
      " 0   CaseOrder           10000 non-null  int64  \n",
      " 1   Customer_id         10000 non-null  object \n",
      " 2   Interaction         10000 non-null  object \n",
      " 3   UID                 10000 non-null  object \n",
      " 4   City                10000 non-null  object \n",
      " 5   State               10000 non-null  object \n",
      " 6   County              10000 non-null  object \n",
      " 7   Zip                 10000 non-null  int64  \n",
      " 8   Lat                 10000 non-null  float64\n",
      " 9   Lng                 10000 non-null  float64\n",
      " 10  Population          10000 non-null  int64  \n",
      " 11  Area                10000 non-null  object \n",
      " 12  TimeZone            10000 non-null  object \n",
      " 13  Job                 10000 non-null  object \n",
      " 14  Children            10000 non-null  int64  \n",
      " 15  Age                 10000 non-null  int64  \n",
      " 16  Income              10000 non-null  float64\n",
      " 17  Marital             10000 non-null  object \n",
      " 18  Gender              10000 non-null  object \n",
      " 19  ReAdmis             10000 non-null  object \n",
      " 20  VitD_levels         10000 non-null  float64\n",
      " 21  Doc_visits          10000 non-null  int64  \n",
      " 22  Full_meals_eaten    10000 non-null  int64  \n",
      " 23  vitD_supp           10000 non-null  int64  \n",
      " 24  Soft_drink          10000 non-null  object \n",
      " 25  Initial_admin       10000 non-null  object \n",
      " 26  HighBlood           10000 non-null  object \n",
      " 27  Stroke              10000 non-null  object \n",
      " 28  Complication_risk   10000 non-null  object \n",
      " 29  Overweight          10000 non-null  object \n",
      " 30  Arthritis           10000 non-null  object \n",
      " 31  Diabetes            10000 non-null  object \n",
      " 32  Hyperlipidemia      10000 non-null  object \n",
      " 33  BackPain            10000 non-null  object \n",
      " 34  Anxiety             10000 non-null  object \n",
      " 35  Allergic_rhinitis   10000 non-null  object \n",
      " 36  Reflux_esophagitis  10000 non-null  object \n",
      " 37  Asthma              10000 non-null  object \n",
      " 38  Services            10000 non-null  object \n",
      " 39  Initial_days        10000 non-null  float64\n",
      " 40  TotalCharge         10000 non-null  float64\n",
      " 41  Additional_charges  10000 non-null  float64\n",
      " 42  Timely_admis        10000 non-null  int64  \n",
      " 43  Timely_treat        10000 non-null  int64  \n",
      " 44  Timely_visits       10000 non-null  int64  \n",
      " 45  Reliability         10000 non-null  int64  \n",
      " 46  Options             10000 non-null  int64  \n",
      " 47  Hrs_treat           10000 non-null  int64  \n",
      " 48  Courteous           10000 non-null  int64  \n",
      " 49  Active_listen       10000 non-null  int64  \n",
      "dtypes: float64(7), int64(16), object(27)\n",
      "memory usage: 3.8+ MB\n"
     ]
    }
   ],
   "source": [
    "med_data = pd.read_csv ('medical_clean.csv')\n",
    "med_data.rename(columns={'Item1':'Timely_admis','Item2':'Timely_treat',\n",
    " 'Item3':'Timely_visits','Item4':'Reliability',\n",
    " 'Item5':'Options','Item6':'Hrs_treat',\n",
    " 'Item7':'Courteous','Item8':'Active_listen'},inplace=True)\n",
    "med_data.head()\n",
    "med_data.info()"
   ]
  },
  {
   "cell_type": "code",
   "execution_count": 324,
   "id": "1d8a6c3d",
   "metadata": {},
   "outputs": [
    {
     "data": {
      "text/plain": [
       "CaseOrder             False\n",
       "Customer_id           False\n",
       "Interaction           False\n",
       "UID                   False\n",
       "City                  False\n",
       "State                 False\n",
       "County                False\n",
       "Zip                   False\n",
       "Lat                   False\n",
       "Lng                   False\n",
       "Population            False\n",
       "Area                  False\n",
       "TimeZone              False\n",
       "Job                   False\n",
       "Children              False\n",
       "Age                   False\n",
       "Income                False\n",
       "Marital               False\n",
       "Gender                False\n",
       "ReAdmis               False\n",
       "VitD_levels           False\n",
       "Doc_visits            False\n",
       "Full_meals_eaten      False\n",
       "vitD_supp             False\n",
       "Soft_drink            False\n",
       "Initial_admin         False\n",
       "HighBlood             False\n",
       "Stroke                False\n",
       "Complication_risk     False\n",
       "Overweight            False\n",
       "Arthritis             False\n",
       "Diabetes              False\n",
       "Hyperlipidemia        False\n",
       "BackPain              False\n",
       "Anxiety               False\n",
       "Allergic_rhinitis     False\n",
       "Reflux_esophagitis    False\n",
       "Asthma                False\n",
       "Services              False\n",
       "Initial_days          False\n",
       "TotalCharge           False\n",
       "Additional_charges    False\n",
       "Timely_admis          False\n",
       "Timely_treat          False\n",
       "Timely_visits         False\n",
       "Reliability           False\n",
       "Options               False\n",
       "Hrs_treat             False\n",
       "Courteous             False\n",
       "Active_listen         False\n",
       "dtype: bool"
      ]
     },
     "execution_count": 324,
     "metadata": {},
     "output_type": "execute_result"
    }
   ],
   "source": [
    "#check if there are any missing data entries - if there are none then the output should be False\n",
    "med_data.isna().any()"
   ]
  },
  {
   "cell_type": "code",
   "execution_count": 325,
   "id": "ed170660",
   "metadata": {},
   "outputs": [
    {
     "name": "stdout",
     "output_type": "stream",
     "text": [
      "False    10000\n",
      "Name: count, dtype: int64\n"
     ]
    }
   ],
   "source": [
    "# Detecting Duplicates\n",
    "# No Duplicates Detected\n",
    "print(med_data.duplicated().value_counts())"
   ]
  },
  {
   "cell_type": "markdown",
   "id": "545acd45",
   "metadata": {},
   "source": [
    "I used .describe() for the summary statistics of the data set. Boxplots and z-scores for outlier detections. Histograms to determine the distributions of the variables used in the regression analysis. value_counts() for tracking the categorical/dummy variables and how much of each value they contain. This is done for the dependent and independent variables of the regression analysis. value_counts() function returns Series containing counts of unique values. The resulting object will be in descending order so that the first element is the most frequently-occurring element. Excludes NA values by default. \n",
    "\n",
    "Kept all the outliers as they seemed reasonable for the analysis. "
   ]
  },
  {
   "cell_type": "code",
   "execution_count": 326,
   "id": "b96bc2d6",
   "metadata": {},
   "outputs": [
    {
     "data": {
      "text/plain": [
       "CaseOrder             10000\n",
       "Customer_id           10000\n",
       "Interaction           10000\n",
       "UID                   10000\n",
       "City                   6072\n",
       "State                    52\n",
       "County                 1607\n",
       "Zip                    8612\n",
       "Lat                    8588\n",
       "Lng                    8725\n",
       "Population             5951\n",
       "Area                      3\n",
       "TimeZone                 26\n",
       "Job                     639\n",
       "Children                 11\n",
       "Age                      72\n",
       "Income                 9993\n",
       "Marital                   5\n",
       "Gender                    3\n",
       "ReAdmis                   2\n",
       "VitD_levels            9976\n",
       "Doc_visits                9\n",
       "Full_meals_eaten          8\n",
       "vitD_supp                 6\n",
       "Soft_drink                2\n",
       "Initial_admin             3\n",
       "HighBlood                 2\n",
       "Stroke                    2\n",
       "Complication_risk         3\n",
       "Overweight                2\n",
       "Arthritis                 2\n",
       "Diabetes                  2\n",
       "Hyperlipidemia            2\n",
       "BackPain                  2\n",
       "Anxiety                   2\n",
       "Allergic_rhinitis         2\n",
       "Reflux_esophagitis        2\n",
       "Asthma                    2\n",
       "Services                  4\n",
       "Initial_days           9997\n",
       "TotalCharge            9997\n",
       "Additional_charges     9418\n",
       "Timely_admis              8\n",
       "Timely_treat              7\n",
       "Timely_visits             8\n",
       "Reliability               7\n",
       "Options                   7\n",
       "Hrs_treat                 7\n",
       "Courteous                 7\n",
       "Active_listen             7\n",
       "dtype: int64"
      ]
     },
     "execution_count": 326,
     "metadata": {},
     "output_type": "execute_result"
    }
   ],
   "source": [
    "# finding the count of unique values in each column, then use value_counts to find unique values for specific columns\n",
    "med_data.nunique()"
   ]
  },
  {
   "cell_type": "code",
   "execution_count": 327,
   "id": "3b681f1b",
   "metadata": {},
   "outputs": [
    {
     "data": {
      "text/plain": [
       "HighBlood\n",
       "No     5910\n",
       "Yes    4090\n",
       "Name: count, dtype: int64"
      ]
     },
     "execution_count": 327,
     "metadata": {},
     "output_type": "execute_result"
    }
   ],
   "source": [
    "med_data['HighBlood'].value_counts()"
   ]
  },
  {
   "cell_type": "code",
   "execution_count": 328,
   "id": "b8978785",
   "metadata": {},
   "outputs": [
    {
     "data": {
      "text/plain": [
       "Overweight\n",
       "Yes    7094\n",
       "No     2906\n",
       "Name: count, dtype: int64"
      ]
     },
     "execution_count": 328,
     "metadata": {},
     "output_type": "execute_result"
    }
   ],
   "source": [
    "med_data['Overweight'].value_counts()"
   ]
  },
  {
   "cell_type": "code",
   "execution_count": 329,
   "id": "08d25a7f",
   "metadata": {},
   "outputs": [
    {
     "data": {
      "text/plain": [
       "Anxiety\n",
       "No     6785\n",
       "Yes    3215\n",
       "Name: count, dtype: int64"
      ]
     },
     "execution_count": 329,
     "metadata": {},
     "output_type": "execute_result"
    }
   ],
   "source": [
    "med_data['Anxiety'].value_counts()"
   ]
  },
  {
   "cell_type": "code",
   "execution_count": 330,
   "id": "795d59a7",
   "metadata": {},
   "outputs": [
    {
     "data": {
      "text/plain": [
       "Reflux_esophagitis\n",
       "No     5865\n",
       "Yes    4135\n",
       "Name: count, dtype: int64"
      ]
     },
     "execution_count": 330,
     "metadata": {},
     "output_type": "execute_result"
    }
   ],
   "source": [
    "med_data['Reflux_esophagitis'].value_counts()"
   ]
  },
  {
   "cell_type": "code",
   "execution_count": 331,
   "id": "8c70f0a2",
   "metadata": {},
   "outputs": [
    {
     "data": {
      "text/plain": [
       "BackPain\n",
       "No     5886\n",
       "Yes    4114\n",
       "Name: count, dtype: int64"
      ]
     },
     "execution_count": 331,
     "metadata": {},
     "output_type": "execute_result"
    }
   ],
   "source": [
    "med_data['BackPain'].value_counts()"
   ]
  },
  {
   "cell_type": "code",
   "execution_count": 332,
   "id": "bf943b45",
   "metadata": {},
   "outputs": [
    {
     "data": {
      "text/plain": [
       "Hyperlipidemia\n",
       "No     6628\n",
       "Yes    3372\n",
       "Name: count, dtype: int64"
      ]
     },
     "execution_count": 332,
     "metadata": {},
     "output_type": "execute_result"
    }
   ],
   "source": [
    "med_data['Hyperlipidemia'].value_counts()"
   ]
  },
  {
   "cell_type": "code",
   "execution_count": 333,
   "id": "7b0ee08b",
   "metadata": {},
   "outputs": [
    {
     "data": {
      "text/plain": [
       "Stroke\n",
       "No     8007\n",
       "Yes    1993\n",
       "Name: count, dtype: int64"
      ]
     },
     "execution_count": 333,
     "metadata": {},
     "output_type": "execute_result"
    }
   ],
   "source": [
    "med_data['Stroke'].value_counts()"
   ]
  },
  {
   "cell_type": "code",
   "execution_count": 334,
   "id": "8f65d240",
   "metadata": {},
   "outputs": [
    {
     "data": {
      "text/plain": [
       "Arthritis\n",
       "No     6426\n",
       "Yes    3574\n",
       "Name: count, dtype: int64"
      ]
     },
     "execution_count": 334,
     "metadata": {},
     "output_type": "execute_result"
    }
   ],
   "source": [
    "med_data['Arthritis'].value_counts()"
   ]
  },
  {
   "cell_type": "code",
   "execution_count": 335,
   "id": "52490fc7",
   "metadata": {},
   "outputs": [
    {
     "data": {
      "text/plain": [
       "Diabetes\n",
       "No     7262\n",
       "Yes    2738\n",
       "Name: count, dtype: int64"
      ]
     },
     "execution_count": 335,
     "metadata": {},
     "output_type": "execute_result"
    }
   ],
   "source": [
    "med_data['Diabetes'].value_counts()"
   ]
  },
  {
   "cell_type": "code",
   "execution_count": 336,
   "id": "58286132",
   "metadata": {},
   "outputs": [
    {
     "data": {
      "text/plain": [
       "Full_meals_eaten\n",
       "0    3715\n",
       "1    3615\n",
       "2    1856\n",
       "3     612\n",
       "4     169\n",
       "5      25\n",
       "6       6\n",
       "7       2\n",
       "Name: count, dtype: int64"
      ]
     },
     "execution_count": 336,
     "metadata": {},
     "output_type": "execute_result"
    }
   ],
   "source": [
    "med_data['Full_meals_eaten'].value_counts()"
   ]
  },
  {
   "cell_type": "code",
   "execution_count": 337,
   "id": "d2fd14b9",
   "metadata": {},
   "outputs": [
    {
     "data": {
      "text/plain": [
       "VitD_levels\n",
       "18.135431    2\n",
       "15.939760    2\n",
       "17.821860    2\n",
       "20.184170    2\n",
       "18.741340    2\n",
       "            ..\n",
       "18.825293    1\n",
       "16.849021    1\n",
       "15.111106    1\n",
       "20.583694    1\n",
       "18.388620    1\n",
       "Name: count, Length: 9976, dtype: int64"
      ]
     },
     "execution_count": 337,
     "metadata": {},
     "output_type": "execute_result"
    }
   ],
   "source": [
    "med_data['VitD_levels'].value_counts()"
   ]
  },
  {
   "cell_type": "code",
   "execution_count": 338,
   "id": "503da6fd",
   "metadata": {},
   "outputs": [
    {
     "data": {
      "text/plain": [
       "vitD_supp\n",
       "0    6702\n",
       "1    2684\n",
       "2     544\n",
       "3      64\n",
       "4       5\n",
       "5       1\n",
       "Name: count, dtype: int64"
      ]
     },
     "execution_count": 338,
     "metadata": {},
     "output_type": "execute_result"
    }
   ],
   "source": [
    "med_data['vitD_supp'].value_counts()"
   ]
  },
  {
   "cell_type": "code",
   "execution_count": 339,
   "id": "922d9122",
   "metadata": {},
   "outputs": [
    {
     "data": {
      "text/plain": [
       "Doc_visits\n",
       "5    3823\n",
       "6    2436\n",
       "4    2385\n",
       "7     634\n",
       "3     595\n",
       "8      61\n",
       "2      58\n",
       "1       6\n",
       "9       2\n",
       "Name: count, dtype: int64"
      ]
     },
     "execution_count": 339,
     "metadata": {},
     "output_type": "execute_result"
    }
   ],
   "source": [
    "med_data['Doc_visits'].value_counts()"
   ]
  },
  {
   "cell_type": "code",
   "execution_count": 340,
   "id": "96089262",
   "metadata": {},
   "outputs": [
    {
     "data": {
      "text/plain": [
       "Age\n",
       "47    161\n",
       "52    159\n",
       "74    159\n",
       "41    157\n",
       "86    156\n",
       "     ... \n",
       "63    123\n",
       "51    122\n",
       "20    120\n",
       "36    118\n",
       "80    116\n",
       "Name: count, Length: 72, dtype: int64"
      ]
     },
     "execution_count": 340,
     "metadata": {},
     "output_type": "execute_result"
    }
   ],
   "source": [
    "med_data['Age'].value_counts()"
   ]
  },
  {
   "cell_type": "code",
   "execution_count": 341,
   "id": "b74e152b",
   "metadata": {},
   "outputs": [
    {
     "data": {
      "text/plain": [
       "<bound method NDFrame.head of       Age  z_score_age\n",
       "0      53    -0.024795\n",
       "1      51    -0.121706\n",
       "2      53    -0.024795\n",
       "3      78     1.186592\n",
       "4      22    -1.526914\n",
       "...   ...          ...\n",
       "9995   25    -1.381548\n",
       "9996   87     1.622691\n",
       "9997   45    -0.412438\n",
       "9998   43    -0.509349\n",
       "9999   70     0.798948\n",
       "\n",
       "[10000 rows x 2 columns]>"
      ]
     },
     "execution_count": 341,
     "metadata": {},
     "output_type": "execute_result"
    }
   ],
   "source": [
    "# Detecting outliers for Age variable\n",
    "# No outliers present\n",
    "med_data['z_score_age']=stats.zscore(med_data['Age'])\n",
    "med_data[['Age','z_score_age']].head"
   ]
  },
  {
   "cell_type": "code",
   "execution_count": 342,
   "id": "8105b4b5",
   "metadata": {},
   "outputs": [
    {
     "data": {
      "text/plain": [
       "(array([1067.,  977.,  981.,  988.,  998.,  977.,  970., 1007.,  948.,\n",
       "        1087.]),\n",
       " array([-1.72073600e+00, -1.37670219e+00, -1.03266837e+00, -6.88634559e-01,\n",
       "        -3.44600744e-01, -5.66928963e-04,  3.43466886e-01,  6.87500701e-01,\n",
       "         1.03153452e+00,  1.37556833e+00,  1.71960215e+00]),\n",
       " <BarContainer object of 10 artists>)"
      ]
     },
     "execution_count": 342,
     "metadata": {},
     "output_type": "execute_result"
    },
    {
     "data": {
      "image/png": "[encoded data removed]",
      "text/plain": [
       "<Figure size 640x480 with 1 Axes>"
      ]
     },
     "metadata": {},
     "output_type": "display_data"
    }
   ],
   "source": [
    "plt.hist(med_data['z_score_age'])"
   ]
  },
  {
   "cell_type": "code",
   "execution_count": 343,
   "id": "122ce2cb",
   "metadata": {},
   "outputs": [
    {
     "data": {
      "image/png": "[encoded data removed]",
      "text/plain": [
       "<Figure size 640x480 with 1 Axes>"
      ]
     },
     "metadata": {},
     "output_type": "display_data"
    }
   ],
   "source": [
    "boxplot=sns.boxplot(x='Age',data=med_data)"
   ]
  },
  {
   "cell_type": "code",
   "execution_count": 344,
   "id": "7b8b0b2c",
   "metadata": {},
   "outputs": [
    {
     "data": {
      "text/plain": [
       "<bound method NDFrame.head of       Doc_visits  z_score_doc_visits\n",
       "0              6            0.944647\n",
       "1              4           -0.967981\n",
       "2              4           -0.967981\n",
       "3              4           -0.967981\n",
       "4              5           -0.011667\n",
       "...          ...                 ...\n",
       "9995           4           -0.967981\n",
       "9996           5           -0.011667\n",
       "9997           4           -0.967981\n",
       "9998           5           -0.011667\n",
       "9999           5           -0.011667\n",
       "\n",
       "[10000 rows x 2 columns]>"
      ]
     },
     "execution_count": 344,
     "metadata": {},
     "output_type": "execute_result"
    }
   ],
   "source": [
    "# Detecting outliers via z-scores for Doc_visits variable\n",
    "# No outliers present\n",
    "med_data['z_score_doc_visits']=stats.zscore(med_data['Doc_visits'])\n",
    "med_data[['Doc_visits','z_score_doc_visits']].head"
   ]
  },
  {
   "cell_type": "code",
   "execution_count": 345,
   "id": "b2b5a2e6",
   "metadata": {},
   "outputs": [
    {
     "data": {
      "text/plain": [
       "(array([6.000e+00, 5.800e+01, 5.950e+02, 2.385e+03, 0.000e+00, 3.823e+03,\n",
       "        2.436e+03, 6.340e+02, 6.100e+01, 2.000e+00]),\n",
       " array([-3.83692119, -3.07187036, -2.30681952, -1.54176869, -0.77671786,\n",
       "        -0.01166703,  0.75338381,  1.51843464,  2.28348547,  3.04853631,\n",
       "         3.81358714]),\n",
       " <BarContainer object of 10 artists>)"
      ]
     },
     "execution_count": 345,
     "metadata": {},
     "output_type": "execute_result"
    },
    {
     "data": {
      "image/png": "[encoded data removed]",
      "text/plain": [
       "<Figure size 640x480 with 1 Axes>"
      ]
     },
     "metadata": {},
     "output_type": "display_data"
    }
   ],
   "source": [
    "plt.hist(med_data['z_score_doc_visits'])"
   ]
  },
  {
   "cell_type": "code",
   "execution_count": 346,
   "id": "e67fd9e9",
   "metadata": {},
   "outputs": [
    {
     "data": {
      "image/png": "[encoded data removed]",
      "text/plain": [
       "<Figure size 640x480 with 1 Axes>"
      ]
     },
     "metadata": {},
     "output_type": "display_data"
    }
   ],
   "source": [
    "boxplot=sns.boxplot(x='Doc_visits',data=med_data)"
   ]
  },
  {
   "cell_type": "code",
   "execution_count": 347,
   "id": "04ecc6ca",
   "metadata": {},
   "outputs": [
    {
     "data": {
      "text/plain": [
       "<bound method NDFrame.head of       VitD_levels  z_score_vitd\n",
       "0       19.141466      0.583603\n",
       "1       18.940352      0.483901\n",
       "2       18.057507      0.046227\n",
       "3       16.576858     -0.687811\n",
       "4       17.439069     -0.260366\n",
       "...           ...           ...\n",
       "9995    16.980860     -0.487525\n",
       "9996    18.177020      0.105476\n",
       "9997    17.129070     -0.414049\n",
       "9998    19.910430      0.964820\n",
       "9999    18.388620      0.210377\n",
       "\n",
       "[10000 rows x 2 columns]>"
      ]
     },
     "execution_count": 347,
     "metadata": {},
     "output_type": "execute_result"
    }
   ],
   "source": [
    "# Detecting outliers for VitD_levels variable\n",
    "# Outliers are present and will be retained\n",
    "med_data['z_score_vitd']=stats.zscore(med_data['VitD_levels'])\n",
    "med_data[['VitD_levels','z_score_vitd']].head"
   ]
  },
  {
   "cell_type": "code",
   "execution_count": 348,
   "id": "aff7610a",
   "metadata": {},
   "outputs": [
    {
     "data": {
      "text/plain": [
       "(array([   4.,   69.,  498., 1677., 3085., 2769., 1450.,  393.,   51.,\n",
       "           4.]),\n",
       " array([-4.04424997, -3.22189522, -2.39954048, -1.57718573, -0.75483099,\n",
       "         0.06752375,  0.8898785 ,  1.71223324,  2.53458799,  3.35694273,\n",
       "         4.17929747]),\n",
       " <BarContainer object of 10 artists>)"
      ]
     },
     "execution_count": 348,
     "metadata": {},
     "output_type": "execute_result"
    },
    {
     "data": {
      "image/png": "[encoded data removed]",
      "text/plain": [
       "<Figure size 640x480 with 1 Axes>"
      ]
     },
     "metadata": {},
     "output_type": "display_data"
    }
   ],
   "source": [
    "plt.hist(med_data['z_score_vitd'])"
   ]
  },
  {
   "cell_type": "code",
   "execution_count": 349,
   "id": "7ed27e53",
   "metadata": {},
   "outputs": [
    {
     "data": {
      "image/png": "[encoded data removed]",
      "text/plain": [
       "<Figure size 640x480 with 1 Axes>"
      ]
     },
     "metadata": {},
     "output_type": "display_data"
    }
   ],
   "source": [
    "boxplot=sns.boxplot(x='VitD_levels',data=med_data)"
   ]
  },
  {
   "cell_type": "code",
   "execution_count": 350,
   "id": "e2b60bd0",
   "metadata": {},
   "outputs": [
    {
     "data": {
      "text/plain": [
       "<bound method NDFrame.head of       vitD_supp  z_score_vitd_supp\n",
       "0             0          -0.634713\n",
       "1             1           0.956445\n",
       "2             0          -0.634713\n",
       "3             0          -0.634713\n",
       "4             2           2.547602\n",
       "...         ...                ...\n",
       "9995          1           0.956445\n",
       "9996          0          -0.634713\n",
       "9997          0          -0.634713\n",
       "9998          1           0.956445\n",
       "9999          1           0.956445\n",
       "\n",
       "[10000 rows x 2 columns]>"
      ]
     },
     "execution_count": 350,
     "metadata": {},
     "output_type": "execute_result"
    }
   ],
   "source": [
    "# Detecting outliers for VitD_supp variable\n",
    "# Outliers are present and will be retained\n",
    "med_data['z_score_vitd_supp']=stats.zscore(med_data['vitD_supp'])\n",
    "med_data[['vitD_supp','z_score_vitd_supp']].head"
   ]
  },
  {
   "cell_type": "code",
   "execution_count": 351,
   "id": "381990f4",
   "metadata": {},
   "outputs": [
    {
     "data": {
      "text/plain": [
       "(array([6.702e+03, 2.684e+03, 0.000e+00, 5.440e+02, 0.000e+00, 0.000e+00,\n",
       "        6.400e+01, 0.000e+00, 5.000e+00, 1.000e+00]),\n",
       " array([-0.63471264,  0.160866  ,  0.95644465,  1.75202329,  2.54760193,\n",
       "         3.34318058,  4.13875922,  4.93433787,  5.72991651,  6.52549516,\n",
       "         7.3210738 ]),\n",
       " <BarContainer object of 10 artists>)"
      ]
     },
     "execution_count": 351,
     "metadata": {},
     "output_type": "execute_result"
    },
    {
     "data": {
      "image/png": "[encoded data removed]",
      "text/plain": [
       "<Figure size 640x480 with 1 Axes>"
      ]
     },
     "metadata": {},
     "output_type": "display_data"
    }
   ],
   "source": [
    "plt.hist(med_data['z_score_vitd_supp'])"
   ]
  },
  {
   "cell_type": "code",
   "execution_count": 352,
   "id": "bef99621",
   "metadata": {},
   "outputs": [
    {
     "data": {
      "image/png": "[encoded data removed]",
      "text/plain": [
       "<Figure size 640x480 with 1 Axes>"
      ]
     },
     "metadata": {},
     "output_type": "display_data"
    }
   ],
   "source": [
    "boxplot=sns.boxplot(x='vitD_supp',data=med_data)"
   ]
  },
  {
   "cell_type": "code",
   "execution_count": 353,
   "id": "db0fc03e",
   "metadata": {},
   "outputs": [
    {
     "data": {
      "text/plain": [
       "<bound method NDFrame.head of       Full_meals_eaten  z_score_meals\n",
       "0                    0      -0.993387\n",
       "1                    2       0.990609\n",
       "2                    1      -0.001389\n",
       "3                    1      -0.001389\n",
       "4                    0      -0.993387\n",
       "...                ...            ...\n",
       "9995                 2       0.990609\n",
       "9996                 0      -0.993387\n",
       "9997                 2       0.990609\n",
       "9998                 2       0.990609\n",
       "9999                 0      -0.993387\n",
       "\n",
       "[10000 rows x 2 columns]>"
      ]
     },
     "execution_count": 353,
     "metadata": {},
     "output_type": "execute_result"
    }
   ],
   "source": [
    "# Detecting outliers for Full_meals_eaten variable\n",
    "# Outliers are present and will be retained\n",
    "med_data['z_score_meals']=stats.zscore(med_data['Full_meals_eaten'])\n",
    "med_data[['Full_meals_eaten','z_score_meals']].head"
   ]
  },
  {
   "cell_type": "code",
   "execution_count": 354,
   "id": "d30bd559",
   "metadata": {},
   "outputs": [
    {
     "data": {
      "text/plain": [
       "(array([3.715e+03, 3.615e+03, 1.856e+03, 0.000e+00, 6.120e+02, 1.690e+02,\n",
       "        0.000e+00, 2.500e+01, 6.000e+00, 2.000e+00]),\n",
       " array([-0.99338686, -0.29898822,  0.39541043,  1.08980907,  1.78420771,\n",
       "         2.47860636,  3.173005  ,  3.86740364,  4.56180229,  5.25620093,\n",
       "         5.95059957]),\n",
       " <BarContainer object of 10 artists>)"
      ]
     },
     "execution_count": 354,
     "metadata": {},
     "output_type": "execute_result"
    },
    {
     "data": {
      "image/png": "[encoded data removed]",
      "text/plain": [
       "<Figure size 640x480 with 1 Axes>"
      ]
     },
     "metadata": {},
     "output_type": "display_data"
    }
   ],
   "source": [
    "plt.hist(med_data['z_score_meals'])"
   ]
  },
  {
   "cell_type": "code",
   "execution_count": 355,
   "id": "ac6a9fb6",
   "metadata": {},
   "outputs": [
    {
     "data": {
      "image/png": "[encoded data removed]",
      "text/plain": [
       "<Figure size 640x480 with 1 Axes>"
      ]
     },
     "metadata": {},
     "output_type": "display_data"
    }
   ],
   "source": [
    "boxplot=sns.boxplot(x='Full_meals_eaten',data=med_data)"
   ]
  },
  {
   "cell_type": "code",
   "execution_count": 356,
   "id": "8dae615e",
   "metadata": {},
   "outputs": [],
   "source": [
    "# remove demographic data from the data set since these entries won't be necessary for the multiple regression analysis\n",
    "med_data = med_data.drop(['CaseOrder','Customer_id','Interaction','UID','City','State','County','Zip','Lat','Lng','Population','Area','TimeZone','Job'], axis=1)\n"
   ]
  },
  {
   "cell_type": "markdown",
   "id": "b01a0f4f",
   "metadata": {},
   "source": [
    "The data transformation that was required was limited to the re-expression of categorical variables to numerical variables. These include all of the ordinal variables: High Blood Pressure, Overweight, Anxiety, Reflux Esophagitis, Back Pain, Hyperlipidemia, Stroke, Arthritis, Diabetes, Asthma. All of the ordinal variables that were Yes or No values were re-expressed into binary/boolean 1 and 0, respectively. Also considered as dummy variables.\n",
    "\n",
    "Variables such as Gender, Marital, Initial_admin, Complication_risk, Services were also re-expressed as numerical values due to one hot encoding used for nominal values."
   ]
  },
  {
   "cell_type": "code",
   "execution_count": 357,
   "id": "c74dc34d",
   "metadata": {},
   "outputs": [
    {
     "data": {
      "text/html": [
       "<div>\n",
       "<style scoped>\n",
       "    .dataframe tbody tr th:only-of-type {\n",
       "        vertical-align: middle;\n",
       "    }\n",
       "\n",
       "    .dataframe tbody tr th {\n",
       "        vertical-align: top;\n",
       "    }\n",
       "\n",
       "    .dataframe thead th {\n",
       "        text-align: right;\n",
       "    }\n",
       "</style>\n",
       "<table border=\"1\" class=\"dataframe\">\n",
       "  <thead>\n",
       "    <tr style=\"text-align: right;\">\n",
       "      <th></th>\n",
       "      <th>Children</th>\n",
       "      <th>Age</th>\n",
       "      <th>Income</th>\n",
       "      <th>Marital</th>\n",
       "      <th>Gender</th>\n",
       "      <th>ReAdmis</th>\n",
       "      <th>VitD_levels</th>\n",
       "      <th>Doc_visits</th>\n",
       "      <th>Full_meals_eaten</th>\n",
       "      <th>vitD_supp</th>\n",
       "      <th>Soft_drink</th>\n",
       "      <th>Initial_admin</th>\n",
       "      <th>HighBlood</th>\n",
       "      <th>Stroke</th>\n",
       "      <th>Complication_risk</th>\n",
       "      <th>Overweight</th>\n",
       "      <th>Arthritis</th>\n",
       "      <th>Diabetes</th>\n",
       "      <th>Hyperlipidemia</th>\n",
       "      <th>BackPain</th>\n",
       "      <th>Anxiety</th>\n",
       "      <th>Allergic_rhinitis</th>\n",
       "      <th>Reflux_esophagitis</th>\n",
       "      <th>Asthma</th>\n",
       "      <th>Services</th>\n",
       "      <th>Initial_days</th>\n",
       "      <th>TotalCharge</th>\n",
       "      <th>Additional_charges</th>\n",
       "      <th>Timely_admis</th>\n",
       "      <th>Timely_treat</th>\n",
       "      <th>Timely_visits</th>\n",
       "      <th>Reliability</th>\n",
       "      <th>Options</th>\n",
       "      <th>Hrs_treat</th>\n",
       "      <th>Courteous</th>\n",
       "      <th>Active_listen</th>\n",
       "      <th>z_score_age</th>\n",
       "      <th>z_score_doc_visits</th>\n",
       "      <th>z_score_vitd</th>\n",
       "      <th>z_score_vitd_supp</th>\n",
       "      <th>z_score_meals</th>\n",
       "    </tr>\n",
       "  </thead>\n",
       "  <tbody>\n",
       "    <tr>\n",
       "      <th>0</th>\n",
       "      <td>1</td>\n",
       "      <td>53</td>\n",
       "      <td>86575.93</td>\n",
       "      <td>Divorced</td>\n",
       "      <td>Male</td>\n",
       "      <td>0</td>\n",
       "      <td>19.141466</td>\n",
       "      <td>6</td>\n",
       "      <td>0</td>\n",
       "      <td>0</td>\n",
       "      <td>0</td>\n",
       "      <td>Emergency Admission</td>\n",
       "      <td>1</td>\n",
       "      <td>0</td>\n",
       "      <td>Medium</td>\n",
       "      <td>0</td>\n",
       "      <td>1</td>\n",
       "      <td>1</td>\n",
       "      <td>0</td>\n",
       "      <td>1</td>\n",
       "      <td>1</td>\n",
       "      <td>1</td>\n",
       "      <td>0</td>\n",
       "      <td>1</td>\n",
       "      <td>Blood Work</td>\n",
       "      <td>10.585770</td>\n",
       "      <td>3726.702860</td>\n",
       "      <td>17939.403420</td>\n",
       "      <td>3</td>\n",
       "      <td>3</td>\n",
       "      <td>2</td>\n",
       "      <td>2</td>\n",
       "      <td>4</td>\n",
       "      <td>3</td>\n",
       "      <td>3</td>\n",
       "      <td>4</td>\n",
       "      <td>-0.024795</td>\n",
       "      <td>0.944647</td>\n",
       "      <td>0.583603</td>\n",
       "      <td>-0.634713</td>\n",
       "      <td>-0.993387</td>\n",
       "    </tr>\n",
       "    <tr>\n",
       "      <th>1</th>\n",
       "      <td>3</td>\n",
       "      <td>51</td>\n",
       "      <td>46805.99</td>\n",
       "      <td>Married</td>\n",
       "      <td>Female</td>\n",
       "      <td>0</td>\n",
       "      <td>18.940352</td>\n",
       "      <td>4</td>\n",
       "      <td>2</td>\n",
       "      <td>1</td>\n",
       "      <td>0</td>\n",
       "      <td>Emergency Admission</td>\n",
       "      <td>1</td>\n",
       "      <td>0</td>\n",
       "      <td>High</td>\n",
       "      <td>1</td>\n",
       "      <td>0</td>\n",
       "      <td>0</td>\n",
       "      <td>0</td>\n",
       "      <td>0</td>\n",
       "      <td>0</td>\n",
       "      <td>0</td>\n",
       "      <td>1</td>\n",
       "      <td>0</td>\n",
       "      <td>Intravenous</td>\n",
       "      <td>15.129562</td>\n",
       "      <td>4193.190458</td>\n",
       "      <td>17612.998120</td>\n",
       "      <td>3</td>\n",
       "      <td>4</td>\n",
       "      <td>3</td>\n",
       "      <td>4</td>\n",
       "      <td>4</td>\n",
       "      <td>4</td>\n",
       "      <td>3</td>\n",
       "      <td>3</td>\n",
       "      <td>-0.121706</td>\n",
       "      <td>-0.967981</td>\n",
       "      <td>0.483901</td>\n",
       "      <td>0.956445</td>\n",
       "      <td>0.990609</td>\n",
       "    </tr>\n",
       "    <tr>\n",
       "      <th>2</th>\n",
       "      <td>3</td>\n",
       "      <td>53</td>\n",
       "      <td>14370.14</td>\n",
       "      <td>Widowed</td>\n",
       "      <td>Female</td>\n",
       "      <td>0</td>\n",
       "      <td>18.057507</td>\n",
       "      <td>4</td>\n",
       "      <td>1</td>\n",
       "      <td>0</td>\n",
       "      <td>0</td>\n",
       "      <td>Elective Admission</td>\n",
       "      <td>1</td>\n",
       "      <td>0</td>\n",
       "      <td>Medium</td>\n",
       "      <td>1</td>\n",
       "      <td>0</td>\n",
       "      <td>1</td>\n",
       "      <td>0</td>\n",
       "      <td>0</td>\n",
       "      <td>0</td>\n",
       "      <td>0</td>\n",
       "      <td>0</td>\n",
       "      <td>0</td>\n",
       "      <td>Blood Work</td>\n",
       "      <td>4.772177</td>\n",
       "      <td>2434.234222</td>\n",
       "      <td>17505.192460</td>\n",
       "      <td>2</td>\n",
       "      <td>4</td>\n",
       "      <td>4</td>\n",
       "      <td>4</td>\n",
       "      <td>3</td>\n",
       "      <td>4</td>\n",
       "      <td>3</td>\n",
       "      <td>3</td>\n",
       "      <td>-0.024795</td>\n",
       "      <td>-0.967981</td>\n",
       "      <td>0.046227</td>\n",
       "      <td>-0.634713</td>\n",
       "      <td>-0.001389</td>\n",
       "    </tr>\n",
       "    <tr>\n",
       "      <th>3</th>\n",
       "      <td>0</td>\n",
       "      <td>78</td>\n",
       "      <td>39741.49</td>\n",
       "      <td>Married</td>\n",
       "      <td>Male</td>\n",
       "      <td>0</td>\n",
       "      <td>16.576858</td>\n",
       "      <td>4</td>\n",
       "      <td>1</td>\n",
       "      <td>0</td>\n",
       "      <td>0</td>\n",
       "      <td>Elective Admission</td>\n",
       "      <td>0</td>\n",
       "      <td>1</td>\n",
       "      <td>Medium</td>\n",
       "      <td>0</td>\n",
       "      <td>1</td>\n",
       "      <td>0</td>\n",
       "      <td>0</td>\n",
       "      <td>0</td>\n",
       "      <td>0</td>\n",
       "      <td>0</td>\n",
       "      <td>1</td>\n",
       "      <td>1</td>\n",
       "      <td>Blood Work</td>\n",
       "      <td>1.714879</td>\n",
       "      <td>2127.830423</td>\n",
       "      <td>12993.437350</td>\n",
       "      <td>3</td>\n",
       "      <td>5</td>\n",
       "      <td>5</td>\n",
       "      <td>3</td>\n",
       "      <td>4</td>\n",
       "      <td>5</td>\n",
       "      <td>5</td>\n",
       "      <td>5</td>\n",
       "      <td>1.186592</td>\n",
       "      <td>-0.967981</td>\n",
       "      <td>-0.687811</td>\n",
       "      <td>-0.634713</td>\n",
       "      <td>-0.001389</td>\n",
       "    </tr>\n",
       "    <tr>\n",
       "      <th>4</th>\n",
       "      <td>1</td>\n",
       "      <td>22</td>\n",
       "      <td>1209.56</td>\n",
       "      <td>Widowed</td>\n",
       "      <td>Female</td>\n",
       "      <td>0</td>\n",
       "      <td>17.439069</td>\n",
       "      <td>5</td>\n",
       "      <td>0</td>\n",
       "      <td>2</td>\n",
       "      <td>1</td>\n",
       "      <td>Elective Admission</td>\n",
       "      <td>0</td>\n",
       "      <td>0</td>\n",
       "      <td>Low</td>\n",
       "      <td>0</td>\n",
       "      <td>0</td>\n",
       "      <td>0</td>\n",
       "      <td>1</td>\n",
       "      <td>0</td>\n",
       "      <td>0</td>\n",
       "      <td>1</td>\n",
       "      <td>0</td>\n",
       "      <td>0</td>\n",
       "      <td>CT Scan</td>\n",
       "      <td>1.254807</td>\n",
       "      <td>2113.073274</td>\n",
       "      <td>3716.525786</td>\n",
       "      <td>2</td>\n",
       "      <td>1</td>\n",
       "      <td>3</td>\n",
       "      <td>3</td>\n",
       "      <td>5</td>\n",
       "      <td>3</td>\n",
       "      <td>4</td>\n",
       "      <td>3</td>\n",
       "      <td>-1.526914</td>\n",
       "      <td>-0.011667</td>\n",
       "      <td>-0.260366</td>\n",
       "      <td>2.547602</td>\n",
       "      <td>-0.993387</td>\n",
       "    </tr>\n",
       "    <tr>\n",
       "      <th>...</th>\n",
       "      <td>...</td>\n",
       "      <td>...</td>\n",
       "      <td>...</td>\n",
       "      <td>...</td>\n",
       "      <td>...</td>\n",
       "      <td>...</td>\n",
       "      <td>...</td>\n",
       "      <td>...</td>\n",
       "      <td>...</td>\n",
       "      <td>...</td>\n",
       "      <td>...</td>\n",
       "      <td>...</td>\n",
       "      <td>...</td>\n",
       "      <td>...</td>\n",
       "      <td>...</td>\n",
       "      <td>...</td>\n",
       "      <td>...</td>\n",
       "      <td>...</td>\n",
       "      <td>...</td>\n",
       "      <td>...</td>\n",
       "      <td>...</td>\n",
       "      <td>...</td>\n",
       "      <td>...</td>\n",
       "      <td>...</td>\n",
       "      <td>...</td>\n",
       "      <td>...</td>\n",
       "      <td>...</td>\n",
       "      <td>...</td>\n",
       "      <td>...</td>\n",
       "      <td>...</td>\n",
       "      <td>...</td>\n",
       "      <td>...</td>\n",
       "      <td>...</td>\n",
       "      <td>...</td>\n",
       "      <td>...</td>\n",
       "      <td>...</td>\n",
       "      <td>...</td>\n",
       "      <td>...</td>\n",
       "      <td>...</td>\n",
       "      <td>...</td>\n",
       "      <td>...</td>\n",
       "    </tr>\n",
       "    <tr>\n",
       "      <th>9995</th>\n",
       "      <td>2</td>\n",
       "      <td>25</td>\n",
       "      <td>45967.61</td>\n",
       "      <td>Widowed</td>\n",
       "      <td>Male</td>\n",
       "      <td>0</td>\n",
       "      <td>16.980860</td>\n",
       "      <td>4</td>\n",
       "      <td>2</td>\n",
       "      <td>1</td>\n",
       "      <td>0</td>\n",
       "      <td>Emergency Admission</td>\n",
       "      <td>1</td>\n",
       "      <td>0</td>\n",
       "      <td>Medium</td>\n",
       "      <td>0</td>\n",
       "      <td>0</td>\n",
       "      <td>0</td>\n",
       "      <td>0</td>\n",
       "      <td>0</td>\n",
       "      <td>1</td>\n",
       "      <td>0</td>\n",
       "      <td>1</td>\n",
       "      <td>0</td>\n",
       "      <td>Intravenous</td>\n",
       "      <td>51.561220</td>\n",
       "      <td>6850.942000</td>\n",
       "      <td>8927.642000</td>\n",
       "      <td>3</td>\n",
       "      <td>2</td>\n",
       "      <td>2</td>\n",
       "      <td>3</td>\n",
       "      <td>4</td>\n",
       "      <td>3</td>\n",
       "      <td>4</td>\n",
       "      <td>2</td>\n",
       "      <td>-1.381548</td>\n",
       "      <td>-0.967981</td>\n",
       "      <td>-0.487525</td>\n",
       "      <td>0.956445</td>\n",
       "      <td>0.990609</td>\n",
       "    </tr>\n",
       "    <tr>\n",
       "      <th>9996</th>\n",
       "      <td>4</td>\n",
       "      <td>87</td>\n",
       "      <td>14983.02</td>\n",
       "      <td>Widowed</td>\n",
       "      <td>Male</td>\n",
       "      <td>1</td>\n",
       "      <td>18.177020</td>\n",
       "      <td>5</td>\n",
       "      <td>0</td>\n",
       "      <td>0</td>\n",
       "      <td>0</td>\n",
       "      <td>Elective Admission</td>\n",
       "      <td>1</td>\n",
       "      <td>0</td>\n",
       "      <td>Medium</td>\n",
       "      <td>1</td>\n",
       "      <td>1</td>\n",
       "      <td>1</td>\n",
       "      <td>0</td>\n",
       "      <td>0</td>\n",
       "      <td>0</td>\n",
       "      <td>0</td>\n",
       "      <td>0</td>\n",
       "      <td>1</td>\n",
       "      <td>CT Scan</td>\n",
       "      <td>68.668240</td>\n",
       "      <td>7741.690000</td>\n",
       "      <td>28507.150000</td>\n",
       "      <td>3</td>\n",
       "      <td>3</td>\n",
       "      <td>4</td>\n",
       "      <td>2</td>\n",
       "      <td>5</td>\n",
       "      <td>3</td>\n",
       "      <td>4</td>\n",
       "      <td>4</td>\n",
       "      <td>1.622691</td>\n",
       "      <td>-0.011667</td>\n",
       "      <td>0.105476</td>\n",
       "      <td>-0.634713</td>\n",
       "      <td>-0.993387</td>\n",
       "    </tr>\n",
       "    <tr>\n",
       "      <th>9997</th>\n",
       "      <td>3</td>\n",
       "      <td>45</td>\n",
       "      <td>65917.81</td>\n",
       "      <td>Separated</td>\n",
       "      <td>Female</td>\n",
       "      <td>1</td>\n",
       "      <td>17.129070</td>\n",
       "      <td>4</td>\n",
       "      <td>2</td>\n",
       "      <td>0</td>\n",
       "      <td>1</td>\n",
       "      <td>Elective Admission</td>\n",
       "      <td>1</td>\n",
       "      <td>0</td>\n",
       "      <td>High</td>\n",
       "      <td>1</td>\n",
       "      <td>0</td>\n",
       "      <td>0</td>\n",
       "      <td>0</td>\n",
       "      <td>0</td>\n",
       "      <td>1</td>\n",
       "      <td>1</td>\n",
       "      <td>0</td>\n",
       "      <td>0</td>\n",
       "      <td>Intravenous</td>\n",
       "      <td>70.154180</td>\n",
       "      <td>8276.481000</td>\n",
       "      <td>15281.210000</td>\n",
       "      <td>3</td>\n",
       "      <td>3</td>\n",
       "      <td>3</td>\n",
       "      <td>4</td>\n",
       "      <td>4</td>\n",
       "      <td>2</td>\n",
       "      <td>3</td>\n",
       "      <td>2</td>\n",
       "      <td>-0.412438</td>\n",
       "      <td>-0.967981</td>\n",
       "      <td>-0.414049</td>\n",
       "      <td>-0.634713</td>\n",
       "      <td>0.990609</td>\n",
       "    </tr>\n",
       "    <tr>\n",
       "      <th>9998</th>\n",
       "      <td>3</td>\n",
       "      <td>43</td>\n",
       "      <td>29702.32</td>\n",
       "      <td>Divorced</td>\n",
       "      <td>Male</td>\n",
       "      <td>1</td>\n",
       "      <td>19.910430</td>\n",
       "      <td>5</td>\n",
       "      <td>2</td>\n",
       "      <td>1</td>\n",
       "      <td>0</td>\n",
       "      <td>Emergency Admission</td>\n",
       "      <td>0</td>\n",
       "      <td>0</td>\n",
       "      <td>Medium</td>\n",
       "      <td>1</td>\n",
       "      <td>0</td>\n",
       "      <td>0</td>\n",
       "      <td>0</td>\n",
       "      <td>1</td>\n",
       "      <td>0</td>\n",
       "      <td>0</td>\n",
       "      <td>0</td>\n",
       "      <td>0</td>\n",
       "      <td>Blood Work</td>\n",
       "      <td>63.356900</td>\n",
       "      <td>7644.483000</td>\n",
       "      <td>7781.678000</td>\n",
       "      <td>5</td>\n",
       "      <td>5</td>\n",
       "      <td>3</td>\n",
       "      <td>4</td>\n",
       "      <td>4</td>\n",
       "      <td>3</td>\n",
       "      <td>4</td>\n",
       "      <td>3</td>\n",
       "      <td>-0.509349</td>\n",
       "      <td>-0.011667</td>\n",
       "      <td>0.964820</td>\n",
       "      <td>0.956445</td>\n",
       "      <td>0.990609</td>\n",
       "    </tr>\n",
       "    <tr>\n",
       "      <th>9999</th>\n",
       "      <td>8</td>\n",
       "      <td>70</td>\n",
       "      <td>62682.63</td>\n",
       "      <td>Separated</td>\n",
       "      <td>Female</td>\n",
       "      <td>1</td>\n",
       "      <td>18.388620</td>\n",
       "      <td>5</td>\n",
       "      <td>0</td>\n",
       "      <td>1</td>\n",
       "      <td>0</td>\n",
       "      <td>Observation Admission</td>\n",
       "      <td>0</td>\n",
       "      <td>0</td>\n",
       "      <td>Low</td>\n",
       "      <td>1</td>\n",
       "      <td>1</td>\n",
       "      <td>0</td>\n",
       "      <td>1</td>\n",
       "      <td>0</td>\n",
       "      <td>0</td>\n",
       "      <td>1</td>\n",
       "      <td>0</td>\n",
       "      <td>0</td>\n",
       "      <td>Blood Work</td>\n",
       "      <td>70.850590</td>\n",
       "      <td>7887.553000</td>\n",
       "      <td>11643.190000</td>\n",
       "      <td>4</td>\n",
       "      <td>3</td>\n",
       "      <td>3</td>\n",
       "      <td>2</td>\n",
       "      <td>3</td>\n",
       "      <td>6</td>\n",
       "      <td>4</td>\n",
       "      <td>3</td>\n",
       "      <td>0.798948</td>\n",
       "      <td>-0.011667</td>\n",
       "      <td>0.210377</td>\n",
       "      <td>0.956445</td>\n",
       "      <td>-0.993387</td>\n",
       "    </tr>\n",
       "  </tbody>\n",
       "</table>\n",
       "<p>10000 rows × 41 columns</p>\n",
       "</div>"
      ],
      "text/plain": [
       "      Children  Age    Income    Marital  Gender  ReAdmis  VitD_levels  \\\n",
       "0            1   53  86575.93   Divorced    Male        0    19.141466   \n",
       "1            3   51  46805.99    Married  Female        0    18.940352   \n",
       "2            3   53  14370.14    Widowed  Female        0    18.057507   \n",
       "3            0   78  39741.49    Married    Male        0    16.576858   \n",
       "4            1   22   1209.56    Widowed  Female        0    17.439069   \n",
       "...        ...  ...       ...        ...     ...      ...          ...   \n",
       "9995         2   25  45967.61    Widowed    Male        0    16.980860   \n",
       "9996         4   87  14983.02    Widowed    Male        1    18.177020   \n",
       "9997         3   45  65917.81  Separated  Female        1    17.129070   \n",
       "9998         3   43  29702.32   Divorced    Male        1    19.910430   \n",
       "9999         8   70  62682.63  Separated  Female        1    18.388620   \n",
       "\n",
       "      Doc_visits  Full_meals_eaten  vitD_supp  Soft_drink  \\\n",
       "0              6                 0          0           0   \n",
       "1              4                 2          1           0   \n",
       "2              4                 1          0           0   \n",
       "3              4                 1          0           0   \n",
       "4              5                 0          2           1   \n",
       "...          ...               ...        ...         ...   \n",
       "9995           4                 2          1           0   \n",
       "9996           5                 0          0           0   \n",
       "9997           4                 2          0           1   \n",
       "9998           5                 2          1           0   \n",
       "9999           5                 0          1           0   \n",
       "\n",
       "              Initial_admin  HighBlood  Stroke Complication_risk  Overweight  \\\n",
       "0       Emergency Admission          1       0            Medium           0   \n",
       "1       Emergency Admission          1       0              High           1   \n",
       "2        Elective Admission          1       0            Medium           1   \n",
       "3        Elective Admission          0       1            Medium           0   \n",
       "4        Elective Admission          0       0               Low           0   \n",
       "...                     ...        ...     ...               ...         ...   \n",
       "9995    Emergency Admission          1       0            Medium           0   \n",
       "9996     Elective Admission          1       0            Medium           1   \n",
       "9997     Elective Admission          1       0              High           1   \n",
       "9998    Emergency Admission          0       0            Medium           1   \n",
       "9999  Observation Admission          0       0               Low           1   \n",
       "\n",
       "      Arthritis  Diabetes  Hyperlipidemia  BackPain  Anxiety  \\\n",
       "0             1         1               0         1        1   \n",
       "1             0         0               0         0        0   \n",
       "2             0         1               0         0        0   \n",
       "3             1         0               0         0        0   \n",
       "4             0         0               1         0        0   \n",
       "...         ...       ...             ...       ...      ...   \n",
       "9995          0         0               0         0        1   \n",
       "9996          1         1               0         0        0   \n",
       "9997          0         0               0         0        1   \n",
       "9998          0         0               0         1        0   \n",
       "9999          1         0               1         0        0   \n",
       "\n",
       "      Allergic_rhinitis  Reflux_esophagitis  Asthma     Services  \\\n",
       "0                     1                   0       1   Blood Work   \n",
       "1                     0                   1       0  Intravenous   \n",
       "2                     0                   0       0   Blood Work   \n",
       "3                     0                   1       1   Blood Work   \n",
       "4                     1                   0       0      CT Scan   \n",
       "...                 ...                 ...     ...          ...   \n",
       "9995                  0                   1       0  Intravenous   \n",
       "9996                  0                   0       1      CT Scan   \n",
       "9997                  1                   0       0  Intravenous   \n",
       "9998                  0                   0       0   Blood Work   \n",
       "9999                  1                   0       0   Blood Work   \n",
       "\n",
       "      Initial_days  TotalCharge  Additional_charges  Timely_admis  \\\n",
       "0        10.585770  3726.702860        17939.403420             3   \n",
       "1        15.129562  4193.190458        17612.998120             3   \n",
       "2         4.772177  2434.234222        17505.192460             2   \n",
       "3         1.714879  2127.830423        12993.437350             3   \n",
       "4         1.254807  2113.073274         3716.525786             2   \n",
       "...            ...          ...                 ...           ...   \n",
       "9995     51.561220  6850.942000         8927.642000             3   \n",
       "9996     68.668240  7741.690000        28507.150000             3   \n",
       "9997     70.154180  8276.481000        15281.210000             3   \n",
       "9998     63.356900  7644.483000         7781.678000             5   \n",
       "9999     70.850590  7887.553000        11643.190000             4   \n",
       "\n",
       "      Timely_treat  Timely_visits  Reliability  Options  Hrs_treat  Courteous  \\\n",
       "0                3              2            2        4          3          3   \n",
       "1                4              3            4        4          4          3   \n",
       "2                4              4            4        3          4          3   \n",
       "3                5              5            3        4          5          5   \n",
       "4                1              3            3        5          3          4   \n",
       "...            ...            ...          ...      ...        ...        ...   \n",
       "9995             2              2            3        4          3          4   \n",
       "9996             3              4            2        5          3          4   \n",
       "9997             3              3            4        4          2          3   \n",
       "9998             5              3            4        4          3          4   \n",
       "9999             3              3            2        3          6          4   \n",
       "\n",
       "      Active_listen  z_score_age  z_score_doc_visits  z_score_vitd  \\\n",
       "0                 4    -0.024795            0.944647      0.583603   \n",
       "1                 3    -0.121706           -0.967981      0.483901   \n",
       "2                 3    -0.024795           -0.967981      0.046227   \n",
       "3                 5     1.186592           -0.967981     -0.687811   \n",
       "4                 3    -1.526914           -0.011667     -0.260366   \n",
       "...             ...          ...                 ...           ...   \n",
       "9995              2    -1.381548           -0.967981     -0.487525   \n",
       "9996              4     1.622691           -0.011667      0.105476   \n",
       "9997              2    -0.412438           -0.967981     -0.414049   \n",
       "9998              3    -0.509349           -0.011667      0.964820   \n",
       "9999              3     0.798948           -0.011667      0.210377   \n",
       "\n",
       "      z_score_vitd_supp  z_score_meals  \n",
       "0             -0.634713      -0.993387  \n",
       "1              0.956445       0.990609  \n",
       "2             -0.634713      -0.001389  \n",
       "3             -0.634713      -0.001389  \n",
       "4              2.547602      -0.993387  \n",
       "...                 ...            ...  \n",
       "9995           0.956445       0.990609  \n",
       "9996          -0.634713      -0.993387  \n",
       "9997          -0.634713       0.990609  \n",
       "9998           0.956445       0.990609  \n",
       "9999           0.956445      -0.993387  \n",
       "\n",
       "[10000 rows x 41 columns]"
      ]
     },
     "execution_count": 357,
     "metadata": {},
     "output_type": "execute_result"
    }
   ],
   "source": [
    "# convert categorical/factor variables with yes/no values to numeric 1/0 values\n",
    "med_data = med_data.replace(to_replace = ['Yes','No'],value = [1,0])\n",
    "med_data"
   ]
  },
  {
   "cell_type": "code",
   "execution_count": 358,
   "id": "8438b6ab",
   "metadata": {
    "scrolled": false
   },
   "outputs": [
    {
     "data": {
      "text/html": [
       "<div>\n",
       "<style scoped>\n",
       "    .dataframe tbody tr th:only-of-type {\n",
       "        vertical-align: middle;\n",
       "    }\n",
       "\n",
       "    .dataframe tbody tr th {\n",
       "        vertical-align: top;\n",
       "    }\n",
       "\n",
       "    .dataframe thead th {\n",
       "        text-align: right;\n",
       "    }\n",
       "</style>\n",
       "<table border=\"1\" class=\"dataframe\">\n",
       "  <thead>\n",
       "    <tr style=\"text-align: right;\">\n",
       "      <th></th>\n",
       "      <th>Children</th>\n",
       "      <th>Age</th>\n",
       "      <th>Income</th>\n",
       "      <th>Marital</th>\n",
       "      <th>Gender</th>\n",
       "      <th>ReAdmis</th>\n",
       "      <th>VitD_levels</th>\n",
       "      <th>Doc_visits</th>\n",
       "      <th>Full_meals_eaten</th>\n",
       "      <th>vitD_supp</th>\n",
       "      <th>Soft_drink</th>\n",
       "      <th>Initial_admin</th>\n",
       "      <th>HighBlood</th>\n",
       "      <th>Stroke</th>\n",
       "      <th>Complication_risk</th>\n",
       "      <th>Overweight</th>\n",
       "      <th>Arthritis</th>\n",
       "      <th>Diabetes</th>\n",
       "      <th>Hyperlipidemia</th>\n",
       "      <th>BackPain</th>\n",
       "      <th>Anxiety</th>\n",
       "      <th>Allergic_rhinitis</th>\n",
       "      <th>Reflux_esophagitis</th>\n",
       "      <th>Asthma</th>\n",
       "      <th>Services</th>\n",
       "      <th>Initial_days</th>\n",
       "      <th>TotalCharge</th>\n",
       "      <th>Additional_charges</th>\n",
       "      <th>Timely_admis</th>\n",
       "      <th>Timely_treat</th>\n",
       "      <th>Timely_visits</th>\n",
       "      <th>Reliability</th>\n",
       "      <th>Options</th>\n",
       "      <th>Hrs_treat</th>\n",
       "      <th>Courteous</th>\n",
       "      <th>Active_listen</th>\n",
       "      <th>z_score_age</th>\n",
       "      <th>z_score_doc_visits</th>\n",
       "      <th>z_score_vitd</th>\n",
       "      <th>z_score_vitd_supp</th>\n",
       "      <th>z_score_meals</th>\n",
       "    </tr>\n",
       "  </thead>\n",
       "  <tbody>\n",
       "    <tr>\n",
       "      <th>0</th>\n",
       "      <td>1</td>\n",
       "      <td>53</td>\n",
       "      <td>86575.93</td>\n",
       "      <td>Divorced</td>\n",
       "      <td>1</td>\n",
       "      <td>0</td>\n",
       "      <td>19.141466</td>\n",
       "      <td>6</td>\n",
       "      <td>0</td>\n",
       "      <td>0</td>\n",
       "      <td>0</td>\n",
       "      <td>Emergency Admission</td>\n",
       "      <td>1</td>\n",
       "      <td>0</td>\n",
       "      <td>Medium</td>\n",
       "      <td>0</td>\n",
       "      <td>1</td>\n",
       "      <td>1</td>\n",
       "      <td>0</td>\n",
       "      <td>1</td>\n",
       "      <td>1</td>\n",
       "      <td>1</td>\n",
       "      <td>0</td>\n",
       "      <td>1</td>\n",
       "      <td>Blood Work</td>\n",
       "      <td>10.585770</td>\n",
       "      <td>3726.702860</td>\n",
       "      <td>17939.403420</td>\n",
       "      <td>3</td>\n",
       "      <td>3</td>\n",
       "      <td>2</td>\n",
       "      <td>2</td>\n",
       "      <td>4</td>\n",
       "      <td>3</td>\n",
       "      <td>3</td>\n",
       "      <td>4</td>\n",
       "      <td>-0.024795</td>\n",
       "      <td>0.944647</td>\n",
       "      <td>0.583603</td>\n",
       "      <td>-0.634713</td>\n",
       "      <td>-0.993387</td>\n",
       "    </tr>\n",
       "    <tr>\n",
       "      <th>1</th>\n",
       "      <td>3</td>\n",
       "      <td>51</td>\n",
       "      <td>46805.99</td>\n",
       "      <td>Married</td>\n",
       "      <td>2</td>\n",
       "      <td>0</td>\n",
       "      <td>18.940352</td>\n",
       "      <td>4</td>\n",
       "      <td>2</td>\n",
       "      <td>1</td>\n",
       "      <td>0</td>\n",
       "      <td>Emergency Admission</td>\n",
       "      <td>1</td>\n",
       "      <td>0</td>\n",
       "      <td>High</td>\n",
       "      <td>1</td>\n",
       "      <td>0</td>\n",
       "      <td>0</td>\n",
       "      <td>0</td>\n",
       "      <td>0</td>\n",
       "      <td>0</td>\n",
       "      <td>0</td>\n",
       "      <td>1</td>\n",
       "      <td>0</td>\n",
       "      <td>Intravenous</td>\n",
       "      <td>15.129562</td>\n",
       "      <td>4193.190458</td>\n",
       "      <td>17612.998120</td>\n",
       "      <td>3</td>\n",
       "      <td>4</td>\n",
       "      <td>3</td>\n",
       "      <td>4</td>\n",
       "      <td>4</td>\n",
       "      <td>4</td>\n",
       "      <td>3</td>\n",
       "      <td>3</td>\n",
       "      <td>-0.121706</td>\n",
       "      <td>-0.967981</td>\n",
       "      <td>0.483901</td>\n",
       "      <td>0.956445</td>\n",
       "      <td>0.990609</td>\n",
       "    </tr>\n",
       "    <tr>\n",
       "      <th>2</th>\n",
       "      <td>3</td>\n",
       "      <td>53</td>\n",
       "      <td>14370.14</td>\n",
       "      <td>Widowed</td>\n",
       "      <td>2</td>\n",
       "      <td>0</td>\n",
       "      <td>18.057507</td>\n",
       "      <td>4</td>\n",
       "      <td>1</td>\n",
       "      <td>0</td>\n",
       "      <td>0</td>\n",
       "      <td>Elective Admission</td>\n",
       "      <td>1</td>\n",
       "      <td>0</td>\n",
       "      <td>Medium</td>\n",
       "      <td>1</td>\n",
       "      <td>0</td>\n",
       "      <td>1</td>\n",
       "      <td>0</td>\n",
       "      <td>0</td>\n",
       "      <td>0</td>\n",
       "      <td>0</td>\n",
       "      <td>0</td>\n",
       "      <td>0</td>\n",
       "      <td>Blood Work</td>\n",
       "      <td>4.772177</td>\n",
       "      <td>2434.234222</td>\n",
       "      <td>17505.192460</td>\n",
       "      <td>2</td>\n",
       "      <td>4</td>\n",
       "      <td>4</td>\n",
       "      <td>4</td>\n",
       "      <td>3</td>\n",
       "      <td>4</td>\n",
       "      <td>3</td>\n",
       "      <td>3</td>\n",
       "      <td>-0.024795</td>\n",
       "      <td>-0.967981</td>\n",
       "      <td>0.046227</td>\n",
       "      <td>-0.634713</td>\n",
       "      <td>-0.001389</td>\n",
       "    </tr>\n",
       "    <tr>\n",
       "      <th>3</th>\n",
       "      <td>0</td>\n",
       "      <td>78</td>\n",
       "      <td>39741.49</td>\n",
       "      <td>Married</td>\n",
       "      <td>1</td>\n",
       "      <td>0</td>\n",
       "      <td>16.576858</td>\n",
       "      <td>4</td>\n",
       "      <td>1</td>\n",
       "      <td>0</td>\n",
       "      <td>0</td>\n",
       "      <td>Elective Admission</td>\n",
       "      <td>0</td>\n",
       "      <td>1</td>\n",
       "      <td>Medium</td>\n",
       "      <td>0</td>\n",
       "      <td>1</td>\n",
       "      <td>0</td>\n",
       "      <td>0</td>\n",
       "      <td>0</td>\n",
       "      <td>0</td>\n",
       "      <td>0</td>\n",
       "      <td>1</td>\n",
       "      <td>1</td>\n",
       "      <td>Blood Work</td>\n",
       "      <td>1.714879</td>\n",
       "      <td>2127.830423</td>\n",
       "      <td>12993.437350</td>\n",
       "      <td>3</td>\n",
       "      <td>5</td>\n",
       "      <td>5</td>\n",
       "      <td>3</td>\n",
       "      <td>4</td>\n",
       "      <td>5</td>\n",
       "      <td>5</td>\n",
       "      <td>5</td>\n",
       "      <td>1.186592</td>\n",
       "      <td>-0.967981</td>\n",
       "      <td>-0.687811</td>\n",
       "      <td>-0.634713</td>\n",
       "      <td>-0.001389</td>\n",
       "    </tr>\n",
       "    <tr>\n",
       "      <th>4</th>\n",
       "      <td>1</td>\n",
       "      <td>22</td>\n",
       "      <td>1209.56</td>\n",
       "      <td>Widowed</td>\n",
       "      <td>2</td>\n",
       "      <td>0</td>\n",
       "      <td>17.439069</td>\n",
       "      <td>5</td>\n",
       "      <td>0</td>\n",
       "      <td>2</td>\n",
       "      <td>1</td>\n",
       "      <td>Elective Admission</td>\n",
       "      <td>0</td>\n",
       "      <td>0</td>\n",
       "      <td>Low</td>\n",
       "      <td>0</td>\n",
       "      <td>0</td>\n",
       "      <td>0</td>\n",
       "      <td>1</td>\n",
       "      <td>0</td>\n",
       "      <td>0</td>\n",
       "      <td>1</td>\n",
       "      <td>0</td>\n",
       "      <td>0</td>\n",
       "      <td>CT Scan</td>\n",
       "      <td>1.254807</td>\n",
       "      <td>2113.073274</td>\n",
       "      <td>3716.525786</td>\n",
       "      <td>2</td>\n",
       "      <td>1</td>\n",
       "      <td>3</td>\n",
       "      <td>3</td>\n",
       "      <td>5</td>\n",
       "      <td>3</td>\n",
       "      <td>4</td>\n",
       "      <td>3</td>\n",
       "      <td>-1.526914</td>\n",
       "      <td>-0.011667</td>\n",
       "      <td>-0.260366</td>\n",
       "      <td>2.547602</td>\n",
       "      <td>-0.993387</td>\n",
       "    </tr>\n",
       "    <tr>\n",
       "      <th>...</th>\n",
       "      <td>...</td>\n",
       "      <td>...</td>\n",
       "      <td>...</td>\n",
       "      <td>...</td>\n",
       "      <td>...</td>\n",
       "      <td>...</td>\n",
       "      <td>...</td>\n",
       "      <td>...</td>\n",
       "      <td>...</td>\n",
       "      <td>...</td>\n",
       "      <td>...</td>\n",
       "      <td>...</td>\n",
       "      <td>...</td>\n",
       "      <td>...</td>\n",
       "      <td>...</td>\n",
       "      <td>...</td>\n",
       "      <td>...</td>\n",
       "      <td>...</td>\n",
       "      <td>...</td>\n",
       "      <td>...</td>\n",
       "      <td>...</td>\n",
       "      <td>...</td>\n",
       "      <td>...</td>\n",
       "      <td>...</td>\n",
       "      <td>...</td>\n",
       "      <td>...</td>\n",
       "      <td>...</td>\n",
       "      <td>...</td>\n",
       "      <td>...</td>\n",
       "      <td>...</td>\n",
       "      <td>...</td>\n",
       "      <td>...</td>\n",
       "      <td>...</td>\n",
       "      <td>...</td>\n",
       "      <td>...</td>\n",
       "      <td>...</td>\n",
       "      <td>...</td>\n",
       "      <td>...</td>\n",
       "      <td>...</td>\n",
       "      <td>...</td>\n",
       "      <td>...</td>\n",
       "    </tr>\n",
       "    <tr>\n",
       "      <th>9995</th>\n",
       "      <td>2</td>\n",
       "      <td>25</td>\n",
       "      <td>45967.61</td>\n",
       "      <td>Widowed</td>\n",
       "      <td>1</td>\n",
       "      <td>0</td>\n",
       "      <td>16.980860</td>\n",
       "      <td>4</td>\n",
       "      <td>2</td>\n",
       "      <td>1</td>\n",
       "      <td>0</td>\n",
       "      <td>Emergency Admission</td>\n",
       "      <td>1</td>\n",
       "      <td>0</td>\n",
       "      <td>Medium</td>\n",
       "      <td>0</td>\n",
       "      <td>0</td>\n",
       "      <td>0</td>\n",
       "      <td>0</td>\n",
       "      <td>0</td>\n",
       "      <td>1</td>\n",
       "      <td>0</td>\n",
       "      <td>1</td>\n",
       "      <td>0</td>\n",
       "      <td>Intravenous</td>\n",
       "      <td>51.561220</td>\n",
       "      <td>6850.942000</td>\n",
       "      <td>8927.642000</td>\n",
       "      <td>3</td>\n",
       "      <td>2</td>\n",
       "      <td>2</td>\n",
       "      <td>3</td>\n",
       "      <td>4</td>\n",
       "      <td>3</td>\n",
       "      <td>4</td>\n",
       "      <td>2</td>\n",
       "      <td>-1.381548</td>\n",
       "      <td>-0.967981</td>\n",
       "      <td>-0.487525</td>\n",
       "      <td>0.956445</td>\n",
       "      <td>0.990609</td>\n",
       "    </tr>\n",
       "    <tr>\n",
       "      <th>9996</th>\n",
       "      <td>4</td>\n",
       "      <td>87</td>\n",
       "      <td>14983.02</td>\n",
       "      <td>Widowed</td>\n",
       "      <td>1</td>\n",
       "      <td>1</td>\n",
       "      <td>18.177020</td>\n",
       "      <td>5</td>\n",
       "      <td>0</td>\n",
       "      <td>0</td>\n",
       "      <td>0</td>\n",
       "      <td>Elective Admission</td>\n",
       "      <td>1</td>\n",
       "      <td>0</td>\n",
       "      <td>Medium</td>\n",
       "      <td>1</td>\n",
       "      <td>1</td>\n",
       "      <td>1</td>\n",
       "      <td>0</td>\n",
       "      <td>0</td>\n",
       "      <td>0</td>\n",
       "      <td>0</td>\n",
       "      <td>0</td>\n",
       "      <td>1</td>\n",
       "      <td>CT Scan</td>\n",
       "      <td>68.668240</td>\n",
       "      <td>7741.690000</td>\n",
       "      <td>28507.150000</td>\n",
       "      <td>3</td>\n",
       "      <td>3</td>\n",
       "      <td>4</td>\n",
       "      <td>2</td>\n",
       "      <td>5</td>\n",
       "      <td>3</td>\n",
       "      <td>4</td>\n",
       "      <td>4</td>\n",
       "      <td>1.622691</td>\n",
       "      <td>-0.011667</td>\n",
       "      <td>0.105476</td>\n",
       "      <td>-0.634713</td>\n",
       "      <td>-0.993387</td>\n",
       "    </tr>\n",
       "    <tr>\n",
       "      <th>9997</th>\n",
       "      <td>3</td>\n",
       "      <td>45</td>\n",
       "      <td>65917.81</td>\n",
       "      <td>Separated</td>\n",
       "      <td>2</td>\n",
       "      <td>1</td>\n",
       "      <td>17.129070</td>\n",
       "      <td>4</td>\n",
       "      <td>2</td>\n",
       "      <td>0</td>\n",
       "      <td>1</td>\n",
       "      <td>Elective Admission</td>\n",
       "      <td>1</td>\n",
       "      <td>0</td>\n",
       "      <td>High</td>\n",
       "      <td>1</td>\n",
       "      <td>0</td>\n",
       "      <td>0</td>\n",
       "      <td>0</td>\n",
       "      <td>0</td>\n",
       "      <td>1</td>\n",
       "      <td>1</td>\n",
       "      <td>0</td>\n",
       "      <td>0</td>\n",
       "      <td>Intravenous</td>\n",
       "      <td>70.154180</td>\n",
       "      <td>8276.481000</td>\n",
       "      <td>15281.210000</td>\n",
       "      <td>3</td>\n",
       "      <td>3</td>\n",
       "      <td>3</td>\n",
       "      <td>4</td>\n",
       "      <td>4</td>\n",
       "      <td>2</td>\n",
       "      <td>3</td>\n",
       "      <td>2</td>\n",
       "      <td>-0.412438</td>\n",
       "      <td>-0.967981</td>\n",
       "      <td>-0.414049</td>\n",
       "      <td>-0.634713</td>\n",
       "      <td>0.990609</td>\n",
       "    </tr>\n",
       "    <tr>\n",
       "      <th>9998</th>\n",
       "      <td>3</td>\n",
       "      <td>43</td>\n",
       "      <td>29702.32</td>\n",
       "      <td>Divorced</td>\n",
       "      <td>1</td>\n",
       "      <td>1</td>\n",
       "      <td>19.910430</td>\n",
       "      <td>5</td>\n",
       "      <td>2</td>\n",
       "      <td>1</td>\n",
       "      <td>0</td>\n",
       "      <td>Emergency Admission</td>\n",
       "      <td>0</td>\n",
       "      <td>0</td>\n",
       "      <td>Medium</td>\n",
       "      <td>1</td>\n",
       "      <td>0</td>\n",
       "      <td>0</td>\n",
       "      <td>0</td>\n",
       "      <td>1</td>\n",
       "      <td>0</td>\n",
       "      <td>0</td>\n",
       "      <td>0</td>\n",
       "      <td>0</td>\n",
       "      <td>Blood Work</td>\n",
       "      <td>63.356900</td>\n",
       "      <td>7644.483000</td>\n",
       "      <td>7781.678000</td>\n",
       "      <td>5</td>\n",
       "      <td>5</td>\n",
       "      <td>3</td>\n",
       "      <td>4</td>\n",
       "      <td>4</td>\n",
       "      <td>3</td>\n",
       "      <td>4</td>\n",
       "      <td>3</td>\n",
       "      <td>-0.509349</td>\n",
       "      <td>-0.011667</td>\n",
       "      <td>0.964820</td>\n",
       "      <td>0.956445</td>\n",
       "      <td>0.990609</td>\n",
       "    </tr>\n",
       "    <tr>\n",
       "      <th>9999</th>\n",
       "      <td>8</td>\n",
       "      <td>70</td>\n",
       "      <td>62682.63</td>\n",
       "      <td>Separated</td>\n",
       "      <td>2</td>\n",
       "      <td>1</td>\n",
       "      <td>18.388620</td>\n",
       "      <td>5</td>\n",
       "      <td>0</td>\n",
       "      <td>1</td>\n",
       "      <td>0</td>\n",
       "      <td>Observation Admission</td>\n",
       "      <td>0</td>\n",
       "      <td>0</td>\n",
       "      <td>Low</td>\n",
       "      <td>1</td>\n",
       "      <td>1</td>\n",
       "      <td>0</td>\n",
       "      <td>1</td>\n",
       "      <td>0</td>\n",
       "      <td>0</td>\n",
       "      <td>1</td>\n",
       "      <td>0</td>\n",
       "      <td>0</td>\n",
       "      <td>Blood Work</td>\n",
       "      <td>70.850590</td>\n",
       "      <td>7887.553000</td>\n",
       "      <td>11643.190000</td>\n",
       "      <td>4</td>\n",
       "      <td>3</td>\n",
       "      <td>3</td>\n",
       "      <td>2</td>\n",
       "      <td>3</td>\n",
       "      <td>6</td>\n",
       "      <td>4</td>\n",
       "      <td>3</td>\n",
       "      <td>0.798948</td>\n",
       "      <td>-0.011667</td>\n",
       "      <td>0.210377</td>\n",
       "      <td>0.956445</td>\n",
       "      <td>-0.993387</td>\n",
       "    </tr>\n",
       "  </tbody>\n",
       "</table>\n",
       "<p>10000 rows × 41 columns</p>\n",
       "</div>"
      ],
      "text/plain": [
       "      Children  Age    Income    Marital  Gender  ReAdmis  VitD_levels  \\\n",
       "0            1   53  86575.93   Divorced       1        0    19.141466   \n",
       "1            3   51  46805.99    Married       2        0    18.940352   \n",
       "2            3   53  14370.14    Widowed       2        0    18.057507   \n",
       "3            0   78  39741.49    Married       1        0    16.576858   \n",
       "4            1   22   1209.56    Widowed       2        0    17.439069   \n",
       "...        ...  ...       ...        ...     ...      ...          ...   \n",
       "9995         2   25  45967.61    Widowed       1        0    16.980860   \n",
       "9996         4   87  14983.02    Widowed       1        1    18.177020   \n",
       "9997         3   45  65917.81  Separated       2        1    17.129070   \n",
       "9998         3   43  29702.32   Divorced       1        1    19.910430   \n",
       "9999         8   70  62682.63  Separated       2        1    18.388620   \n",
       "\n",
       "      Doc_visits  Full_meals_eaten  vitD_supp  Soft_drink  \\\n",
       "0              6                 0          0           0   \n",
       "1              4                 2          1           0   \n",
       "2              4                 1          0           0   \n",
       "3              4                 1          0           0   \n",
       "4              5                 0          2           1   \n",
       "...          ...               ...        ...         ...   \n",
       "9995           4                 2          1           0   \n",
       "9996           5                 0          0           0   \n",
       "9997           4                 2          0           1   \n",
       "9998           5                 2          1           0   \n",
       "9999           5                 0          1           0   \n",
       "\n",
       "              Initial_admin  HighBlood  Stroke Complication_risk  Overweight  \\\n",
       "0       Emergency Admission          1       0            Medium           0   \n",
       "1       Emergency Admission          1       0              High           1   \n",
       "2        Elective Admission          1       0            Medium           1   \n",
       "3        Elective Admission          0       1            Medium           0   \n",
       "4        Elective Admission          0       0               Low           0   \n",
       "...                     ...        ...     ...               ...         ...   \n",
       "9995    Emergency Admission          1       0            Medium           0   \n",
       "9996     Elective Admission          1       0            Medium           1   \n",
       "9997     Elective Admission          1       0              High           1   \n",
       "9998    Emergency Admission          0       0            Medium           1   \n",
       "9999  Observation Admission          0       0               Low           1   \n",
       "\n",
       "      Arthritis  Diabetes  Hyperlipidemia  BackPain  Anxiety  \\\n",
       "0             1         1               0         1        1   \n",
       "1             0         0               0         0        0   \n",
       "2             0         1               0         0        0   \n",
       "3             1         0               0         0        0   \n",
       "4             0         0               1         0        0   \n",
       "...         ...       ...             ...       ...      ...   \n",
       "9995          0         0               0         0        1   \n",
       "9996          1         1               0         0        0   \n",
       "9997          0         0               0         0        1   \n",
       "9998          0         0               0         1        0   \n",
       "9999          1         0               1         0        0   \n",
       "\n",
       "      Allergic_rhinitis  Reflux_esophagitis  Asthma     Services  \\\n",
       "0                     1                   0       1   Blood Work   \n",
       "1                     0                   1       0  Intravenous   \n",
       "2                     0                   0       0   Blood Work   \n",
       "3                     0                   1       1   Blood Work   \n",
       "4                     1                   0       0      CT Scan   \n",
       "...                 ...                 ...     ...          ...   \n",
       "9995                  0                   1       0  Intravenous   \n",
       "9996                  0                   0       1      CT Scan   \n",
       "9997                  1                   0       0  Intravenous   \n",
       "9998                  0                   0       0   Blood Work   \n",
       "9999                  1                   0       0   Blood Work   \n",
       "\n",
       "      Initial_days  TotalCharge  Additional_charges  Timely_admis  \\\n",
       "0        10.585770  3726.702860        17939.403420             3   \n",
       "1        15.129562  4193.190458        17612.998120             3   \n",
       "2         4.772177  2434.234222        17505.192460             2   \n",
       "3         1.714879  2127.830423        12993.437350             3   \n",
       "4         1.254807  2113.073274         3716.525786             2   \n",
       "...            ...          ...                 ...           ...   \n",
       "9995     51.561220  6850.942000         8927.642000             3   \n",
       "9996     68.668240  7741.690000        28507.150000             3   \n",
       "9997     70.154180  8276.481000        15281.210000             3   \n",
       "9998     63.356900  7644.483000         7781.678000             5   \n",
       "9999     70.850590  7887.553000        11643.190000             4   \n",
       "\n",
       "      Timely_treat  Timely_visits  Reliability  Options  Hrs_treat  Courteous  \\\n",
       "0                3              2            2        4          3          3   \n",
       "1                4              3            4        4          4          3   \n",
       "2                4              4            4        3          4          3   \n",
       "3                5              5            3        4          5          5   \n",
       "4                1              3            3        5          3          4   \n",
       "...            ...            ...          ...      ...        ...        ...   \n",
       "9995             2              2            3        4          3          4   \n",
       "9996             3              4            2        5          3          4   \n",
       "9997             3              3            4        4          2          3   \n",
       "9998             5              3            4        4          3          4   \n",
       "9999             3              3            2        3          6          4   \n",
       "\n",
       "      Active_listen  z_score_age  z_score_doc_visits  z_score_vitd  \\\n",
       "0                 4    -0.024795            0.944647      0.583603   \n",
       "1                 3    -0.121706           -0.967981      0.483901   \n",
       "2                 3    -0.024795           -0.967981      0.046227   \n",
       "3                 5     1.186592           -0.967981     -0.687811   \n",
       "4                 3    -1.526914           -0.011667     -0.260366   \n",
       "...             ...          ...                 ...           ...   \n",
       "9995              2    -1.381548           -0.967981     -0.487525   \n",
       "9996              4     1.622691           -0.011667      0.105476   \n",
       "9997              2    -0.412438           -0.967981     -0.414049   \n",
       "9998              3    -0.509349           -0.011667      0.964820   \n",
       "9999              3     0.798948           -0.011667      0.210377   \n",
       "\n",
       "      z_score_vitd_supp  z_score_meals  \n",
       "0             -0.634713      -0.993387  \n",
       "1              0.956445       0.990609  \n",
       "2             -0.634713      -0.001389  \n",
       "3             -0.634713      -0.001389  \n",
       "4              2.547602      -0.993387  \n",
       "...                 ...            ...  \n",
       "9995           0.956445       0.990609  \n",
       "9996          -0.634713      -0.993387  \n",
       "9997          -0.634713       0.990609  \n",
       "9998           0.956445       0.990609  \n",
       "9999           0.956445      -0.993387  \n",
       "\n",
       "[10000 rows x 41 columns]"
      ]
     },
     "execution_count": 358,
     "metadata": {},
     "output_type": "execute_result"
    }
   ],
   "source": [
    "# convert the categorical variable of genders to a numeric variable\n",
    "med_data['Gender'] = med_data['Gender'].replace(['Male','Female','Nonbinary'],[1,2,3])\n",
    "med_data"
   ]
  },
  {
   "cell_type": "code",
   "execution_count": 359,
   "id": "8bc3af39",
   "metadata": {},
   "outputs": [],
   "source": [
    "# convert the non-married Marital status values to \"Married/Not Married\", then convert \"Married/Not Married\" to \"1/0\"\n",
    "#this will make the Marital variable easier to work with during regression analysis\n",
    "med_data['Marital'] = med_data['Marital'].replace(['Divorced','Widowed','Separated','Never Married'],'Not Married')\n",
    "med_data['Marital'] = med_data['Marital'].replace(['Married','Not Married'],[1,0])"
   ]
  },
  {
   "cell_type": "code",
   "execution_count": 360,
   "id": "a6011ac9",
   "metadata": {},
   "outputs": [
    {
     "name": "stdout",
     "output_type": "stream",
     "text": [
      "<class 'pandas.core.frame.DataFrame'>\n",
      "RangeIndex: 10000 entries, 0 to 9999\n",
      "Data columns (total 41 columns):\n",
      " #   Column              Non-Null Count  Dtype  \n",
      "---  ------              --------------  -----  \n",
      " 0   Children            10000 non-null  int64  \n",
      " 1   Age                 10000 non-null  int64  \n",
      " 2   Income              10000 non-null  float64\n",
      " 3   Marital             10000 non-null  int64  \n",
      " 4   Gender              10000 non-null  int64  \n",
      " 5   ReAdmis             10000 non-null  int64  \n",
      " 6   VitD_levels         10000 non-null  float64\n",
      " 7   Doc_visits          10000 non-null  int64  \n",
      " 8   Full_meals_eaten    10000 non-null  int64  \n",
      " 9   vitD_supp           10000 non-null  int64  \n",
      " 10  Soft_drink          10000 non-null  int64  \n",
      " 11  Initial_admin       10000 non-null  int64  \n",
      " 12  HighBlood           10000 non-null  int64  \n",
      " 13  Stroke              10000 non-null  int64  \n",
      " 14  Complication_risk   10000 non-null  int64  \n",
      " 15  Overweight          10000 non-null  int64  \n",
      " 16  Arthritis           10000 non-null  int64  \n",
      " 17  Diabetes            10000 non-null  int64  \n",
      " 18  Hyperlipidemia      10000 non-null  int64  \n",
      " 19  BackPain            10000 non-null  int64  \n",
      " 20  Anxiety             10000 non-null  int64  \n",
      " 21  Allergic_rhinitis   10000 non-null  int64  \n",
      " 22  Reflux_esophagitis  10000 non-null  int64  \n",
      " 23  Asthma              10000 non-null  int64  \n",
      " 24  Services            10000 non-null  int64  \n",
      " 25  Initial_days        10000 non-null  float64\n",
      " 26  TotalCharge         10000 non-null  float64\n",
      " 27  Additional_charges  10000 non-null  float64\n",
      " 28  Timely_admis        10000 non-null  int64  \n",
      " 29  Timely_treat        10000 non-null  int64  \n",
      " 30  Timely_visits       10000 non-null  int64  \n",
      " 31  Reliability         10000 non-null  int64  \n",
      " 32  Options             10000 non-null  int64  \n",
      " 33  Hrs_treat           10000 non-null  int64  \n",
      " 34  Courteous           10000 non-null  int64  \n",
      " 35  Active_listen       10000 non-null  int64  \n",
      " 36  z_score_age         10000 non-null  float64\n",
      " 37  z_score_doc_visits  10000 non-null  float64\n",
      " 38  z_score_vitd        10000 non-null  float64\n",
      " 39  z_score_vitd_supp   10000 non-null  float64\n",
      " 40  z_score_meals       10000 non-null  float64\n",
      "dtypes: float64(10), int64(31)\n",
      "memory usage: 3.1 MB\n",
      "['Children', 'Age', 'Income', 'Marital', 'Gender', 'ReAdmis', 'VitD_levels', 'Doc_visits', 'Full_meals_eaten', 'vitD_supp', 'Soft_drink', 'Initial_admin', 'HighBlood', 'Stroke', 'Complication_risk', 'Overweight', 'Arthritis', 'Diabetes', 'Hyperlipidemia', 'BackPain', 'Anxiety', 'Allergic_rhinitis', 'Reflux_esophagitis', 'Asthma', 'Services', 'Initial_days', 'TotalCharge', 'Additional_charges', 'Timely_admis', 'Timely_treat', 'Timely_visits', 'Reliability', 'Options', 'Hrs_treat', 'Courteous', 'Active_listen', 'z_score_age', 'z_score_doc_visits', 'z_score_vitd', 'z_score_vitd_supp', 'z_score_meals']\n"
     ]
    }
   ],
   "source": [
    "# convert the Initial_Admin, Complication_risk, and Services variables into integers before proceeding\n",
    "med_data['Initial_admin'] = med_data['Initial_admin'].replace(['Elective Admission','Observation Admission','Emergency Admission'],[1,2,3])\n",
    "med_data['Complication_risk'] = med_data['Complication_risk'].replace(['Low','Medium','High'],[1,2,3])\n",
    "med_data['Services'] = med_data['Services'].replace(['Blood Work','CT Scan','Intravenous','MRI'],[1,2,3,4])\n",
    "med_data.info()\n",
    "med_data.describe()\n",
    "my_list = med_data.columns.values.tolist()\n",
    "print(my_list)"
   ]
  },
  {
   "cell_type": "code",
   "execution_count": 361,
   "id": "237df991",
   "metadata": {},
   "outputs": [
    {
     "data": {
      "text/html": [
       "<div>\n",
       "<style scoped>\n",
       "    .dataframe tbody tr th:only-of-type {\n",
       "        vertical-align: middle;\n",
       "    }\n",
       "\n",
       "    .dataframe tbody tr th {\n",
       "        vertical-align: top;\n",
       "    }\n",
       "\n",
       "    .dataframe thead th {\n",
       "        text-align: right;\n",
       "    }\n",
       "</style>\n",
       "<table border=\"1\" class=\"dataframe\">\n",
       "  <thead>\n",
       "    <tr style=\"text-align: right;\">\n",
       "      <th></th>\n",
       "      <th>Children</th>\n",
       "      <th>Age</th>\n",
       "      <th>Income</th>\n",
       "      <th>Marital</th>\n",
       "      <th>Gender</th>\n",
       "      <th>ReAdmis</th>\n",
       "      <th>VitD_levels</th>\n",
       "      <th>Doc_visits</th>\n",
       "      <th>Full_meals_eaten</th>\n",
       "      <th>vitD_supp</th>\n",
       "      <th>Soft_drink</th>\n",
       "      <th>Initial_admin</th>\n",
       "      <th>HighBlood</th>\n",
       "      <th>Stroke</th>\n",
       "      <th>Complication_risk</th>\n",
       "      <th>Overweight</th>\n",
       "      <th>Arthritis</th>\n",
       "      <th>Diabetes</th>\n",
       "      <th>Hyperlipidemia</th>\n",
       "      <th>BackPain</th>\n",
       "      <th>Anxiety</th>\n",
       "      <th>Allergic_rhinitis</th>\n",
       "      <th>Reflux_esophagitis</th>\n",
       "      <th>Asthma</th>\n",
       "      <th>Services</th>\n",
       "      <th>Initial_days</th>\n",
       "      <th>TotalCharge</th>\n",
       "      <th>Additional_charges</th>\n",
       "      <th>Timely_admis</th>\n",
       "      <th>Timely_treat</th>\n",
       "      <th>Timely_visits</th>\n",
       "      <th>Reliability</th>\n",
       "      <th>Options</th>\n",
       "      <th>Hrs_treat</th>\n",
       "      <th>Courteous</th>\n",
       "      <th>Active_listen</th>\n",
       "      <th>z_score_age</th>\n",
       "      <th>z_score_doc_visits</th>\n",
       "      <th>z_score_vitd</th>\n",
       "      <th>z_score_vitd_supp</th>\n",
       "      <th>z_score_meals</th>\n",
       "    </tr>\n",
       "  </thead>\n",
       "  <tbody>\n",
       "    <tr>\n",
       "      <th>0</th>\n",
       "      <td>1</td>\n",
       "      <td>53</td>\n",
       "      <td>86575.93</td>\n",
       "      <td>0</td>\n",
       "      <td>1</td>\n",
       "      <td>0</td>\n",
       "      <td>19.141466</td>\n",
       "      <td>6</td>\n",
       "      <td>0</td>\n",
       "      <td>0</td>\n",
       "      <td>0</td>\n",
       "      <td>3</td>\n",
       "      <td>1</td>\n",
       "      <td>0</td>\n",
       "      <td>2</td>\n",
       "      <td>0</td>\n",
       "      <td>1</td>\n",
       "      <td>1</td>\n",
       "      <td>0</td>\n",
       "      <td>1</td>\n",
       "      <td>1</td>\n",
       "      <td>1</td>\n",
       "      <td>0</td>\n",
       "      <td>1</td>\n",
       "      <td>1</td>\n",
       "      <td>10.585770</td>\n",
       "      <td>3726.702860</td>\n",
       "      <td>17939.403420</td>\n",
       "      <td>3</td>\n",
       "      <td>3</td>\n",
       "      <td>2</td>\n",
       "      <td>2</td>\n",
       "      <td>4</td>\n",
       "      <td>3</td>\n",
       "      <td>3</td>\n",
       "      <td>4</td>\n",
       "      <td>-0.024795</td>\n",
       "      <td>0.944647</td>\n",
       "      <td>0.583603</td>\n",
       "      <td>-0.634713</td>\n",
       "      <td>-0.993387</td>\n",
       "    </tr>\n",
       "    <tr>\n",
       "      <th>1</th>\n",
       "      <td>3</td>\n",
       "      <td>51</td>\n",
       "      <td>46805.99</td>\n",
       "      <td>1</td>\n",
       "      <td>2</td>\n",
       "      <td>0</td>\n",
       "      <td>18.940352</td>\n",
       "      <td>4</td>\n",
       "      <td>2</td>\n",
       "      <td>1</td>\n",
       "      <td>0</td>\n",
       "      <td>3</td>\n",
       "      <td>1</td>\n",
       "      <td>0</td>\n",
       "      <td>3</td>\n",
       "      <td>1</td>\n",
       "      <td>0</td>\n",
       "      <td>0</td>\n",
       "      <td>0</td>\n",
       "      <td>0</td>\n",
       "      <td>0</td>\n",
       "      <td>0</td>\n",
       "      <td>1</td>\n",
       "      <td>0</td>\n",
       "      <td>3</td>\n",
       "      <td>15.129562</td>\n",
       "      <td>4193.190458</td>\n",
       "      <td>17612.998120</td>\n",
       "      <td>3</td>\n",
       "      <td>4</td>\n",
       "      <td>3</td>\n",
       "      <td>4</td>\n",
       "      <td>4</td>\n",
       "      <td>4</td>\n",
       "      <td>3</td>\n",
       "      <td>3</td>\n",
       "      <td>-0.121706</td>\n",
       "      <td>-0.967981</td>\n",
       "      <td>0.483901</td>\n",
       "      <td>0.956445</td>\n",
       "      <td>0.990609</td>\n",
       "    </tr>\n",
       "    <tr>\n",
       "      <th>2</th>\n",
       "      <td>3</td>\n",
       "      <td>53</td>\n",
       "      <td>14370.14</td>\n",
       "      <td>0</td>\n",
       "      <td>2</td>\n",
       "      <td>0</td>\n",
       "      <td>18.057507</td>\n",
       "      <td>4</td>\n",
       "      <td>1</td>\n",
       "      <td>0</td>\n",
       "      <td>0</td>\n",
       "      <td>1</td>\n",
       "      <td>1</td>\n",
       "      <td>0</td>\n",
       "      <td>2</td>\n",
       "      <td>1</td>\n",
       "      <td>0</td>\n",
       "      <td>1</td>\n",
       "      <td>0</td>\n",
       "      <td>0</td>\n",
       "      <td>0</td>\n",
       "      <td>0</td>\n",
       "      <td>0</td>\n",
       "      <td>0</td>\n",
       "      <td>1</td>\n",
       "      <td>4.772177</td>\n",
       "      <td>2434.234222</td>\n",
       "      <td>17505.192460</td>\n",
       "      <td>2</td>\n",
       "      <td>4</td>\n",
       "      <td>4</td>\n",
       "      <td>4</td>\n",
       "      <td>3</td>\n",
       "      <td>4</td>\n",
       "      <td>3</td>\n",
       "      <td>3</td>\n",
       "      <td>-0.024795</td>\n",
       "      <td>-0.967981</td>\n",
       "      <td>0.046227</td>\n",
       "      <td>-0.634713</td>\n",
       "      <td>-0.001389</td>\n",
       "    </tr>\n",
       "    <tr>\n",
       "      <th>3</th>\n",
       "      <td>0</td>\n",
       "      <td>78</td>\n",
       "      <td>39741.49</td>\n",
       "      <td>1</td>\n",
       "      <td>1</td>\n",
       "      <td>0</td>\n",
       "      <td>16.576858</td>\n",
       "      <td>4</td>\n",
       "      <td>1</td>\n",
       "      <td>0</td>\n",
       "      <td>0</td>\n",
       "      <td>1</td>\n",
       "      <td>0</td>\n",
       "      <td>1</td>\n",
       "      <td>2</td>\n",
       "      <td>0</td>\n",
       "      <td>1</td>\n",
       "      <td>0</td>\n",
       "      <td>0</td>\n",
       "      <td>0</td>\n",
       "      <td>0</td>\n",
       "      <td>0</td>\n",
       "      <td>1</td>\n",
       "      <td>1</td>\n",
       "      <td>1</td>\n",
       "      <td>1.714879</td>\n",
       "      <td>2127.830423</td>\n",
       "      <td>12993.437350</td>\n",
       "      <td>3</td>\n",
       "      <td>5</td>\n",
       "      <td>5</td>\n",
       "      <td>3</td>\n",
       "      <td>4</td>\n",
       "      <td>5</td>\n",
       "      <td>5</td>\n",
       "      <td>5</td>\n",
       "      <td>1.186592</td>\n",
       "      <td>-0.967981</td>\n",
       "      <td>-0.687811</td>\n",
       "      <td>-0.634713</td>\n",
       "      <td>-0.001389</td>\n",
       "    </tr>\n",
       "    <tr>\n",
       "      <th>4</th>\n",
       "      <td>1</td>\n",
       "      <td>22</td>\n",
       "      <td>1209.56</td>\n",
       "      <td>0</td>\n",
       "      <td>2</td>\n",
       "      <td>0</td>\n",
       "      <td>17.439069</td>\n",
       "      <td>5</td>\n",
       "      <td>0</td>\n",
       "      <td>2</td>\n",
       "      <td>1</td>\n",
       "      <td>1</td>\n",
       "      <td>0</td>\n",
       "      <td>0</td>\n",
       "      <td>1</td>\n",
       "      <td>0</td>\n",
       "      <td>0</td>\n",
       "      <td>0</td>\n",
       "      <td>1</td>\n",
       "      <td>0</td>\n",
       "      <td>0</td>\n",
       "      <td>1</td>\n",
       "      <td>0</td>\n",
       "      <td>0</td>\n",
       "      <td>2</td>\n",
       "      <td>1.254807</td>\n",
       "      <td>2113.073274</td>\n",
       "      <td>3716.525786</td>\n",
       "      <td>2</td>\n",
       "      <td>1</td>\n",
       "      <td>3</td>\n",
       "      <td>3</td>\n",
       "      <td>5</td>\n",
       "      <td>3</td>\n",
       "      <td>4</td>\n",
       "      <td>3</td>\n",
       "      <td>-1.526914</td>\n",
       "      <td>-0.011667</td>\n",
       "      <td>-0.260366</td>\n",
       "      <td>2.547602</td>\n",
       "      <td>-0.993387</td>\n",
       "    </tr>\n",
       "    <tr>\n",
       "      <th>...</th>\n",
       "      <td>...</td>\n",
       "      <td>...</td>\n",
       "      <td>...</td>\n",
       "      <td>...</td>\n",
       "      <td>...</td>\n",
       "      <td>...</td>\n",
       "      <td>...</td>\n",
       "      <td>...</td>\n",
       "      <td>...</td>\n",
       "      <td>...</td>\n",
       "      <td>...</td>\n",
       "      <td>...</td>\n",
       "      <td>...</td>\n",
       "      <td>...</td>\n",
       "      <td>...</td>\n",
       "      <td>...</td>\n",
       "      <td>...</td>\n",
       "      <td>...</td>\n",
       "      <td>...</td>\n",
       "      <td>...</td>\n",
       "      <td>...</td>\n",
       "      <td>...</td>\n",
       "      <td>...</td>\n",
       "      <td>...</td>\n",
       "      <td>...</td>\n",
       "      <td>...</td>\n",
       "      <td>...</td>\n",
       "      <td>...</td>\n",
       "      <td>...</td>\n",
       "      <td>...</td>\n",
       "      <td>...</td>\n",
       "      <td>...</td>\n",
       "      <td>...</td>\n",
       "      <td>...</td>\n",
       "      <td>...</td>\n",
       "      <td>...</td>\n",
       "      <td>...</td>\n",
       "      <td>...</td>\n",
       "      <td>...</td>\n",
       "      <td>...</td>\n",
       "      <td>...</td>\n",
       "    </tr>\n",
       "    <tr>\n",
       "      <th>9995</th>\n",
       "      <td>2</td>\n",
       "      <td>25</td>\n",
       "      <td>45967.61</td>\n",
       "      <td>0</td>\n",
       "      <td>1</td>\n",
       "      <td>0</td>\n",
       "      <td>16.980860</td>\n",
       "      <td>4</td>\n",
       "      <td>2</td>\n",
       "      <td>1</td>\n",
       "      <td>0</td>\n",
       "      <td>3</td>\n",
       "      <td>1</td>\n",
       "      <td>0</td>\n",
       "      <td>2</td>\n",
       "      <td>0</td>\n",
       "      <td>0</td>\n",
       "      <td>0</td>\n",
       "      <td>0</td>\n",
       "      <td>0</td>\n",
       "      <td>1</td>\n",
       "      <td>0</td>\n",
       "      <td>1</td>\n",
       "      <td>0</td>\n",
       "      <td>3</td>\n",
       "      <td>51.561220</td>\n",
       "      <td>6850.942000</td>\n",
       "      <td>8927.642000</td>\n",
       "      <td>3</td>\n",
       "      <td>2</td>\n",
       "      <td>2</td>\n",
       "      <td>3</td>\n",
       "      <td>4</td>\n",
       "      <td>3</td>\n",
       "      <td>4</td>\n",
       "      <td>2</td>\n",
       "      <td>-1.381548</td>\n",
       "      <td>-0.967981</td>\n",
       "      <td>-0.487525</td>\n",
       "      <td>0.956445</td>\n",
       "      <td>0.990609</td>\n",
       "    </tr>\n",
       "    <tr>\n",
       "      <th>9996</th>\n",
       "      <td>4</td>\n",
       "      <td>87</td>\n",
       "      <td>14983.02</td>\n",
       "      <td>0</td>\n",
       "      <td>1</td>\n",
       "      <td>1</td>\n",
       "      <td>18.177020</td>\n",
       "      <td>5</td>\n",
       "      <td>0</td>\n",
       "      <td>0</td>\n",
       "      <td>0</td>\n",
       "      <td>1</td>\n",
       "      <td>1</td>\n",
       "      <td>0</td>\n",
       "      <td>2</td>\n",
       "      <td>1</td>\n",
       "      <td>1</td>\n",
       "      <td>1</td>\n",
       "      <td>0</td>\n",
       "      <td>0</td>\n",
       "      <td>0</td>\n",
       "      <td>0</td>\n",
       "      <td>0</td>\n",
       "      <td>1</td>\n",
       "      <td>2</td>\n",
       "      <td>68.668240</td>\n",
       "      <td>7741.690000</td>\n",
       "      <td>28507.150000</td>\n",
       "      <td>3</td>\n",
       "      <td>3</td>\n",
       "      <td>4</td>\n",
       "      <td>2</td>\n",
       "      <td>5</td>\n",
       "      <td>3</td>\n",
       "      <td>4</td>\n",
       "      <td>4</td>\n",
       "      <td>1.622691</td>\n",
       "      <td>-0.011667</td>\n",
       "      <td>0.105476</td>\n",
       "      <td>-0.634713</td>\n",
       "      <td>-0.993387</td>\n",
       "    </tr>\n",
       "    <tr>\n",
       "      <th>9997</th>\n",
       "      <td>3</td>\n",
       "      <td>45</td>\n",
       "      <td>65917.81</td>\n",
       "      <td>0</td>\n",
       "      <td>2</td>\n",
       "      <td>1</td>\n",
       "      <td>17.129070</td>\n",
       "      <td>4</td>\n",
       "      <td>2</td>\n",
       "      <td>0</td>\n",
       "      <td>1</td>\n",
       "      <td>1</td>\n",
       "      <td>1</td>\n",
       "      <td>0</td>\n",
       "      <td>3</td>\n",
       "      <td>1</td>\n",
       "      <td>0</td>\n",
       "      <td>0</td>\n",
       "      <td>0</td>\n",
       "      <td>0</td>\n",
       "      <td>1</td>\n",
       "      <td>1</td>\n",
       "      <td>0</td>\n",
       "      <td>0</td>\n",
       "      <td>3</td>\n",
       "      <td>70.154180</td>\n",
       "      <td>8276.481000</td>\n",
       "      <td>15281.210000</td>\n",
       "      <td>3</td>\n",
       "      <td>3</td>\n",
       "      <td>3</td>\n",
       "      <td>4</td>\n",
       "      <td>4</td>\n",
       "      <td>2</td>\n",
       "      <td>3</td>\n",
       "      <td>2</td>\n",
       "      <td>-0.412438</td>\n",
       "      <td>-0.967981</td>\n",
       "      <td>-0.414049</td>\n",
       "      <td>-0.634713</td>\n",
       "      <td>0.990609</td>\n",
       "    </tr>\n",
       "    <tr>\n",
       "      <th>9998</th>\n",
       "      <td>3</td>\n",
       "      <td>43</td>\n",
       "      <td>29702.32</td>\n",
       "      <td>0</td>\n",
       "      <td>1</td>\n",
       "      <td>1</td>\n",
       "      <td>19.910430</td>\n",
       "      <td>5</td>\n",
       "      <td>2</td>\n",
       "      <td>1</td>\n",
       "      <td>0</td>\n",
       "      <td>3</td>\n",
       "      <td>0</td>\n",
       "      <td>0</td>\n",
       "      <td>2</td>\n",
       "      <td>1</td>\n",
       "      <td>0</td>\n",
       "      <td>0</td>\n",
       "      <td>0</td>\n",
       "      <td>1</td>\n",
       "      <td>0</td>\n",
       "      <td>0</td>\n",
       "      <td>0</td>\n",
       "      <td>0</td>\n",
       "      <td>1</td>\n",
       "      <td>63.356900</td>\n",
       "      <td>7644.483000</td>\n",
       "      <td>7781.678000</td>\n",
       "      <td>5</td>\n",
       "      <td>5</td>\n",
       "      <td>3</td>\n",
       "      <td>4</td>\n",
       "      <td>4</td>\n",
       "      <td>3</td>\n",
       "      <td>4</td>\n",
       "      <td>3</td>\n",
       "      <td>-0.509349</td>\n",
       "      <td>-0.011667</td>\n",
       "      <td>0.964820</td>\n",
       "      <td>0.956445</td>\n",
       "      <td>0.990609</td>\n",
       "    </tr>\n",
       "    <tr>\n",
       "      <th>9999</th>\n",
       "      <td>8</td>\n",
       "      <td>70</td>\n",
       "      <td>62682.63</td>\n",
       "      <td>0</td>\n",
       "      <td>2</td>\n",
       "      <td>1</td>\n",
       "      <td>18.388620</td>\n",
       "      <td>5</td>\n",
       "      <td>0</td>\n",
       "      <td>1</td>\n",
       "      <td>0</td>\n",
       "      <td>2</td>\n",
       "      <td>0</td>\n",
       "      <td>0</td>\n",
       "      <td>1</td>\n",
       "      <td>1</td>\n",
       "      <td>1</td>\n",
       "      <td>0</td>\n",
       "      <td>1</td>\n",
       "      <td>0</td>\n",
       "      <td>0</td>\n",
       "      <td>1</td>\n",
       "      <td>0</td>\n",
       "      <td>0</td>\n",
       "      <td>1</td>\n",
       "      <td>70.850590</td>\n",
       "      <td>7887.553000</td>\n",
       "      <td>11643.190000</td>\n",
       "      <td>4</td>\n",
       "      <td>3</td>\n",
       "      <td>3</td>\n",
       "      <td>2</td>\n",
       "      <td>3</td>\n",
       "      <td>6</td>\n",
       "      <td>4</td>\n",
       "      <td>3</td>\n",
       "      <td>0.798948</td>\n",
       "      <td>-0.011667</td>\n",
       "      <td>0.210377</td>\n",
       "      <td>0.956445</td>\n",
       "      <td>-0.993387</td>\n",
       "    </tr>\n",
       "  </tbody>\n",
       "</table>\n",
       "<p>10000 rows × 41 columns</p>\n",
       "</div>"
      ],
      "text/plain": [
       "      Children  Age    Income  Marital  Gender  ReAdmis  VitD_levels  \\\n",
       "0            1   53  86575.93        0       1        0    19.141466   \n",
       "1            3   51  46805.99        1       2        0    18.940352   \n",
       "2            3   53  14370.14        0       2        0    18.057507   \n",
       "3            0   78  39741.49        1       1        0    16.576858   \n",
       "4            1   22   1209.56        0       2        0    17.439069   \n",
       "...        ...  ...       ...      ...     ...      ...          ...   \n",
       "9995         2   25  45967.61        0       1        0    16.980860   \n",
       "9996         4   87  14983.02        0       1        1    18.177020   \n",
       "9997         3   45  65917.81        0       2        1    17.129070   \n",
       "9998         3   43  29702.32        0       1        1    19.910430   \n",
       "9999         8   70  62682.63        0       2        1    18.388620   \n",
       "\n",
       "      Doc_visits  Full_meals_eaten  vitD_supp  Soft_drink  Initial_admin  \\\n",
       "0              6                 0          0           0              3   \n",
       "1              4                 2          1           0              3   \n",
       "2              4                 1          0           0              1   \n",
       "3              4                 1          0           0              1   \n",
       "4              5                 0          2           1              1   \n",
       "...          ...               ...        ...         ...            ...   \n",
       "9995           4                 2          1           0              3   \n",
       "9996           5                 0          0           0              1   \n",
       "9997           4                 2          0           1              1   \n",
       "9998           5                 2          1           0              3   \n",
       "9999           5                 0          1           0              2   \n",
       "\n",
       "      HighBlood  Stroke  Complication_risk  Overweight  Arthritis  Diabetes  \\\n",
       "0             1       0                  2           0          1         1   \n",
       "1             1       0                  3           1          0         0   \n",
       "2             1       0                  2           1          0         1   \n",
       "3             0       1                  2           0          1         0   \n",
       "4             0       0                  1           0          0         0   \n",
       "...         ...     ...                ...         ...        ...       ...   \n",
       "9995          1       0                  2           0          0         0   \n",
       "9996          1       0                  2           1          1         1   \n",
       "9997          1       0                  3           1          0         0   \n",
       "9998          0       0                  2           1          0         0   \n",
       "9999          0       0                  1           1          1         0   \n",
       "\n",
       "      Hyperlipidemia  BackPain  Anxiety  Allergic_rhinitis  \\\n",
       "0                  0         1        1                  1   \n",
       "1                  0         0        0                  0   \n",
       "2                  0         0        0                  0   \n",
       "3                  0         0        0                  0   \n",
       "4                  1         0        0                  1   \n",
       "...              ...       ...      ...                ...   \n",
       "9995               0         0        1                  0   \n",
       "9996               0         0        0                  0   \n",
       "9997               0         0        1                  1   \n",
       "9998               0         1        0                  0   \n",
       "9999               1         0        0                  1   \n",
       "\n",
       "      Reflux_esophagitis  Asthma  Services  Initial_days  TotalCharge  \\\n",
       "0                      0       1         1     10.585770  3726.702860   \n",
       "1                      1       0         3     15.129562  4193.190458   \n",
       "2                      0       0         1      4.772177  2434.234222   \n",
       "3                      1       1         1      1.714879  2127.830423   \n",
       "4                      0       0         2      1.254807  2113.073274   \n",
       "...                  ...     ...       ...           ...          ...   \n",
       "9995                   1       0         3     51.561220  6850.942000   \n",
       "9996                   0       1         2     68.668240  7741.690000   \n",
       "9997                   0       0         3     70.154180  8276.481000   \n",
       "9998                   0       0         1     63.356900  7644.483000   \n",
       "9999                   0       0         1     70.850590  7887.553000   \n",
       "\n",
       "      Additional_charges  Timely_admis  Timely_treat  Timely_visits  \\\n",
       "0           17939.403420             3             3              2   \n",
       "1           17612.998120             3             4              3   \n",
       "2           17505.192460             2             4              4   \n",
       "3           12993.437350             3             5              5   \n",
       "4            3716.525786             2             1              3   \n",
       "...                  ...           ...           ...            ...   \n",
       "9995         8927.642000             3             2              2   \n",
       "9996        28507.150000             3             3              4   \n",
       "9997        15281.210000             3             3              3   \n",
       "9998         7781.678000             5             5              3   \n",
       "9999        11643.190000             4             3              3   \n",
       "\n",
       "      Reliability  Options  Hrs_treat  Courteous  Active_listen  z_score_age  \\\n",
       "0               2        4          3          3              4    -0.024795   \n",
       "1               4        4          4          3              3    -0.121706   \n",
       "2               4        3          4          3              3    -0.024795   \n",
       "3               3        4          5          5              5     1.186592   \n",
       "4               3        5          3          4              3    -1.526914   \n",
       "...           ...      ...        ...        ...            ...          ...   \n",
       "9995            3        4          3          4              2    -1.381548   \n",
       "9996            2        5          3          4              4     1.622691   \n",
       "9997            4        4          2          3              2    -0.412438   \n",
       "9998            4        4          3          4              3    -0.509349   \n",
       "9999            2        3          6          4              3     0.798948   \n",
       "\n",
       "      z_score_doc_visits  z_score_vitd  z_score_vitd_supp  z_score_meals  \n",
       "0               0.944647      0.583603          -0.634713      -0.993387  \n",
       "1              -0.967981      0.483901           0.956445       0.990609  \n",
       "2              -0.967981      0.046227          -0.634713      -0.001389  \n",
       "3              -0.967981     -0.687811          -0.634713      -0.001389  \n",
       "4              -0.011667     -0.260366           2.547602      -0.993387  \n",
       "...                  ...           ...                ...            ...  \n",
       "9995           -0.967981     -0.487525           0.956445       0.990609  \n",
       "9996           -0.011667      0.105476          -0.634713      -0.993387  \n",
       "9997           -0.967981     -0.414049          -0.634713       0.990609  \n",
       "9998           -0.011667      0.964820           0.956445       0.990609  \n",
       "9999           -0.011667      0.210377           0.956445      -0.993387  \n",
       "\n",
       "[10000 rows x 41 columns]"
      ]
     },
     "execution_count": 361,
     "metadata": {},
     "output_type": "execute_result"
    }
   ],
   "source": [
    "# check that changes were completed for the three variables above: Initial_admin, Complication_risk, Services\n",
    "med_data"
   ]
  },
  {
   "cell_type": "code",
   "execution_count": 362,
   "id": "802e1ea7",
   "metadata": {},
   "outputs": [
    {
     "data": {
      "text/html": [
       "<div>\n",
       "<style scoped>\n",
       "    .dataframe tbody tr th:only-of-type {\n",
       "        vertical-align: middle;\n",
       "    }\n",
       "\n",
       "    .dataframe tbody tr th {\n",
       "        vertical-align: top;\n",
       "    }\n",
       "\n",
       "    .dataframe thead th {\n",
       "        text-align: right;\n",
       "    }\n",
       "</style>\n",
       "<table border=\"1\" class=\"dataframe\">\n",
       "  <thead>\n",
       "    <tr style=\"text-align: right;\">\n",
       "      <th></th>\n",
       "      <th>Children</th>\n",
       "      <th>Age</th>\n",
       "      <th>Income</th>\n",
       "      <th>Marital</th>\n",
       "      <th>Gender</th>\n",
       "      <th>ReAdmis</th>\n",
       "      <th>VitD_levels</th>\n",
       "      <th>Doc_visits</th>\n",
       "      <th>Full_meals_eaten</th>\n",
       "      <th>vitD_supp</th>\n",
       "      <th>Soft_drink</th>\n",
       "      <th>Initial_admin</th>\n",
       "      <th>HighBlood</th>\n",
       "      <th>Stroke</th>\n",
       "      <th>Complication_risk</th>\n",
       "      <th>Overweight</th>\n",
       "      <th>Arthritis</th>\n",
       "      <th>Diabetes</th>\n",
       "      <th>Hyperlipidemia</th>\n",
       "      <th>BackPain</th>\n",
       "      <th>Anxiety</th>\n",
       "      <th>Allergic_rhinitis</th>\n",
       "      <th>Reflux_esophagitis</th>\n",
       "      <th>Asthma</th>\n",
       "      <th>Services</th>\n",
       "      <th>Initial_days</th>\n",
       "      <th>TotalCharge</th>\n",
       "      <th>Additional_charges</th>\n",
       "      <th>Timely_admis</th>\n",
       "      <th>Timely_treat</th>\n",
       "      <th>Timely_visits</th>\n",
       "      <th>Reliability</th>\n",
       "      <th>Options</th>\n",
       "      <th>Hrs_treat</th>\n",
       "      <th>Courteous</th>\n",
       "      <th>Active_listen</th>\n",
       "      <th>z_score_age</th>\n",
       "      <th>z_score_doc_visits</th>\n",
       "      <th>z_score_vitd</th>\n",
       "      <th>z_score_vitd_supp</th>\n",
       "      <th>z_score_meals</th>\n",
       "    </tr>\n",
       "  </thead>\n",
       "  <tbody>\n",
       "    <tr>\n",
       "      <th>count</th>\n",
       "      <td>10000.000000</td>\n",
       "      <td>10000.000000</td>\n",
       "      <td>10000.000000</td>\n",
       "      <td>10000.000000</td>\n",
       "      <td>10000.000000</td>\n",
       "      <td>10000.000000</td>\n",
       "      <td>10000.000000</td>\n",
       "      <td>10000.000000</td>\n",
       "      <td>10000.000000</td>\n",
       "      <td>10000.000000</td>\n",
       "      <td>10000.000000</td>\n",
       "      <td>10000.000000</td>\n",
       "      <td>10000.000000</td>\n",
       "      <td>10000.000000</td>\n",
       "      <td>10000.000000</td>\n",
       "      <td>10000.000000</td>\n",
       "      <td>10000.000000</td>\n",
       "      <td>10000.00000</td>\n",
       "      <td>10000.000000</td>\n",
       "      <td>10000.000000</td>\n",
       "      <td>10000.000000</td>\n",
       "      <td>10000.000000</td>\n",
       "      <td>10000.000000</td>\n",
       "      <td>10000.00000</td>\n",
       "      <td>10000.000000</td>\n",
       "      <td>10000.000000</td>\n",
       "      <td>10000.000000</td>\n",
       "      <td>10000.000000</td>\n",
       "      <td>10000.000000</td>\n",
       "      <td>10000.000000</td>\n",
       "      <td>10000.000000</td>\n",
       "      <td>10000.000000</td>\n",
       "      <td>10000.000000</td>\n",
       "      <td>10000.000000</td>\n",
       "      <td>10000.000000</td>\n",
       "      <td>10000.000000</td>\n",
       "      <td>1.000000e+04</td>\n",
       "      <td>1.000000e+04</td>\n",
       "      <td>1.000000e+04</td>\n",
       "      <td>1.000000e+04</td>\n",
       "      <td>1.000000e+04</td>\n",
       "    </tr>\n",
       "    <tr>\n",
       "      <th>mean</th>\n",
       "      <td>2.097200</td>\n",
       "      <td>53.511700</td>\n",
       "      <td>40490.495160</td>\n",
       "      <td>0.202300</td>\n",
       "      <td>1.544600</td>\n",
       "      <td>0.366900</td>\n",
       "      <td>17.964262</td>\n",
       "      <td>5.012200</td>\n",
       "      <td>1.001400</td>\n",
       "      <td>0.398900</td>\n",
       "      <td>0.257500</td>\n",
       "      <td>2.255600</td>\n",
       "      <td>0.409000</td>\n",
       "      <td>0.199300</td>\n",
       "      <td>2.123300</td>\n",
       "      <td>0.709400</td>\n",
       "      <td>0.357400</td>\n",
       "      <td>0.27380</td>\n",
       "      <td>0.337200</td>\n",
       "      <td>0.411400</td>\n",
       "      <td>0.321500</td>\n",
       "      <td>0.394100</td>\n",
       "      <td>0.413500</td>\n",
       "      <td>0.28930</td>\n",
       "      <td>1.862500</td>\n",
       "      <td>34.455299</td>\n",
       "      <td>5312.172769</td>\n",
       "      <td>12934.528587</td>\n",
       "      <td>3.518800</td>\n",
       "      <td>3.506700</td>\n",
       "      <td>3.511100</td>\n",
       "      <td>3.515100</td>\n",
       "      <td>3.496900</td>\n",
       "      <td>3.522500</td>\n",
       "      <td>3.494000</td>\n",
       "      <td>3.509700</td>\n",
       "      <td>1.147527e-16</td>\n",
       "      <td>3.161915e-17</td>\n",
       "      <td>-8.059331e-16</td>\n",
       "      <td>3.694822e-17</td>\n",
       "      <td>-7.815970e-17</td>\n",
       "    </tr>\n",
       "    <tr>\n",
       "      <th>std</th>\n",
       "      <td>2.163659</td>\n",
       "      <td>20.638538</td>\n",
       "      <td>28521.153293</td>\n",
       "      <td>0.401735</td>\n",
       "      <td>0.539296</td>\n",
       "      <td>0.481983</td>\n",
       "      <td>2.017231</td>\n",
       "      <td>1.045734</td>\n",
       "      <td>1.008117</td>\n",
       "      <td>0.628505</td>\n",
       "      <td>0.437279</td>\n",
       "      <td>0.831347</td>\n",
       "      <td>0.491674</td>\n",
       "      <td>0.399494</td>\n",
       "      <td>0.730172</td>\n",
       "      <td>0.454062</td>\n",
       "      <td>0.479258</td>\n",
       "      <td>0.44593</td>\n",
       "      <td>0.472777</td>\n",
       "      <td>0.492112</td>\n",
       "      <td>0.467076</td>\n",
       "      <td>0.488681</td>\n",
       "      <td>0.492486</td>\n",
       "      <td>0.45346</td>\n",
       "      <td>0.986251</td>\n",
       "      <td>26.309341</td>\n",
       "      <td>2180.393838</td>\n",
       "      <td>6542.601544</td>\n",
       "      <td>1.031966</td>\n",
       "      <td>1.034825</td>\n",
       "      <td>1.032755</td>\n",
       "      <td>1.036282</td>\n",
       "      <td>1.030192</td>\n",
       "      <td>1.032376</td>\n",
       "      <td>1.021405</td>\n",
       "      <td>1.042312</td>\n",
       "      <td>1.000050e+00</td>\n",
       "      <td>1.000050e+00</td>\n",
       "      <td>1.000050e+00</td>\n",
       "      <td>1.000050e+00</td>\n",
       "      <td>1.000050e+00</td>\n",
       "    </tr>\n",
       "    <tr>\n",
       "      <th>min</th>\n",
       "      <td>0.000000</td>\n",
       "      <td>18.000000</td>\n",
       "      <td>154.080000</td>\n",
       "      <td>0.000000</td>\n",
       "      <td>1.000000</td>\n",
       "      <td>0.000000</td>\n",
       "      <td>9.806483</td>\n",
       "      <td>1.000000</td>\n",
       "      <td>0.000000</td>\n",
       "      <td>0.000000</td>\n",
       "      <td>0.000000</td>\n",
       "      <td>1.000000</td>\n",
       "      <td>0.000000</td>\n",
       "      <td>0.000000</td>\n",
       "      <td>1.000000</td>\n",
       "      <td>0.000000</td>\n",
       "      <td>0.000000</td>\n",
       "      <td>0.00000</td>\n",
       "      <td>0.000000</td>\n",
       "      <td>0.000000</td>\n",
       "      <td>0.000000</td>\n",
       "      <td>0.000000</td>\n",
       "      <td>0.000000</td>\n",
       "      <td>0.00000</td>\n",
       "      <td>1.000000</td>\n",
       "      <td>1.001981</td>\n",
       "      <td>1938.312067</td>\n",
       "      <td>3125.703000</td>\n",
       "      <td>1.000000</td>\n",
       "      <td>1.000000</td>\n",
       "      <td>1.000000</td>\n",
       "      <td>1.000000</td>\n",
       "      <td>1.000000</td>\n",
       "      <td>1.000000</td>\n",
       "      <td>1.000000</td>\n",
       "      <td>1.000000</td>\n",
       "      <td>-1.720736e+00</td>\n",
       "      <td>-3.836921e+00</td>\n",
       "      <td>-4.044250e+00</td>\n",
       "      <td>-6.347126e-01</td>\n",
       "      <td>-9.933869e-01</td>\n",
       "    </tr>\n",
       "    <tr>\n",
       "      <th>25%</th>\n",
       "      <td>0.000000</td>\n",
       "      <td>36.000000</td>\n",
       "      <td>19598.775000</td>\n",
       "      <td>0.000000</td>\n",
       "      <td>1.000000</td>\n",
       "      <td>0.000000</td>\n",
       "      <td>16.626439</td>\n",
       "      <td>4.000000</td>\n",
       "      <td>0.000000</td>\n",
       "      <td>0.000000</td>\n",
       "      <td>0.000000</td>\n",
       "      <td>1.000000</td>\n",
       "      <td>0.000000</td>\n",
       "      <td>0.000000</td>\n",
       "      <td>2.000000</td>\n",
       "      <td>0.000000</td>\n",
       "      <td>0.000000</td>\n",
       "      <td>0.00000</td>\n",
       "      <td>0.000000</td>\n",
       "      <td>0.000000</td>\n",
       "      <td>0.000000</td>\n",
       "      <td>0.000000</td>\n",
       "      <td>0.000000</td>\n",
       "      <td>0.00000</td>\n",
       "      <td>1.000000</td>\n",
       "      <td>7.896215</td>\n",
       "      <td>3179.374015</td>\n",
       "      <td>7986.487755</td>\n",
       "      <td>3.000000</td>\n",
       "      <td>3.000000</td>\n",
       "      <td>3.000000</td>\n",
       "      <td>3.000000</td>\n",
       "      <td>3.000000</td>\n",
       "      <td>3.000000</td>\n",
       "      <td>3.000000</td>\n",
       "      <td>3.000000</td>\n",
       "      <td>-8.485376e-01</td>\n",
       "      <td>-9.679806e-01</td>\n",
       "      <td>-6.632309e-01</td>\n",
       "      <td>-6.347126e-01</td>\n",
       "      <td>-9.933869e-01</td>\n",
       "    </tr>\n",
       "    <tr>\n",
       "      <th>50%</th>\n",
       "      <td>1.000000</td>\n",
       "      <td>53.000000</td>\n",
       "      <td>33768.420000</td>\n",
       "      <td>0.000000</td>\n",
       "      <td>2.000000</td>\n",
       "      <td>0.000000</td>\n",
       "      <td>17.951122</td>\n",
       "      <td>5.000000</td>\n",
       "      <td>1.000000</td>\n",
       "      <td>0.000000</td>\n",
       "      <td>0.000000</td>\n",
       "      <td>3.000000</td>\n",
       "      <td>0.000000</td>\n",
       "      <td>0.000000</td>\n",
       "      <td>2.000000</td>\n",
       "      <td>1.000000</td>\n",
       "      <td>0.000000</td>\n",
       "      <td>0.00000</td>\n",
       "      <td>0.000000</td>\n",
       "      <td>0.000000</td>\n",
       "      <td>0.000000</td>\n",
       "      <td>0.000000</td>\n",
       "      <td>0.000000</td>\n",
       "      <td>0.00000</td>\n",
       "      <td>1.000000</td>\n",
       "      <td>35.836244</td>\n",
       "      <td>5213.952000</td>\n",
       "      <td>11573.977735</td>\n",
       "      <td>4.000000</td>\n",
       "      <td>3.000000</td>\n",
       "      <td>4.000000</td>\n",
       "      <td>4.000000</td>\n",
       "      <td>3.000000</td>\n",
       "      <td>4.000000</td>\n",
       "      <td>3.000000</td>\n",
       "      <td>3.000000</td>\n",
       "      <td>-2.479466e-02</td>\n",
       "      <td>-1.166703e-02</td>\n",
       "      <td>-6.513908e-03</td>\n",
       "      <td>-6.347126e-01</td>\n",
       "      <td>-1.388797e-03</td>\n",
       "    </tr>\n",
       "    <tr>\n",
       "      <th>75%</th>\n",
       "      <td>3.000000</td>\n",
       "      <td>71.000000</td>\n",
       "      <td>54296.402500</td>\n",
       "      <td>0.000000</td>\n",
       "      <td>2.000000</td>\n",
       "      <td>1.000000</td>\n",
       "      <td>19.347963</td>\n",
       "      <td>6.000000</td>\n",
       "      <td>2.000000</td>\n",
       "      <td>1.000000</td>\n",
       "      <td>1.000000</td>\n",
       "      <td>3.000000</td>\n",
       "      <td>1.000000</td>\n",
       "      <td>0.000000</td>\n",
       "      <td>3.000000</td>\n",
       "      <td>1.000000</td>\n",
       "      <td>1.000000</td>\n",
       "      <td>1.00000</td>\n",
       "      <td>1.000000</td>\n",
       "      <td>1.000000</td>\n",
       "      <td>1.000000</td>\n",
       "      <td>1.000000</td>\n",
       "      <td>1.000000</td>\n",
       "      <td>1.00000</td>\n",
       "      <td>3.000000</td>\n",
       "      <td>61.161020</td>\n",
       "      <td>7459.699750</td>\n",
       "      <td>15626.490000</td>\n",
       "      <td>4.000000</td>\n",
       "      <td>4.000000</td>\n",
       "      <td>4.000000</td>\n",
       "      <td>4.000000</td>\n",
       "      <td>4.000000</td>\n",
       "      <td>4.000000</td>\n",
       "      <td>4.000000</td>\n",
       "      <td>4.000000</td>\n",
       "      <td>8.474037e-01</td>\n",
       "      <td>9.446465e-01</td>\n",
       "      <td>6.859750e-01</td>\n",
       "      <td>9.564446e-01</td>\n",
       "      <td>9.906093e-01</td>\n",
       "    </tr>\n",
       "    <tr>\n",
       "      <th>max</th>\n",
       "      <td>10.000000</td>\n",
       "      <td>89.000000</td>\n",
       "      <td>207249.100000</td>\n",
       "      <td>1.000000</td>\n",
       "      <td>3.000000</td>\n",
       "      <td>1.000000</td>\n",
       "      <td>26.394449</td>\n",
       "      <td>9.000000</td>\n",
       "      <td>7.000000</td>\n",
       "      <td>5.000000</td>\n",
       "      <td>1.000000</td>\n",
       "      <td>3.000000</td>\n",
       "      <td>1.000000</td>\n",
       "      <td>1.000000</td>\n",
       "      <td>3.000000</td>\n",
       "      <td>1.000000</td>\n",
       "      <td>1.000000</td>\n",
       "      <td>1.00000</td>\n",
       "      <td>1.000000</td>\n",
       "      <td>1.000000</td>\n",
       "      <td>1.000000</td>\n",
       "      <td>1.000000</td>\n",
       "      <td>1.000000</td>\n",
       "      <td>1.00000</td>\n",
       "      <td>4.000000</td>\n",
       "      <td>71.981490</td>\n",
       "      <td>9180.728000</td>\n",
       "      <td>30566.070000</td>\n",
       "      <td>8.000000</td>\n",
       "      <td>7.000000</td>\n",
       "      <td>8.000000</td>\n",
       "      <td>7.000000</td>\n",
       "      <td>7.000000</td>\n",
       "      <td>7.000000</td>\n",
       "      <td>7.000000</td>\n",
       "      <td>7.000000</td>\n",
       "      <td>1.719602e+00</td>\n",
       "      <td>3.813587e+00</td>\n",
       "      <td>4.179297e+00</td>\n",
       "      <td>7.321074e+00</td>\n",
       "      <td>5.950600e+00</td>\n",
       "    </tr>\n",
       "  </tbody>\n",
       "</table>\n",
       "</div>"
      ],
      "text/plain": [
       "           Children           Age         Income       Marital        Gender  \\\n",
       "count  10000.000000  10000.000000   10000.000000  10000.000000  10000.000000   \n",
       "mean       2.097200     53.511700   40490.495160      0.202300      1.544600   \n",
       "std        2.163659     20.638538   28521.153293      0.401735      0.539296   \n",
       "min        0.000000     18.000000     154.080000      0.000000      1.000000   \n",
       "25%        0.000000     36.000000   19598.775000      0.000000      1.000000   \n",
       "50%        1.000000     53.000000   33768.420000      0.000000      2.000000   \n",
       "75%        3.000000     71.000000   54296.402500      0.000000      2.000000   \n",
       "max       10.000000     89.000000  207249.100000      1.000000      3.000000   \n",
       "\n",
       "            ReAdmis   VitD_levels    Doc_visits  Full_meals_eaten  \\\n",
       "count  10000.000000  10000.000000  10000.000000      10000.000000   \n",
       "mean       0.366900     17.964262      5.012200          1.001400   \n",
       "std        0.481983      2.017231      1.045734          1.008117   \n",
       "min        0.000000      9.806483      1.000000          0.000000   \n",
       "25%        0.000000     16.626439      4.000000          0.000000   \n",
       "50%        0.000000     17.951122      5.000000          1.000000   \n",
       "75%        1.000000     19.347963      6.000000          2.000000   \n",
       "max        1.000000     26.394449      9.000000          7.000000   \n",
       "\n",
       "          vitD_supp    Soft_drink  Initial_admin     HighBlood        Stroke  \\\n",
       "count  10000.000000  10000.000000   10000.000000  10000.000000  10000.000000   \n",
       "mean       0.398900      0.257500       2.255600      0.409000      0.199300   \n",
       "std        0.628505      0.437279       0.831347      0.491674      0.399494   \n",
       "min        0.000000      0.000000       1.000000      0.000000      0.000000   \n",
       "25%        0.000000      0.000000       1.000000      0.000000      0.000000   \n",
       "50%        0.000000      0.000000       3.000000      0.000000      0.000000   \n",
       "75%        1.000000      1.000000       3.000000      1.000000      0.000000   \n",
       "max        5.000000      1.000000       3.000000      1.000000      1.000000   \n",
       "\n",
       "       Complication_risk    Overweight     Arthritis     Diabetes  \\\n",
       "count       10000.000000  10000.000000  10000.000000  10000.00000   \n",
       "mean            2.123300      0.709400      0.357400      0.27380   \n",
       "std             0.730172      0.454062      0.479258      0.44593   \n",
       "min             1.000000      0.000000      0.000000      0.00000   \n",
       "25%             2.000000      0.000000      0.000000      0.00000   \n",
       "50%             2.000000      1.000000      0.000000      0.00000   \n",
       "75%             3.000000      1.000000      1.000000      1.00000   \n",
       "max             3.000000      1.000000      1.000000      1.00000   \n",
       "\n",
       "       Hyperlipidemia      BackPain       Anxiety  Allergic_rhinitis  \\\n",
       "count    10000.000000  10000.000000  10000.000000       10000.000000   \n",
       "mean         0.337200      0.411400      0.321500           0.394100   \n",
       "std          0.472777      0.492112      0.467076           0.488681   \n",
       "min          0.000000      0.000000      0.000000           0.000000   \n",
       "25%          0.000000      0.000000      0.000000           0.000000   \n",
       "50%          0.000000      0.000000      0.000000           0.000000   \n",
       "75%          1.000000      1.000000      1.000000           1.000000   \n",
       "max          1.000000      1.000000      1.000000           1.000000   \n",
       "\n",
       "       Reflux_esophagitis       Asthma      Services  Initial_days  \\\n",
       "count        10000.000000  10000.00000  10000.000000  10000.000000   \n",
       "mean             0.413500      0.28930      1.862500     34.455299   \n",
       "std              0.492486      0.45346      0.986251     26.309341   \n",
       "min              0.000000      0.00000      1.000000      1.001981   \n",
       "25%              0.000000      0.00000      1.000000      7.896215   \n",
       "50%              0.000000      0.00000      1.000000     35.836244   \n",
       "75%              1.000000      1.00000      3.000000     61.161020   \n",
       "max              1.000000      1.00000      4.000000     71.981490   \n",
       "\n",
       "        TotalCharge  Additional_charges  Timely_admis  Timely_treat  \\\n",
       "count  10000.000000        10000.000000  10000.000000  10000.000000   \n",
       "mean    5312.172769        12934.528587      3.518800      3.506700   \n",
       "std     2180.393838         6542.601544      1.031966      1.034825   \n",
       "min     1938.312067         3125.703000      1.000000      1.000000   \n",
       "25%     3179.374015         7986.487755      3.000000      3.000000   \n",
       "50%     5213.952000        11573.977735      4.000000      3.000000   \n",
       "75%     7459.699750        15626.490000      4.000000      4.000000   \n",
       "max     9180.728000        30566.070000      8.000000      7.000000   \n",
       "\n",
       "       Timely_visits   Reliability       Options     Hrs_treat     Courteous  \\\n",
       "count   10000.000000  10000.000000  10000.000000  10000.000000  10000.000000   \n",
       "mean        3.511100      3.515100      3.496900      3.522500      3.494000   \n",
       "std         1.032755      1.036282      1.030192      1.032376      1.021405   \n",
       "min         1.000000      1.000000      1.000000      1.000000      1.000000   \n",
       "25%         3.000000      3.000000      3.000000      3.000000      3.000000   \n",
       "50%         4.000000      4.000000      3.000000      4.000000      3.000000   \n",
       "75%         4.000000      4.000000      4.000000      4.000000      4.000000   \n",
       "max         8.000000      7.000000      7.000000      7.000000      7.000000   \n",
       "\n",
       "       Active_listen   z_score_age  z_score_doc_visits  z_score_vitd  \\\n",
       "count   10000.000000  1.000000e+04        1.000000e+04  1.000000e+04   \n",
       "mean        3.509700  1.147527e-16        3.161915e-17 -8.059331e-16   \n",
       "std         1.042312  1.000050e+00        1.000050e+00  1.000050e+00   \n",
       "min         1.000000 -1.720736e+00       -3.836921e+00 -4.044250e+00   \n",
       "25%         3.000000 -8.485376e-01       -9.679806e-01 -6.632309e-01   \n",
       "50%         3.000000 -2.479466e-02       -1.166703e-02 -6.513908e-03   \n",
       "75%         4.000000  8.474037e-01        9.446465e-01  6.859750e-01   \n",
       "max         7.000000  1.719602e+00        3.813587e+00  4.179297e+00   \n",
       "\n",
       "       z_score_vitd_supp  z_score_meals  \n",
       "count       1.000000e+04   1.000000e+04  \n",
       "mean        3.694822e-17  -7.815970e-17  \n",
       "std         1.000050e+00   1.000050e+00  \n",
       "min        -6.347126e-01  -9.933869e-01  \n",
       "25%        -6.347126e-01  -9.933869e-01  \n",
       "50%        -6.347126e-01  -1.388797e-03  \n",
       "75%         9.564446e-01   9.906093e-01  \n",
       "max         7.321074e+00   5.950600e+00  "
      ]
     },
     "execution_count": 362,
     "metadata": {},
     "output_type": "execute_result"
    }
   ],
   "source": [
    "# describe the dataframe to identify distribution of variables\n",
    "med_data.describe()"
   ]
  },
  {
   "cell_type": "markdown",
   "id": "8e012cc9",
   "metadata": {},
   "source": [
    "Any categorical variables that have > 3-5 unique values would be removed to reduce high cardinality. The categoricals with high cardinality are Services, Timely_admis, Timely_treat, Timely_visits, Reliability, Options, Hrs_treat, Courteous, Active_listen. Listed below are the summary statistics for the independent and dependent variables of the MLR."
   ]
  },
  {
   "cell_type": "code",
   "execution_count": 363,
   "id": "23fc8873",
   "metadata": {},
   "outputs": [
    {
     "data": {
      "text/plain": [
       "count    10000.000000\n",
       "mean         0.409000\n",
       "std          0.491674\n",
       "min          0.000000\n",
       "25%          0.000000\n",
       "50%          0.000000\n",
       "75%          1.000000\n",
       "max          1.000000\n",
       "Name: HighBlood, dtype: float64"
      ]
     },
     "execution_count": 363,
     "metadata": {},
     "output_type": "execute_result"
    }
   ],
   "source": [
    "med_data['HighBlood'].describe()"
   ]
  },
  {
   "cell_type": "code",
   "execution_count": 364,
   "id": "db064233",
   "metadata": {},
   "outputs": [
    {
     "data": {
      "text/plain": [
       "count    10000.000000\n",
       "mean        53.511700\n",
       "std         20.638538\n",
       "min         18.000000\n",
       "25%         36.000000\n",
       "50%         53.000000\n",
       "75%         71.000000\n",
       "max         89.000000\n",
       "Name: Age, dtype: float64"
      ]
     },
     "execution_count": 364,
     "metadata": {},
     "output_type": "execute_result"
    }
   ],
   "source": [
    "med_data['Age'].describe()"
   ]
  },
  {
   "cell_type": "code",
   "execution_count": 365,
   "id": "a74895dc",
   "metadata": {},
   "outputs": [
    {
     "data": {
      "text/plain": [
       "count    10000.000000\n",
       "mean         5.012200\n",
       "std          1.045734\n",
       "min          1.000000\n",
       "25%          4.000000\n",
       "50%          5.000000\n",
       "75%          6.000000\n",
       "max          9.000000\n",
       "Name: Doc_visits, dtype: float64"
      ]
     },
     "execution_count": 365,
     "metadata": {},
     "output_type": "execute_result"
    }
   ],
   "source": [
    "med_data['Doc_visits'].describe()"
   ]
  },
  {
   "cell_type": "code",
   "execution_count": 366,
   "id": "1ca1f8e0",
   "metadata": {},
   "outputs": [
    {
     "data": {
      "text/plain": [
       "count    10000.000000\n",
       "mean        17.964262\n",
       "std          2.017231\n",
       "min          9.806483\n",
       "25%         16.626439\n",
       "50%         17.951122\n",
       "75%         19.347963\n",
       "max         26.394449\n",
       "Name: VitD_levels, dtype: float64"
      ]
     },
     "execution_count": 366,
     "metadata": {},
     "output_type": "execute_result"
    }
   ],
   "source": [
    "med_data['VitD_levels'].describe()"
   ]
  },
  {
   "cell_type": "code",
   "execution_count": 367,
   "id": "0f4956e1",
   "metadata": {},
   "outputs": [
    {
     "data": {
      "text/plain": [
       "count    10000.000000\n",
       "mean         0.398900\n",
       "std          0.628505\n",
       "min          0.000000\n",
       "25%          0.000000\n",
       "50%          0.000000\n",
       "75%          1.000000\n",
       "max          5.000000\n",
       "Name: vitD_supp, dtype: float64"
      ]
     },
     "execution_count": 367,
     "metadata": {},
     "output_type": "execute_result"
    }
   ],
   "source": [
    "med_data['vitD_supp'].describe()"
   ]
  },
  {
   "cell_type": "code",
   "execution_count": 368,
   "id": "9eb35347",
   "metadata": {},
   "outputs": [
    {
     "data": {
      "text/plain": [
       "count    10000.000000\n",
       "mean         1.001400\n",
       "std          1.008117\n",
       "min          0.000000\n",
       "25%          0.000000\n",
       "50%          1.000000\n",
       "75%          2.000000\n",
       "max          7.000000\n",
       "Name: Full_meals_eaten, dtype: float64"
      ]
     },
     "execution_count": 368,
     "metadata": {},
     "output_type": "execute_result"
    }
   ],
   "source": [
    "med_data['Full_meals_eaten'].describe()"
   ]
  },
  {
   "cell_type": "code",
   "execution_count": 369,
   "id": "11a4a622",
   "metadata": {},
   "outputs": [
    {
     "data": {
      "text/plain": [
       "count    10000.000000\n",
       "mean         0.709400\n",
       "std          0.454062\n",
       "min          0.000000\n",
       "25%          0.000000\n",
       "50%          1.000000\n",
       "75%          1.000000\n",
       "max          1.000000\n",
       "Name: Overweight, dtype: float64"
      ]
     },
     "execution_count": 369,
     "metadata": {},
     "output_type": "execute_result"
    }
   ],
   "source": [
    "med_data['Overweight'].describe()"
   ]
  },
  {
   "cell_type": "code",
   "execution_count": 370,
   "id": "ebce2343",
   "metadata": {},
   "outputs": [
    {
     "data": {
      "text/plain": [
       "count    10000.000000\n",
       "mean         0.321500\n",
       "std          0.467076\n",
       "min          0.000000\n",
       "25%          0.000000\n",
       "50%          0.000000\n",
       "75%          1.000000\n",
       "max          1.000000\n",
       "Name: Anxiety, dtype: float64"
      ]
     },
     "execution_count": 370,
     "metadata": {},
     "output_type": "execute_result"
    }
   ],
   "source": [
    "med_data['Anxiety'].describe()"
   ]
  },
  {
   "cell_type": "code",
   "execution_count": 371,
   "id": "7846b626",
   "metadata": {},
   "outputs": [
    {
     "data": {
      "text/plain": [
       "count    10000.000000\n",
       "mean         0.413500\n",
       "std          0.492486\n",
       "min          0.000000\n",
       "25%          0.000000\n",
       "50%          0.000000\n",
       "75%          1.000000\n",
       "max          1.000000\n",
       "Name: Reflux_esophagitis, dtype: float64"
      ]
     },
     "execution_count": 371,
     "metadata": {},
     "output_type": "execute_result"
    }
   ],
   "source": [
    "med_data['Reflux_esophagitis'].describe()"
   ]
  },
  {
   "cell_type": "code",
   "execution_count": 372,
   "id": "b747976b",
   "metadata": {},
   "outputs": [
    {
     "data": {
      "text/plain": [
       "count    10000.000000\n",
       "mean         0.411400\n",
       "std          0.492112\n",
       "min          0.000000\n",
       "25%          0.000000\n",
       "50%          0.000000\n",
       "75%          1.000000\n",
       "max          1.000000\n",
       "Name: BackPain, dtype: float64"
      ]
     },
     "execution_count": 372,
     "metadata": {},
     "output_type": "execute_result"
    }
   ],
   "source": [
    "med_data['BackPain'].describe()"
   ]
  },
  {
   "cell_type": "code",
   "execution_count": 373,
   "id": "1e869aa5",
   "metadata": {},
   "outputs": [
    {
     "data": {
      "text/plain": [
       "count    10000.000000\n",
       "mean         0.337200\n",
       "std          0.472777\n",
       "min          0.000000\n",
       "25%          0.000000\n",
       "50%          0.000000\n",
       "75%          1.000000\n",
       "max          1.000000\n",
       "Name: Hyperlipidemia, dtype: float64"
      ]
     },
     "execution_count": 373,
     "metadata": {},
     "output_type": "execute_result"
    }
   ],
   "source": [
    "med_data['Hyperlipidemia'].describe()"
   ]
  },
  {
   "cell_type": "code",
   "execution_count": 374,
   "id": "0030a4bb",
   "metadata": {},
   "outputs": [
    {
     "data": {
      "text/plain": [
       "count    10000.000000\n",
       "mean         0.199300\n",
       "std          0.399494\n",
       "min          0.000000\n",
       "25%          0.000000\n",
       "50%          0.000000\n",
       "75%          0.000000\n",
       "max          1.000000\n",
       "Name: Stroke, dtype: float64"
      ]
     },
     "execution_count": 374,
     "metadata": {},
     "output_type": "execute_result"
    }
   ],
   "source": [
    "med_data['Stroke'].describe()"
   ]
  },
  {
   "cell_type": "code",
   "execution_count": 375,
   "id": "b1ce09cf",
   "metadata": {},
   "outputs": [
    {
     "data": {
      "text/plain": [
       "count    10000.000000\n",
       "mean         0.357400\n",
       "std          0.479258\n",
       "min          0.000000\n",
       "25%          0.000000\n",
       "50%          0.000000\n",
       "75%          1.000000\n",
       "max          1.000000\n",
       "Name: Arthritis, dtype: float64"
      ]
     },
     "execution_count": 375,
     "metadata": {},
     "output_type": "execute_result"
    }
   ],
   "source": [
    "med_data['Arthritis'].describe()"
   ]
  },
  {
   "cell_type": "code",
   "execution_count": 376,
   "id": "d267b7f7",
   "metadata": {},
   "outputs": [
    {
     "data": {
      "text/plain": [
       "count    10000.00000\n",
       "mean         0.27380\n",
       "std          0.44593\n",
       "min          0.00000\n",
       "25%          0.00000\n",
       "50%          0.00000\n",
       "75%          1.00000\n",
       "max          1.00000\n",
       "Name: Diabetes, dtype: float64"
      ]
     },
     "execution_count": 376,
     "metadata": {},
     "output_type": "execute_result"
    }
   ],
   "source": [
    "med_data['Diabetes'].describe()"
   ]
  },
  {
   "cell_type": "code",
   "execution_count": 377,
   "id": "b5aa2062",
   "metadata": {},
   "outputs": [
    {
     "data": {
      "text/plain": [
       "(array([5910.,    0.,    0.,    0.,    0.,    0.,    0.,    0.,    0.,\n",
       "        4090.]),\n",
       " array([0. , 0.1, 0.2, 0.3, 0.4, 0.5, 0.6, 0.7, 0.8, 0.9, 1. ]),\n",
       " <BarContainer object of 10 artists>)"
      ]
     },
     "execution_count": 377,
     "metadata": {},
     "output_type": "execute_result"
    },
    {
     "data": {
      "image/png": "[encoded data removed]",
      "text/plain": [
       "<Figure size 640x480 with 1 Axes>"
      ]
     },
     "metadata": {},
     "output_type": "display_data"
    }
   ],
   "source": [
    "plt.hist(med_data['HighBlood'])"
   ]
  },
  {
   "cell_type": "code",
   "execution_count": 378,
   "id": "453ce97e",
   "metadata": {},
   "outputs": [
    {
     "data": {
      "text/plain": [
       "(array([1067.,  977.,  981.,  988.,  998.,  977.,  970., 1007.,  948.,\n",
       "        1087.]),\n",
       " array([18. , 25.1, 32.2, 39.3, 46.4, 53.5, 60.6, 67.7, 74.8, 81.9, 89. ]),\n",
       " <BarContainer object of 10 artists>)"
      ]
     },
     "execution_count": 378,
     "metadata": {},
     "output_type": "execute_result"
    },
    {
     "data": {
      "image/png": "[encoded data removed]",
      "text/plain": [
       "<Figure size 640x480 with 1 Axes>"
      ]
     },
     "metadata": {},
     "output_type": "display_data"
    }
   ],
   "source": [
    "plt.hist(med_data['Age'])"
   ]
  },
  {
   "cell_type": "code",
   "execution_count": 379,
   "id": "b8d75fc3",
   "metadata": {},
   "outputs": [
    {
     "data": {
      "text/plain": [
       "(array([6.000e+00, 5.800e+01, 5.950e+02, 2.385e+03, 0.000e+00, 3.823e+03,\n",
       "        2.436e+03, 6.340e+02, 6.100e+01, 2.000e+00]),\n",
       " array([1. , 1.8, 2.6, 3.4, 4.2, 5. , 5.8, 6.6, 7.4, 8.2, 9. ]),\n",
       " <BarContainer object of 10 artists>)"
      ]
     },
     "execution_count": 379,
     "metadata": {},
     "output_type": "execute_result"
    },
    {
     "data": {
      "image/png": "[encoded data removed]",
      "text/plain": [
       "<Figure size 640x480 with 1 Axes>"
      ]
     },
     "metadata": {},
     "output_type": "display_data"
    }
   ],
   "source": [
    "plt.hist(med_data['Doc_visits'])"
   ]
  },
  {
   "cell_type": "code",
   "execution_count": 380,
   "id": "3818fe88",
   "metadata": {},
   "outputs": [
    {
     "data": {
      "text/plain": [
       "(array([   4.,   69.,  498., 1677., 3085., 2769., 1450.,  393.,   51.,\n",
       "           4.]),\n",
       " array([ 9.806483  , 11.46527957, 13.12407614, 14.78287271, 16.44166928,\n",
       "        18.10046585, 19.75926243, 21.418059  , 23.07685557, 24.73565214,\n",
       "        26.39444871]),\n",
       " <BarContainer object of 10 artists>)"
      ]
     },
     "execution_count": 380,
     "metadata": {},
     "output_type": "execute_result"
    },
    {
     "data": {
      "image/png": "[encoded data removed]",
      "text/plain": [
       "<Figure size 640x480 with 1 Axes>"
      ]
     },
     "metadata": {},
     "output_type": "display_data"
    }
   ],
   "source": [
    "plt.hist(med_data['VitD_levels'])"
   ]
  },
  {
   "cell_type": "code",
   "execution_count": 381,
   "id": "60c2f623",
   "metadata": {},
   "outputs": [
    {
     "data": {
      "text/plain": [
       "(array([6.702e+03, 0.000e+00, 2.684e+03, 0.000e+00, 5.440e+02, 0.000e+00,\n",
       "        6.400e+01, 0.000e+00, 5.000e+00, 1.000e+00]),\n",
       " array([0. , 0.5, 1. , 1.5, 2. , 2.5, 3. , 3.5, 4. , 4.5, 5. ]),\n",
       " <BarContainer object of 10 artists>)"
      ]
     },
     "execution_count": 381,
     "metadata": {},
     "output_type": "execute_result"
    },
    {
     "data": {
      "image/png": "[encoded data removed]",
      "text/plain": [
       "<Figure size 640x480 with 1 Axes>"
      ]
     },
     "metadata": {},
     "output_type": "display_data"
    }
   ],
   "source": [
    "plt.hist(med_data['vitD_supp'])"
   ]
  },
  {
   "cell_type": "code",
   "execution_count": 382,
   "id": "5fc111b3",
   "metadata": {},
   "outputs": [
    {
     "data": {
      "text/plain": [
       "(array([3.715e+03, 3.615e+03, 1.856e+03, 0.000e+00, 6.120e+02, 1.690e+02,\n",
       "        0.000e+00, 2.500e+01, 6.000e+00, 2.000e+00]),\n",
       " array([0. , 0.7, 1.4, 2.1, 2.8, 3.5, 4.2, 4.9, 5.6, 6.3, 7. ]),\n",
       " <BarContainer object of 10 artists>)"
      ]
     },
     "execution_count": 382,
     "metadata": {},
     "output_type": "execute_result"
    },
    {
     "data": {
      "image/png": "[encoded data removed]",
      "text/plain": [
       "<Figure size 640x480 with 1 Axes>"
      ]
     },
     "metadata": {},
     "output_type": "display_data"
    }
   ],
   "source": [
    "plt.hist(med_data['Full_meals_eaten'])"
   ]
  },
  {
   "cell_type": "code",
   "execution_count": 383,
   "id": "89313bb3",
   "metadata": {},
   "outputs": [
    {
     "data": {
      "text/plain": [
       "(array([2906.,    0.,    0.,    0.,    0.,    0.,    0.,    0.,    0.,\n",
       "        7094.]),\n",
       " array([0. , 0.1, 0.2, 0.3, 0.4, 0.5, 0.6, 0.7, 0.8, 0.9, 1. ]),\n",
       " <BarContainer object of 10 artists>)"
      ]
     },
     "execution_count": 383,
     "metadata": {},
     "output_type": "execute_result"
    },
    {
     "data": {
      "image/png": "[encoded data removed]",
      "text/plain": [
       "<Figure size 640x480 with 1 Axes>"
      ]
     },
     "metadata": {},
     "output_type": "display_data"
    }
   ],
   "source": [
    "plt.hist(med_data['Overweight'])"
   ]
  },
  {
   "cell_type": "code",
   "execution_count": 384,
   "id": "8816a5a6",
   "metadata": {},
   "outputs": [
    {
     "data": {
      "text/plain": [
       "(array([6785.,    0.,    0.,    0.,    0.,    0.,    0.,    0.,    0.,\n",
       "        3215.]),\n",
       " array([0. , 0.1, 0.2, 0.3, 0.4, 0.5, 0.6, 0.7, 0.8, 0.9, 1. ]),\n",
       " <BarContainer object of 10 artists>)"
      ]
     },
     "execution_count": 384,
     "metadata": {},
     "output_type": "execute_result"
    },
    {
     "data": {
      "image/png": "[encoded data removed]",
      "text/plain": [
       "<Figure size 640x480 with 1 Axes>"
      ]
     },
     "metadata": {},
     "output_type": "display_data"
    }
   ],
   "source": [
    "plt.hist(med_data['Anxiety'])"
   ]
  },
  {
   "cell_type": "code",
   "execution_count": 385,
   "id": "ecd957a3",
   "metadata": {},
   "outputs": [
    {
     "data": {
      "text/plain": [
       "(array([5865.,    0.,    0.,    0.,    0.,    0.,    0.,    0.,    0.,\n",
       "        4135.]),\n",
       " array([0. , 0.1, 0.2, 0.3, 0.4, 0.5, 0.6, 0.7, 0.8, 0.9, 1. ]),\n",
       " <BarContainer object of 10 artists>)"
      ]
     },
     "execution_count": 385,
     "metadata": {},
     "output_type": "execute_result"
    },
    {
     "data": {
      "image/png": "[encoded data removed]",
      "text/plain": [
       "<Figure size 640x480 with 1 Axes>"
      ]
     },
     "metadata": {},
     "output_type": "display_data"
    }
   ],
   "source": [
    "plt.hist(med_data['Reflux_esophagitis'])"
   ]
  },
  {
   "cell_type": "code",
   "execution_count": 386,
   "id": "2de304fe",
   "metadata": {},
   "outputs": [
    {
     "data": {
      "text/plain": [
       "(array([5886.,    0.,    0.,    0.,    0.,    0.,    0.,    0.,    0.,\n",
       "        4114.]),\n",
       " array([0. , 0.1, 0.2, 0.3, 0.4, 0.5, 0.6, 0.7, 0.8, 0.9, 1. ]),\n",
       " <BarContainer object of 10 artists>)"
      ]
     },
     "execution_count": 386,
     "metadata": {},
     "output_type": "execute_result"
    },
    {
     "data": {
      "image/png": "[encoded data removed]",
      "text/plain": [
       "<Figure size 640x480 with 1 Axes>"
      ]
     },
     "metadata": {},
     "output_type": "display_data"
    }
   ],
   "source": [
    "plt.hist(med_data['BackPain'])"
   ]
  },
  {
   "cell_type": "code",
   "execution_count": 387,
   "id": "fc97e315",
   "metadata": {},
   "outputs": [
    {
     "data": {
      "text/plain": [
       "(array([6628.,    0.,    0.,    0.,    0.,    0.,    0.,    0.,    0.,\n",
       "        3372.]),\n",
       " array([0. , 0.1, 0.2, 0.3, 0.4, 0.5, 0.6, 0.7, 0.8, 0.9, 1. ]),\n",
       " <BarContainer object of 10 artists>)"
      ]
     },
     "execution_count": 387,
     "metadata": {},
     "output_type": "execute_result"
    },
    {
     "data": {
      "image/png": "[encoded data removed]",
      "text/plain": [
       "<Figure size 640x480 with 1 Axes>"
      ]
     },
     "metadata": {},
     "output_type": "display_data"
    }
   ],
   "source": [
    "plt.hist(med_data['Hyperlipidemia'])"
   ]
  },
  {
   "cell_type": "code",
   "execution_count": 388,
   "id": "ba308c6d",
   "metadata": {
    "scrolled": false
   },
   "outputs": [
    {
     "data": {
      "text/plain": [
       "(array([8007.,    0.,    0.,    0.,    0.,    0.,    0.,    0.,    0.,\n",
       "        1993.]),\n",
       " array([0. , 0.1, 0.2, 0.3, 0.4, 0.5, 0.6, 0.7, 0.8, 0.9, 1. ]),\n",
       " <BarContainer object of 10 artists>)"
      ]
     },
     "execution_count": 388,
     "metadata": {},
     "output_type": "execute_result"
    },
    {
     "data": {
      "image/png": "[encoded data removed]",
      "text/plain": [
       "<Figure size 640x480 with 1 Axes>"
      ]
     },
     "metadata": {},
     "output_type": "display_data"
    }
   ],
   "source": [
    "plt.hist(med_data['Stroke'])"
   ]
  },
  {
   "cell_type": "code",
   "execution_count": 389,
   "id": "5cfa9031",
   "metadata": {},
   "outputs": [
    {
     "data": {
      "text/plain": [
       "(array([6426.,    0.,    0.,    0.,    0.,    0.,    0.,    0.,    0.,\n",
       "        3574.]),\n",
       " array([0. , 0.1, 0.2, 0.3, 0.4, 0.5, 0.6, 0.7, 0.8, 0.9, 1. ]),\n",
       " <BarContainer object of 10 artists>)"
      ]
     },
     "execution_count": 389,
     "metadata": {},
     "output_type": "execute_result"
    },
    {
     "data": {
      "image/png": "[encoded data removed]",
      "text/plain": [
       "<Figure size 640x480 with 1 Axes>"
      ]
     },
     "metadata": {},
     "output_type": "display_data"
    }
   ],
   "source": [
    "plt.hist(med_data['Arthritis'])"
   ]
  },
  {
   "cell_type": "code",
   "execution_count": 390,
   "id": "602239b2",
   "metadata": {},
   "outputs": [
    {
     "data": {
      "text/plain": [
       "(array([7262.,    0.,    0.,    0.,    0.,    0.,    0.,    0.,    0.,\n",
       "        2738.]),\n",
       " array([0. , 0.1, 0.2, 0.3, 0.4, 0.5, 0.6, 0.7, 0.8, 0.9, 1. ]),\n",
       " <BarContainer object of 10 artists>)"
      ]
     },
     "execution_count": 390,
     "metadata": {},
     "output_type": "execute_result"
    },
    {
     "data": {
      "image/png": "[encoded data removed]",
      "text/plain": [
       "<Figure size 640x480 with 1 Axes>"
      ]
     },
     "metadata": {},
     "output_type": "display_data"
    }
   ],
   "source": [
    "plt.hist(med_data['Diabetes'])"
   ]
  },
  {
   "cell_type": "markdown",
   "id": "90cb9962",
   "metadata": {},
   "source": [
    "Bivariate visualizations between the continuous variable and all the independent variables associated in the regression analysis. Scatterplots and heatmaps/contingency tables were used to visualize the relationships. The reason the bivariate relationships look different compared to Task 1 is because we are comparing a binary/categorical variable with either a continuous or another categorical variable."
   ]
  },
  {
   "cell_type": "code",
   "execution_count": 391,
   "id": "dd1140ef",
   "metadata": {},
   "outputs": [
    {
     "data": {
      "image/png": "[encoded data removed]",
      "text/plain": [
       "<Figure size 640x480 with 1 Axes>"
      ]
     },
     "metadata": {},
     "output_type": "display_data"
    }
   ],
   "source": [
    "# HighBlood and Age\n",
    "sns.scatterplot(x=med_data['Age'], y=med_data['HighBlood'])\n",
    "plt.show();"
   ]
  },
  {
   "cell_type": "code",
   "execution_count": 392,
   "id": "7c9e8f07",
   "metadata": {},
   "outputs": [
    {
     "data": {
      "image/png": "[encoded data removed]",
      "text/plain": [
       "<Figure size 640x480 with 1 Axes>"
      ]
     },
     "metadata": {},
     "output_type": "display_data"
    }
   ],
   "source": [
    "# HighBlood and Doctor Visits\n",
    "sns.scatterplot(x=med_data['Doc_visits'], y=med_data['HighBlood'])\n",
    "plt.show();"
   ]
  },
  {
   "cell_type": "code",
   "execution_count": 393,
   "id": "e2baa341",
   "metadata": {},
   "outputs": [
    {
     "data": {
      "image/png": "[encoded data removed]",
      "text/plain": [
       "<Figure size 640x480 with 1 Axes>"
      ]
     },
     "metadata": {},
     "output_type": "display_data"
    }
   ],
   "source": [
    "# HighBlood and Vitamin D Levels\n",
    "sns.scatterplot(x=med_data['VitD_levels'], y=med_data['HighBlood'])\n",
    "plt.show();"
   ]
  },
  {
   "cell_type": "code",
   "execution_count": 394,
   "id": "7224e3e4",
   "metadata": {},
   "outputs": [
    {
     "data": {
      "image/png": "[encoded data removed]",
      "text/plain": [
       "<Figure size 640x480 with 1 Axes>"
      ]
     },
     "metadata": {},
     "output_type": "display_data"
    }
   ],
   "source": [
    "# HighBlood and Vitamin D Supplements\n",
    "sns.scatterplot(x=med_data['vitD_supp'], y=med_data['HighBlood'])\n",
    "plt.show();"
   ]
  },
  {
   "cell_type": "code",
   "execution_count": 395,
   "id": "d07a9a86",
   "metadata": {
    "scrolled": false
   },
   "outputs": [
    {
     "data": {
      "image/png": "[encoded data removed]",
      "text/plain": [
       "<Figure size 640x480 with 1 Axes>"
      ]
     },
     "metadata": {},
     "output_type": "display_data"
    }
   ],
   "source": [
    "# HighBlood and Full Meals Eaten\n",
    "sns.scatterplot(x=med_data['Full_meals_eaten'], y=med_data['HighBlood'])\n",
    "plt.show();"
   ]
  },
  {
   "cell_type": "code",
   "execution_count": 396,
   "id": "02d7aa6d",
   "metadata": {},
   "outputs": [
    {
     "data": {
      "text/html": [
       "<div>\n",
       "<style scoped>\n",
       "    .dataframe tbody tr th:only-of-type {\n",
       "        vertical-align: middle;\n",
       "    }\n",
       "\n",
       "    .dataframe tbody tr th {\n",
       "        vertical-align: top;\n",
       "    }\n",
       "\n",
       "    .dataframe thead th {\n",
       "        text-align: right;\n",
       "    }\n",
       "</style>\n",
       "<table border=\"1\" class=\"dataframe\">\n",
       "  <thead>\n",
       "    <tr style=\"text-align: right;\">\n",
       "      <th>HighBlood</th>\n",
       "      <th>0</th>\n",
       "      <th>1</th>\n",
       "    </tr>\n",
       "    <tr>\n",
       "      <th>Anxiety</th>\n",
       "      <th></th>\n",
       "      <th></th>\n",
       "    </tr>\n",
       "  </thead>\n",
       "  <tbody>\n",
       "    <tr>\n",
       "      <th>0</th>\n",
       "      <td>4029</td>\n",
       "      <td>2756</td>\n",
       "    </tr>\n",
       "    <tr>\n",
       "      <th>1</th>\n",
       "      <td>1881</td>\n",
       "      <td>1334</td>\n",
       "    </tr>\n",
       "  </tbody>\n",
       "</table>\n",
       "</div>"
      ],
      "text/plain": [
       "HighBlood     0     1\n",
       "Anxiety              \n",
       "0          4029  2756\n",
       "1          1881  1334"
      ]
     },
     "execution_count": 396,
     "metadata": {},
     "output_type": "execute_result"
    }
   ],
   "source": [
    "# HighBlood and Anxiety\n",
    "contingency= pd.crosstab(med_data['Anxiety'], med_data['HighBlood'])\n",
    "contingency"
   ]
  },
  {
   "cell_type": "code",
   "execution_count": 397,
   "id": "3c546147",
   "metadata": {},
   "outputs": [
    {
     "data": {
      "text/plain": [
       "<Axes: xlabel='HighBlood', ylabel='Anxiety'>"
      ]
     },
     "execution_count": 397,
     "metadata": {},
     "output_type": "execute_result"
    },
    {
     "data": {
      "image/png": "[encoded data removed]",
      "text/plain": [
       "<Figure size 1200x800 with 2 Axes>"
      ]
     },
     "metadata": {},
     "output_type": "display_data"
    }
   ],
   "source": [
    "plt.figure(figsize=(12,8))\n",
    "sns.heatmap(contingency, annot=True, cmap=\"YlGnBu\")"
   ]
  },
  {
   "cell_type": "code",
   "execution_count": 398,
   "id": "bffcbfe4",
   "metadata": {},
   "outputs": [
    {
     "data": {
      "text/html": [
       "<div>\n",
       "<style scoped>\n",
       "    .dataframe tbody tr th:only-of-type {\n",
       "        vertical-align: middle;\n",
       "    }\n",
       "\n",
       "    .dataframe tbody tr th {\n",
       "        vertical-align: top;\n",
       "    }\n",
       "\n",
       "    .dataframe thead th {\n",
       "        text-align: right;\n",
       "    }\n",
       "</style>\n",
       "<table border=\"1\" class=\"dataframe\">\n",
       "  <thead>\n",
       "    <tr style=\"text-align: right;\">\n",
       "      <th>HighBlood</th>\n",
       "      <th>0</th>\n",
       "      <th>1</th>\n",
       "    </tr>\n",
       "    <tr>\n",
       "      <th>Overweight</th>\n",
       "      <th></th>\n",
       "      <th></th>\n",
       "    </tr>\n",
       "  </thead>\n",
       "  <tbody>\n",
       "    <tr>\n",
       "      <th>0</th>\n",
       "      <td>1776</td>\n",
       "      <td>1130</td>\n",
       "    </tr>\n",
       "    <tr>\n",
       "      <th>1</th>\n",
       "      <td>4134</td>\n",
       "      <td>2960</td>\n",
       "    </tr>\n",
       "  </tbody>\n",
       "</table>\n",
       "</div>"
      ],
      "text/plain": [
       "HighBlood      0     1\n",
       "Overweight            \n",
       "0           1776  1130\n",
       "1           4134  2960"
      ]
     },
     "execution_count": 398,
     "metadata": {},
     "output_type": "execute_result"
    }
   ],
   "source": [
    "# HighBlood and Overweight\n",
    "contingency= pd.crosstab(med_data['Overweight'], med_data['HighBlood'])\n",
    "contingency"
   ]
  },
  {
   "cell_type": "code",
   "execution_count": 399,
   "id": "68728610",
   "metadata": {},
   "outputs": [
    {
     "data": {
      "text/plain": [
       "<Axes: xlabel='HighBlood', ylabel='Overweight'>"
      ]
     },
     "execution_count": 399,
     "metadata": {},
     "output_type": "execute_result"
    },
    {
     "data": {
      "image/png": "[encoded data removed]",
      "text/plain": [
       "<Figure size 1200x800 with 2 Axes>"
      ]
     },
     "metadata": {},
     "output_type": "display_data"
    }
   ],
   "source": [
    "plt.figure(figsize=(12,8))\n",
    "sns.heatmap(contingency, annot=True, cmap=\"YlGnBu\")"
   ]
  },
  {
   "cell_type": "code",
   "execution_count": 400,
   "id": "bf55eac9",
   "metadata": {},
   "outputs": [
    {
     "data": {
      "text/html": [
       "<div>\n",
       "<style scoped>\n",
       "    .dataframe tbody tr th:only-of-type {\n",
       "        vertical-align: middle;\n",
       "    }\n",
       "\n",
       "    .dataframe tbody tr th {\n",
       "        vertical-align: top;\n",
       "    }\n",
       "\n",
       "    .dataframe thead th {\n",
       "        text-align: right;\n",
       "    }\n",
       "</style>\n",
       "<table border=\"1\" class=\"dataframe\">\n",
       "  <thead>\n",
       "    <tr style=\"text-align: right;\">\n",
       "      <th>HighBlood</th>\n",
       "      <th>0</th>\n",
       "      <th>1</th>\n",
       "    </tr>\n",
       "    <tr>\n",
       "      <th>Reflux_esophagitis</th>\n",
       "      <th></th>\n",
       "      <th></th>\n",
       "    </tr>\n",
       "  </thead>\n",
       "  <tbody>\n",
       "    <tr>\n",
       "      <th>0</th>\n",
       "      <td>3469</td>\n",
       "      <td>2396</td>\n",
       "    </tr>\n",
       "    <tr>\n",
       "      <th>1</th>\n",
       "      <td>2441</td>\n",
       "      <td>1694</td>\n",
       "    </tr>\n",
       "  </tbody>\n",
       "</table>\n",
       "</div>"
      ],
      "text/plain": [
       "HighBlood              0     1\n",
       "Reflux_esophagitis            \n",
       "0                   3469  2396\n",
       "1                   2441  1694"
      ]
     },
     "execution_count": 400,
     "metadata": {},
     "output_type": "execute_result"
    }
   ],
   "source": [
    "# HighBlood and Reflux Esophagitis\n",
    "contingency= pd.crosstab(med_data['Reflux_esophagitis'], med_data['HighBlood'])\n",
    "contingency"
   ]
  },
  {
   "cell_type": "code",
   "execution_count": 401,
   "id": "e4408023",
   "metadata": {},
   "outputs": [
    {
     "data": {
      "text/plain": [
       "<Axes: xlabel='HighBlood', ylabel='Reflux_esophagitis'>"
      ]
     },
     "execution_count": 401,
     "metadata": {},
     "output_type": "execute_result"
    },
    {
     "data": {
      "image/png": "[encoded data removed]",
      "text/plain": [
       "<Figure size 1200x800 with 2 Axes>"
      ]
     },
     "metadata": {},
     "output_type": "display_data"
    }
   ],
   "source": [
    "plt.figure(figsize=(12,8))\n",
    "sns.heatmap(contingency, annot=True, cmap=\"YlGnBu\")"
   ]
  },
  {
   "cell_type": "code",
   "execution_count": 402,
   "id": "3dc2b115",
   "metadata": {},
   "outputs": [
    {
     "data": {
      "text/html": [
       "<div>\n",
       "<style scoped>\n",
       "    .dataframe tbody tr th:only-of-type {\n",
       "        vertical-align: middle;\n",
       "    }\n",
       "\n",
       "    .dataframe tbody tr th {\n",
       "        vertical-align: top;\n",
       "    }\n",
       "\n",
       "    .dataframe thead th {\n",
       "        text-align: right;\n",
       "    }\n",
       "</style>\n",
       "<table border=\"1\" class=\"dataframe\">\n",
       "  <thead>\n",
       "    <tr style=\"text-align: right;\">\n",
       "      <th>HighBlood</th>\n",
       "      <th>0</th>\n",
       "      <th>1</th>\n",
       "    </tr>\n",
       "    <tr>\n",
       "      <th>Hyperlipidemia</th>\n",
       "      <th></th>\n",
       "      <th></th>\n",
       "    </tr>\n",
       "  </thead>\n",
       "  <tbody>\n",
       "    <tr>\n",
       "      <th>0</th>\n",
       "      <td>3895</td>\n",
       "      <td>2733</td>\n",
       "    </tr>\n",
       "    <tr>\n",
       "      <th>1</th>\n",
       "      <td>2015</td>\n",
       "      <td>1357</td>\n",
       "    </tr>\n",
       "  </tbody>\n",
       "</table>\n",
       "</div>"
      ],
      "text/plain": [
       "HighBlood          0     1\n",
       "Hyperlipidemia            \n",
       "0               3895  2733\n",
       "1               2015  1357"
      ]
     },
     "execution_count": 402,
     "metadata": {},
     "output_type": "execute_result"
    }
   ],
   "source": [
    "# HighBlood and Hyperlipidemia\n",
    "contingency= pd.crosstab(med_data['Hyperlipidemia'], med_data['HighBlood'])\n",
    "contingency"
   ]
  },
  {
   "cell_type": "code",
   "execution_count": 403,
   "id": "cc6c9bd7",
   "metadata": {},
   "outputs": [
    {
     "data": {
      "text/plain": [
       "<Axes: xlabel='HighBlood', ylabel='Hyperlipidemia'>"
      ]
     },
     "execution_count": 403,
     "metadata": {},
     "output_type": "execute_result"
    },
    {
     "data": {
      "image/png": "[encoded data removed]",
      "text/plain": [
       "<Figure size 1200x800 with 2 Axes>"
      ]
     },
     "metadata": {},
     "output_type": "display_data"
    }
   ],
   "source": [
    "plt.figure(figsize=(12,8))\n",
    "sns.heatmap(contingency, annot=True, cmap=\"YlGnBu\")"
   ]
  },
  {
   "cell_type": "code",
   "execution_count": 404,
   "id": "3f8ff47e",
   "metadata": {},
   "outputs": [
    {
     "data": {
      "text/html": [
       "<div>\n",
       "<style scoped>\n",
       "    .dataframe tbody tr th:only-of-type {\n",
       "        vertical-align: middle;\n",
       "    }\n",
       "\n",
       "    .dataframe tbody tr th {\n",
       "        vertical-align: top;\n",
       "    }\n",
       "\n",
       "    .dataframe thead th {\n",
       "        text-align: right;\n",
       "    }\n",
       "</style>\n",
       "<table border=\"1\" class=\"dataframe\">\n",
       "  <thead>\n",
       "    <tr style=\"text-align: right;\">\n",
       "      <th>HighBlood</th>\n",
       "      <th>0</th>\n",
       "      <th>1</th>\n",
       "    </tr>\n",
       "    <tr>\n",
       "      <th>BackPain</th>\n",
       "      <th></th>\n",
       "      <th></th>\n",
       "    </tr>\n",
       "  </thead>\n",
       "  <tbody>\n",
       "    <tr>\n",
       "      <th>0</th>\n",
       "      <td>3486</td>\n",
       "      <td>2400</td>\n",
       "    </tr>\n",
       "    <tr>\n",
       "      <th>1</th>\n",
       "      <td>2424</td>\n",
       "      <td>1690</td>\n",
       "    </tr>\n",
       "  </tbody>\n",
       "</table>\n",
       "</div>"
      ],
      "text/plain": [
       "HighBlood     0     1\n",
       "BackPain             \n",
       "0          3486  2400\n",
       "1          2424  1690"
      ]
     },
     "execution_count": 404,
     "metadata": {},
     "output_type": "execute_result"
    }
   ],
   "source": [
    "# HighBlood and Back Pain\n",
    "contingency= pd.crosstab(med_data['BackPain'], med_data['HighBlood'])\n",
    "contingency"
   ]
  },
  {
   "cell_type": "code",
   "execution_count": 405,
   "id": "820f1eb0",
   "metadata": {},
   "outputs": [
    {
     "data": {
      "text/plain": [
       "<Axes: xlabel='HighBlood', ylabel='BackPain'>"
      ]
     },
     "execution_count": 405,
     "metadata": {},
     "output_type": "execute_result"
    },
    {
     "data": {
      "image/png": "[encoded data removed]",
      "text/plain": [
       "<Figure size 1200x800 with 2 Axes>"
      ]
     },
     "metadata": {},
     "output_type": "display_data"
    }
   ],
   "source": [
    "plt.figure(figsize=(12,8))\n",
    "sns.heatmap(contingency, annot=True, cmap=\"YlGnBu\")"
   ]
  },
  {
   "cell_type": "code",
   "execution_count": 406,
   "id": "8e48e1b0",
   "metadata": {},
   "outputs": [
    {
     "data": {
      "text/html": [
       "<div>\n",
       "<style scoped>\n",
       "    .dataframe tbody tr th:only-of-type {\n",
       "        vertical-align: middle;\n",
       "    }\n",
       "\n",
       "    .dataframe tbody tr th {\n",
       "        vertical-align: top;\n",
       "    }\n",
       "\n",
       "    .dataframe thead th {\n",
       "        text-align: right;\n",
       "    }\n",
       "</style>\n",
       "<table border=\"1\" class=\"dataframe\">\n",
       "  <thead>\n",
       "    <tr style=\"text-align: right;\">\n",
       "      <th>HighBlood</th>\n",
       "      <th>0</th>\n",
       "      <th>1</th>\n",
       "    </tr>\n",
       "    <tr>\n",
       "      <th>Arthritis</th>\n",
       "      <th></th>\n",
       "      <th></th>\n",
       "    </tr>\n",
       "  </thead>\n",
       "  <tbody>\n",
       "    <tr>\n",
       "      <th>0</th>\n",
       "      <td>3815</td>\n",
       "      <td>2611</td>\n",
       "    </tr>\n",
       "    <tr>\n",
       "      <th>1</th>\n",
       "      <td>2095</td>\n",
       "      <td>1479</td>\n",
       "    </tr>\n",
       "  </tbody>\n",
       "</table>\n",
       "</div>"
      ],
      "text/plain": [
       "HighBlood     0     1\n",
       "Arthritis            \n",
       "0          3815  2611\n",
       "1          2095  1479"
      ]
     },
     "execution_count": 406,
     "metadata": {},
     "output_type": "execute_result"
    }
   ],
   "source": [
    "# HighBlood and Arthritis\n",
    "contingency= pd.crosstab(med_data['Arthritis'], med_data['HighBlood'])\n",
    "contingency"
   ]
  },
  {
   "cell_type": "code",
   "execution_count": 407,
   "id": "077d467f",
   "metadata": {},
   "outputs": [
    {
     "data": {
      "text/plain": [
       "<Axes: xlabel='HighBlood', ylabel='Arthritis'>"
      ]
     },
     "execution_count": 407,
     "metadata": {},
     "output_type": "execute_result"
    },
    {
     "data": {
      "image/png": "[encoded data removed]",
      "text/plain": [
       "<Figure size 1200x800 with 2 Axes>"
      ]
     },
     "metadata": {},
     "output_type": "display_data"
    }
   ],
   "source": [
    "plt.figure(figsize=(12,8))\n",
    "sns.heatmap(contingency, annot=True, cmap=\"YlGnBu\")"
   ]
  },
  {
   "cell_type": "code",
   "execution_count": 408,
   "id": "ed5d3423",
   "metadata": {},
   "outputs": [
    {
     "data": {
      "text/html": [
       "<div>\n",
       "<style scoped>\n",
       "    .dataframe tbody tr th:only-of-type {\n",
       "        vertical-align: middle;\n",
       "    }\n",
       "\n",
       "    .dataframe tbody tr th {\n",
       "        vertical-align: top;\n",
       "    }\n",
       "\n",
       "    .dataframe thead th {\n",
       "        text-align: right;\n",
       "    }\n",
       "</style>\n",
       "<table border=\"1\" class=\"dataframe\">\n",
       "  <thead>\n",
       "    <tr style=\"text-align: right;\">\n",
       "      <th>HighBlood</th>\n",
       "      <th>0</th>\n",
       "      <th>1</th>\n",
       "    </tr>\n",
       "    <tr>\n",
       "      <th>Diabetes</th>\n",
       "      <th></th>\n",
       "      <th></th>\n",
       "    </tr>\n",
       "  </thead>\n",
       "  <tbody>\n",
       "    <tr>\n",
       "      <th>0</th>\n",
       "      <td>4279</td>\n",
       "      <td>2983</td>\n",
       "    </tr>\n",
       "    <tr>\n",
       "      <th>1</th>\n",
       "      <td>1631</td>\n",
       "      <td>1107</td>\n",
       "    </tr>\n",
       "  </tbody>\n",
       "</table>\n",
       "</div>"
      ],
      "text/plain": [
       "HighBlood     0     1\n",
       "Diabetes             \n",
       "0          4279  2983\n",
       "1          1631  1107"
      ]
     },
     "execution_count": 408,
     "metadata": {},
     "output_type": "execute_result"
    }
   ],
   "source": [
    "# HighBlood and Diabetes\n",
    "contingency= pd.crosstab(med_data['Diabetes'], med_data['HighBlood'])\n",
    "contingency"
   ]
  },
  {
   "cell_type": "code",
   "execution_count": 409,
   "id": "7d35d2d9",
   "metadata": {},
   "outputs": [
    {
     "data": {
      "text/plain": [
       "<Axes: xlabel='HighBlood', ylabel='Diabetes'>"
      ]
     },
     "execution_count": 409,
     "metadata": {},
     "output_type": "execute_result"
    },
    {
     "data": {
      "image/png": "[encoded data removed]",
      "text/plain": [
       "<Figure size 1200x800 with 2 Axes>"
      ]
     },
     "metadata": {},
     "output_type": "display_data"
    }
   ],
   "source": [
    "plt.figure(figsize=(12,8))\n",
    "sns.heatmap(contingency, annot=True, cmap=\"YlGnBu\")"
   ]
  },
  {
   "cell_type": "code",
   "execution_count": 410,
   "id": "29dd2d39",
   "metadata": {},
   "outputs": [
    {
     "data": {
      "text/html": [
       "<div>\n",
       "<style scoped>\n",
       "    .dataframe tbody tr th:only-of-type {\n",
       "        vertical-align: middle;\n",
       "    }\n",
       "\n",
       "    .dataframe tbody tr th {\n",
       "        vertical-align: top;\n",
       "    }\n",
       "\n",
       "    .dataframe thead th {\n",
       "        text-align: right;\n",
       "    }\n",
       "</style>\n",
       "<table border=\"1\" class=\"dataframe\">\n",
       "  <thead>\n",
       "    <tr style=\"text-align: right;\">\n",
       "      <th>HighBlood</th>\n",
       "      <th>0</th>\n",
       "      <th>1</th>\n",
       "    </tr>\n",
       "    <tr>\n",
       "      <th>Stroke</th>\n",
       "      <th></th>\n",
       "      <th></th>\n",
       "    </tr>\n",
       "  </thead>\n",
       "  <tbody>\n",
       "    <tr>\n",
       "      <th>0</th>\n",
       "      <td>4747</td>\n",
       "      <td>3260</td>\n",
       "    </tr>\n",
       "    <tr>\n",
       "      <th>1</th>\n",
       "      <td>1163</td>\n",
       "      <td>830</td>\n",
       "    </tr>\n",
       "  </tbody>\n",
       "</table>\n",
       "</div>"
      ],
      "text/plain": [
       "HighBlood     0     1\n",
       "Stroke               \n",
       "0          4747  3260\n",
       "1          1163   830"
      ]
     },
     "execution_count": 410,
     "metadata": {},
     "output_type": "execute_result"
    }
   ],
   "source": [
    "# HighBlood and Stroke\n",
    "contingency= pd.crosstab(med_data['Stroke'], med_data['HighBlood'])\n",
    "contingency"
   ]
  },
  {
   "cell_type": "code",
   "execution_count": 411,
   "id": "a2835132",
   "metadata": {},
   "outputs": [
    {
     "data": {
      "text/plain": [
       "<Axes: xlabel='HighBlood', ylabel='Stroke'>"
      ]
     },
     "execution_count": 411,
     "metadata": {},
     "output_type": "execute_result"
    },
    {
     "data": {
      "image/png": "[encoded data removed]",
      "text/plain": [
       "<Figure size 1200x800 with 2 Axes>"
      ]
     },
     "metadata": {},
     "output_type": "display_data"
    }
   ],
   "source": [
    "plt.figure(figsize=(12,8))\n",
    "sns.heatmap(contingency, annot=True, cmap=\"YlGnBu\")"
   ]
  },
  {
   "cell_type": "code",
   "execution_count": 412,
   "id": "d6d02a95",
   "metadata": {},
   "outputs": [],
   "source": [
    "logit_df = med_data[['Age', 'Doc_visits', 'VitD_levels', 'vitD_supp', 'Full_meals_eaten', 'HighBlood',\n",
    "              'Overweight', 'Anxiety', 'Reflux_esophagitis', \n",
    "              'BackPain', 'Hyperlipidemia', 'Stroke', 'Arthritis', 'Diabetes']]\n",
    "\n",
    "logit_df.to_csv('mlr_med_data_final_logit.csv', index=False)"
   ]
  },
  {
   "cell_type": "markdown",
   "id": "15bdbed4",
   "metadata": {},
   "source": [
    "D208 Course Textbook: Practical Statistics for Data Scientists"
   ]
  },
  {
   "cell_type": "code",
   "execution_count": 413,
   "id": "b3183dcc",
   "metadata": {},
   "outputs": [
    {
     "name": "stdout",
     "output_type": "stream",
     "text": [
      "Optimization terminated successfully.\n",
      "         Current function value: 0.675793\n",
      "         Iterations 4\n",
      "                           Logit Regression Results                           \n",
      "==============================================================================\n",
      "Dep. Variable:              HighBlood   No. Observations:                10000\n",
      "Model:                          Logit   Df Residuals:                     9986\n",
      "Method:                           MLE   Df Model:                           13\n",
      "Date:                Mon, 21 Oct 2024   Pseudo R-squ.:                0.001035\n",
      "Time:                        12:41:35   Log-Likelihood:                -6757.9\n",
      "converged:                       True   LL-Null:                       -6764.9\n",
      "Covariance Type:            nonrobust   LLR p-value:                    0.3741\n",
      "======================================================================================\n",
      "                         coef    std err          z      P>|z|      [0.025      0.975]\n",
      "--------------------------------------------------------------------------------------\n",
      "Age                    0.0007      0.001      0.690      0.490      -0.001       0.003\n",
      "Doc_visits             0.0164      0.019      0.843      0.399      -0.022       0.055\n",
      "VitD_levels            0.0047      0.010      0.463      0.644      -0.015       0.024\n",
      "vitD_supp              0.0187      0.032      0.579      0.563      -0.045       0.082\n",
      "Full_meals_eaten       0.0300      0.020      1.489      0.136      -0.009       0.070\n",
      "Overweight             0.1183      0.045      2.625      0.009       0.030       0.207\n",
      "Anxiety                0.0361      0.044      0.829      0.407      -0.049       0.121\n",
      "Reflux_esophagitis     0.0068      0.041      0.164      0.870      -0.074       0.088\n",
      "BackPain               0.0115      0.041      0.277      0.782      -0.070       0.093\n",
      "Hyperlipidemia        -0.0382      0.043     -0.886      0.376      -0.123       0.046\n",
      "Stroke                 0.0385      0.051      0.757      0.449      -0.061       0.138\n",
      "Arthritis              0.0303      0.042      0.712      0.476      -0.053       0.113\n",
      "Diabetes              -0.0259      0.046     -0.565      0.572      -0.115       0.064\n",
      "const                 -0.7104      0.220     -3.237      0.001      -1.141      -0.280\n",
      "======================================================================================\n"
     ]
    }
   ],
   "source": [
    "y = logit_df.HighBlood\n",
    "x = logit_df[['Age', 'Doc_visits', 'VitD_levels', 'vitD_supp', 'Full_meals_eaten',\n",
    "              'Overweight', 'Anxiety', 'Reflux_esophagitis', \n",
    "              'BackPain', 'Hyperlipidemia', 'Stroke', 'Arthritis', 'Diabetes']].assign(const=1)\n",
    "\n",
    "model = sm.Logit(y, x)\n",
    "results = model.fit()\n",
    "print(results.summary())"
   ]
  },
  {
   "cell_type": "markdown",
   "id": "08400f78",
   "metadata": {},
   "source": [
    "I will reduce the model with the Backward Stepwise elimination method until we are left with only the statistically significant variables. I will begin by removing the variables one by one by selecting the highest p-value variable for removal. In this case, the highest p-value is the Stroke variable. We will use the significance level of 5% (or equal to or less than 0.050 p-values) for the purposes of this model.\n",
    "\n",
    "I also tested for multicollinearity by using the variance inflation factor (VIF). Variables that have VIFs > 10 have multicollinearity going on and will be removed. "
   ]
  },
  {
   "cell_type": "code",
   "execution_count": 414,
   "id": "58de43fa",
   "metadata": {},
   "outputs": [
    {
     "name": "stdout",
     "output_type": "stream",
     "text": [
      "               feature        VIF\n",
      "0                  Age   7.335580\n",
      "1           Doc_visits  19.477435\n",
      "2          VitD_levels  26.278495\n",
      "3            vitD_supp   1.398923\n",
      "4     Full_meals_eaten   1.979195\n",
      "5           Overweight   3.379976\n",
      "6              Anxiety   1.470169\n",
      "7   Reflux_esophagitis   1.691335\n",
      "8             BackPain   1.692191\n",
      "9       Hyperlipidemia   1.499681\n",
      "10              Stroke   1.248075\n",
      "11           Arthritis   1.551574\n",
      "12            Diabetes   1.372106\n"
     ]
    }
   ],
   "source": [
    "X = logit_df[['Age', 'Doc_visits', 'VitD_levels', 'vitD_supp', 'Full_meals_eaten',\n",
    "              'Overweight', 'Anxiety', 'Reflux_esophagitis', \n",
    "              'BackPain', 'Hyperlipidemia', 'Stroke', 'Arthritis', 'Diabetes']]\n",
    "\n",
    "vif_df = pd.DataFrame()\n",
    "vif_df[\"feature\"] = X.columns\n",
    "\n",
    "vif_df[\"VIF\"] = [variance_inflation_factor(X.values, i)\n",
    "for i in range(len(X.columns))]\n",
    "\n",
    "print(vif_df)"
   ]
  },
  {
   "cell_type": "code",
   "execution_count": 415,
   "id": "8fe97189",
   "metadata": {},
   "outputs": [
    {
     "name": "stdout",
     "output_type": "stream",
     "text": [
      "               feature       VIF\n",
      "0                  Age  6.419663\n",
      "1           Doc_visits  9.591103\n",
      "2            vitD_supp  1.390233\n",
      "3     Full_meals_eaten  1.936490\n",
      "4           Overweight  3.223842\n",
      "5              Anxiety  1.456079\n",
      "6   Reflux_esophagitis  1.668760\n",
      "7             BackPain  1.677338\n",
      "8       Hyperlipidemia  1.482532\n",
      "9               Stroke  1.241761\n",
      "10           Arthritis  1.537130\n",
      "11            Diabetes  1.367328\n"
     ]
    }
   ],
   "source": [
    "# Need to remove VitD_levels since VIF is above 10 and is the highest. Check VIFs again.\n",
    "# No other VIFs above 10.\n",
    "X = logit_df[['Age', 'Doc_visits', 'vitD_supp', 'Full_meals_eaten',\n",
    "              'Overweight', 'Anxiety', 'Reflux_esophagitis', \n",
    "              'BackPain', 'Hyperlipidemia', 'Stroke', 'Arthritis', 'Diabetes']]\n",
    "\n",
    "vif_df = pd.DataFrame()\n",
    "vif_df[\"feature\"] = X.columns\n",
    "\n",
    "vif_df[\"VIF\"] = [variance_inflation_factor(X.values, i)\n",
    "for i in range(len(X.columns))]\n",
    "\n",
    "print(vif_df)"
   ]
  },
  {
   "cell_type": "code",
   "execution_count": 416,
   "id": "5200475c",
   "metadata": {},
   "outputs": [
    {
     "name": "stdout",
     "output_type": "stream",
     "text": [
      "Optimization terminated successfully.\n",
      "         Current function value: 0.675803\n",
      "         Iterations 4\n",
      "                           Logit Regression Results                           \n",
      "==============================================================================\n",
      "Dep. Variable:              HighBlood   No. Observations:                10000\n",
      "Model:                          Logit   Df Residuals:                     9987\n",
      "Method:                           MLE   Df Model:                           12\n",
      "Date:                Mon, 21 Oct 2024   Pseudo R-squ.:                0.001019\n",
      "Time:                        12:43:37   Log-Likelihood:                -6758.0\n",
      "converged:                       True   LL-Null:                       -6764.9\n",
      "Covariance Type:            nonrobust   LLR p-value:                    0.3148\n",
      "======================================================================================\n",
      "                         coef    std err          z      P>|z|      [0.025      0.975]\n",
      "--------------------------------------------------------------------------------------\n",
      "Age                    0.0007      0.001      0.695      0.487      -0.001       0.003\n",
      "Doc_visits             0.0165      0.019      0.847      0.397      -0.022       0.055\n",
      "vitD_supp              0.0186      0.032      0.575      0.565      -0.045       0.082\n",
      "Full_meals_eaten       0.0302      0.020      1.500      0.133      -0.009       0.070\n",
      "Overweight             0.1185      0.045      2.630      0.009       0.030       0.207\n",
      "Anxiety                0.0362      0.044      0.832      0.405      -0.049       0.122\n",
      "Reflux_esophagitis     0.0065      0.041      0.157      0.875      -0.075       0.088\n",
      "BackPain               0.0113      0.041      0.273      0.785      -0.070       0.092\n",
      "Hyperlipidemia        -0.0384      0.043     -0.891      0.373      -0.123       0.046\n",
      "Stroke                 0.0387      0.051      0.760      0.447      -0.061       0.138\n",
      "Arthritis              0.0303      0.042      0.712      0.476      -0.053       0.113\n",
      "Diabetes              -0.0264      0.046     -0.578      0.564      -0.116       0.063\n",
      "const                 -0.6271      0.126     -4.996      0.000      -0.873      -0.381\n",
      "======================================================================================\n"
     ]
    }
   ],
   "source": [
    "#re-run OLS with the independent variables that we removed due to VIF. I will now use backward stepwise elimination to 15% significance or p-values below 0.15.\n",
    "y = logit_df.HighBlood\n",
    "x = logit_df[['Age', 'Doc_visits', 'vitD_supp', 'Full_meals_eaten',\n",
    "              'Overweight', 'Anxiety', 'Reflux_esophagitis', \n",
    "              'BackPain', 'Hyperlipidemia', 'Stroke', 'Arthritis', 'Diabetes']].assign(const=1)\n",
    "\n",
    "model = sm.Logit(y, x)\n",
    "results = model.fit()\n",
    "print(results.summary())"
   ]
  },
  {
   "cell_type": "code",
   "execution_count": 417,
   "id": "6e864dbd",
   "metadata": {},
   "outputs": [
    {
     "name": "stdout",
     "output_type": "stream",
     "text": [
      "Optimization terminated successfully.\n",
      "         Current function value: 0.675805\n",
      "         Iterations 4\n",
      "                           Logit Regression Results                           \n",
      "==============================================================================\n",
      "Dep. Variable:              HighBlood   No. Observations:                10000\n",
      "Model:                          Logit   Df Residuals:                     9988\n",
      "Method:                           MLE   Df Model:                           11\n",
      "Date:                Mon, 21 Oct 2024   Pseudo R-squ.:                0.001017\n",
      "Time:                        12:43:43   Log-Likelihood:                -6758.0\n",
      "converged:                       True   LL-Null:                       -6764.9\n",
      "Covariance Type:            nonrobust   LLR p-value:                    0.2467\n",
      "====================================================================================\n",
      "                       coef    std err          z      P>|z|      [0.025      0.975]\n",
      "------------------------------------------------------------------------------------\n",
      "Age                  0.0007      0.001      0.692      0.489      -0.001       0.003\n",
      "Doc_visits           0.0165      0.019      0.846      0.397      -0.022       0.055\n",
      "vitD_supp            0.0186      0.032      0.574      0.566      -0.045       0.082\n",
      "Full_meals_eaten     0.0302      0.020      1.500      0.133      -0.009       0.070\n",
      "Overweight           0.1184      0.045      2.628      0.009       0.030       0.207\n",
      "Anxiety              0.0362      0.044      0.831      0.406      -0.049       0.122\n",
      "BackPain             0.0114      0.041      0.275      0.783      -0.070       0.093\n",
      "Hyperlipidemia      -0.0384      0.043     -0.891      0.373      -0.123       0.046\n",
      "Stroke               0.0387      0.051      0.760      0.447      -0.061       0.138\n",
      "Arthritis            0.0304      0.042      0.715      0.475      -0.053       0.114\n",
      "Diabetes            -0.0265      0.046     -0.579      0.563      -0.116       0.063\n",
      "const               -0.6242      0.124     -5.029      0.000      -0.867      -0.381\n",
      "====================================================================================\n"
     ]
    }
   ],
   "source": [
    "# Remove Reflux_esophagitis first since it has the highest P-value\n",
    "y = logit_df.HighBlood\n",
    "x = logit_df[['Age', 'Doc_visits', 'vitD_supp', 'Full_meals_eaten',\n",
    "              'Overweight', 'Anxiety', \n",
    "              'BackPain', 'Hyperlipidemia', 'Stroke', 'Arthritis', 'Diabetes']].assign(const=1)\n",
    "\n",
    "model = sm.Logit(y, x)\n",
    "results = model.fit()\n",
    "print(results.summary())"
   ]
  },
  {
   "cell_type": "code",
   "execution_count": 418,
   "id": "b4bccd74",
   "metadata": {},
   "outputs": [
    {
     "name": "stdout",
     "output_type": "stream",
     "text": [
      "Optimization terminated successfully.\n",
      "         Current function value: 0.675808\n",
      "         Iterations 4\n",
      "                           Logit Regression Results                           \n",
      "==============================================================================\n",
      "Dep. Variable:              HighBlood   No. Observations:                10000\n",
      "Model:                          Logit   Df Residuals:                     9989\n",
      "Method:                           MLE   Df Model:                           10\n",
      "Date:                Mon, 21 Oct 2024   Pseudo R-squ.:                0.001011\n",
      "Time:                        12:43:48   Log-Likelihood:                -6758.1\n",
      "converged:                       True   LL-Null:                       -6764.9\n",
      "Covariance Type:            nonrobust   LLR p-value:                    0.1880\n",
      "====================================================================================\n",
      "                       coef    std err          z      P>|z|      [0.025      0.975]\n",
      "------------------------------------------------------------------------------------\n",
      "Age                  0.0007      0.001      0.698      0.485      -0.001       0.003\n",
      "Doc_visits           0.0165      0.019      0.849      0.396      -0.022       0.055\n",
      "vitD_supp            0.0186      0.032      0.574      0.566      -0.045       0.082\n",
      "Full_meals_eaten     0.0302      0.020      1.496      0.135      -0.009       0.070\n",
      "Overweight           0.1185      0.045      2.631      0.009       0.030       0.207\n",
      "Anxiety              0.0363      0.044      0.833      0.405      -0.049       0.122\n",
      "Hyperlipidemia      -0.0384      0.043     -0.891      0.373      -0.123       0.046\n",
      "Stroke               0.0387      0.051      0.761      0.447      -0.061       0.138\n",
      "Arthritis            0.0301      0.042      0.710      0.478      -0.053       0.113\n",
      "Diabetes            -0.0266      0.046     -0.582      0.560      -0.116       0.063\n",
      "const               -0.6199      0.123     -5.034      0.000      -0.861      -0.379\n",
      "====================================================================================\n"
     ]
    }
   ],
   "source": [
    "# Remove BackPain first since it has the highest P-value\n",
    "y = logit_df.HighBlood\n",
    "x = logit_df[['Age', 'Doc_visits', 'vitD_supp', 'Full_meals_eaten','Overweight', 'Anxiety', 'Hyperlipidemia', 'Stroke', 'Arthritis', 'Diabetes']].assign(const=1)\n",
    "\n",
    "model = sm.Logit(y, x)\n",
    "results = model.fit()\n",
    "print(results.summary())"
   ]
  },
  {
   "cell_type": "code",
   "execution_count": 419,
   "id": "a3352134",
   "metadata": {},
   "outputs": [
    {
     "name": "stdout",
     "output_type": "stream",
     "text": [
      "Optimization terminated successfully.\n",
      "         Current function value: 0.675825\n",
      "         Iterations 4\n",
      "                           Logit Regression Results                           \n",
      "==============================================================================\n",
      "Dep. Variable:              HighBlood   No. Observations:                10000\n",
      "Model:                          Logit   Df Residuals:                     9990\n",
      "Method:                           MLE   Df Model:                            9\n",
      "Date:                Mon, 21 Oct 2024   Pseudo R-squ.:               0.0009870\n",
      "Time:                        12:43:54   Log-Likelihood:                -6758.2\n",
      "converged:                       True   LL-Null:                       -6764.9\n",
      "Covariance Type:            nonrobust   LLR p-value:                    0.1473\n",
      "====================================================================================\n",
      "                       coef    std err          z      P>|z|      [0.025      0.975]\n",
      "------------------------------------------------------------------------------------\n",
      "Age                  0.0007      0.001      0.704      0.481      -0.001       0.003\n",
      "Doc_visits           0.0166      0.019      0.852      0.394      -0.022       0.055\n",
      "Full_meals_eaten     0.0299      0.020      1.485      0.137      -0.010       0.069\n",
      "Overweight           0.1184      0.045      2.628      0.009       0.030       0.207\n",
      "Anxiety              0.0363      0.044      0.833      0.405      -0.049       0.122\n",
      "Hyperlipidemia      -0.0381      0.043     -0.883      0.377      -0.123       0.046\n",
      "Stroke               0.0388      0.051      0.764      0.445      -0.061       0.139\n",
      "Arthritis            0.0298      0.042      0.703      0.482      -0.053       0.113\n",
      "Diabetes            -0.0270      0.046     -0.592      0.554      -0.117       0.063\n",
      "const               -0.6128      0.123     -5.001      0.000      -0.853      -0.373\n",
      "====================================================================================\n"
     ]
    }
   ],
   "source": [
    "# Remove vitD_supp first since it has the highest P-value\n",
    "y = logit_df.HighBlood\n",
    "x = logit_df[['Age', 'Doc_visits', 'Full_meals_eaten','Overweight', 'Anxiety', 'Hyperlipidemia', 'Stroke', 'Arthritis', 'Diabetes']].assign(const=1)\n",
    "\n",
    "model = sm.Logit(y, x)\n",
    "results = model.fit()\n",
    "print(results.summary())"
   ]
  },
  {
   "cell_type": "code",
   "execution_count": 420,
   "id": "5b5fe539",
   "metadata": {},
   "outputs": [
    {
     "name": "stdout",
     "output_type": "stream",
     "text": [
      "Optimization terminated successfully.\n",
      "         Current function value: 0.675842\n",
      "         Iterations 4\n",
      "                           Logit Regression Results                           \n",
      "==============================================================================\n",
      "Dep. Variable:              HighBlood   No. Observations:                10000\n",
      "Model:                          Logit   Df Residuals:                     9991\n",
      "Method:                           MLE   Df Model:                            8\n",
      "Date:                Mon, 21 Oct 2024   Pseudo R-squ.:               0.0009611\n",
      "Time:                        12:44:03   Log-Likelihood:                -6758.4\n",
      "converged:                       True   LL-Null:                       -6764.9\n",
      "Covariance Type:            nonrobust   LLR p-value:                    0.1117\n",
      "====================================================================================\n",
      "                       coef    std err          z      P>|z|      [0.025      0.975]\n",
      "------------------------------------------------------------------------------------\n",
      "Age                  0.0007      0.001      0.702      0.483      -0.001       0.003\n",
      "Doc_visits           0.0165      0.019      0.845      0.398      -0.022       0.055\n",
      "Full_meals_eaten     0.0298      0.020      1.480      0.139      -0.010       0.069\n",
      "Overweight           0.1186      0.045      2.632      0.008       0.030       0.207\n",
      "Anxiety              0.0364      0.044      0.835      0.404      -0.049       0.122\n",
      "Hyperlipidemia      -0.0384      0.043     -0.891      0.373      -0.123       0.046\n",
      "Stroke               0.0387      0.051      0.760      0.447      -0.061       0.138\n",
      "Arthritis            0.0296      0.042      0.697      0.486      -0.054       0.113\n",
      "const               -0.6191      0.122     -5.073      0.000      -0.858      -0.380\n",
      "====================================================================================\n"
     ]
    }
   ],
   "source": [
    "# Remove Diabetes first since it has the highest P-value\n",
    "y = logit_df.HighBlood\n",
    "x = logit_df[['Age', 'Doc_visits', 'Full_meals_eaten','Overweight', 'Anxiety', 'Hyperlipidemia', 'Stroke', 'Arthritis']].assign(const=1)\n",
    "\n",
    "model = sm.Logit(y, x)\n",
    "results = model.fit()\n",
    "print(results.summary())"
   ]
  },
  {
   "cell_type": "code",
   "execution_count": 421,
   "id": "2b30a427",
   "metadata": {},
   "outputs": [
    {
     "name": "stdout",
     "output_type": "stream",
     "text": [
      "Optimization terminated successfully.\n",
      "         Current function value: 0.675867\n",
      "         Iterations 4\n",
      "                           Logit Regression Results                           \n",
      "==============================================================================\n",
      "Dep. Variable:              HighBlood   No. Observations:                10000\n",
      "Model:                          Logit   Df Residuals:                     9992\n",
      "Method:                           MLE   Df Model:                            7\n",
      "Date:                Mon, 21 Oct 2024   Pseudo R-squ.:               0.0009252\n",
      "Time:                        12:44:08   Log-Likelihood:                -6758.7\n",
      "converged:                       True   LL-Null:                       -6764.9\n",
      "Covariance Type:            nonrobust   LLR p-value:                   0.08478\n",
      "====================================================================================\n",
      "                       coef    std err          z      P>|z|      [0.025      0.975]\n",
      "------------------------------------------------------------------------------------\n",
      "Age                  0.0007      0.001      0.707      0.480      -0.001       0.003\n",
      "Doc_visits           0.0164      0.019      0.844      0.399      -0.022       0.055\n",
      "Full_meals_eaten     0.0300      0.020      1.488      0.137      -0.010       0.069\n",
      "Overweight           0.1187      0.045      2.635      0.008       0.030       0.207\n",
      "Anxiety              0.0367      0.044      0.843      0.399      -0.049       0.122\n",
      "Hyperlipidemia      -0.0386      0.043     -0.895      0.371      -0.123       0.046\n",
      "Stroke               0.0380      0.051      0.747      0.455      -0.062       0.138\n",
      "const               -0.6089      0.121     -5.026      0.000      -0.846      -0.371\n",
      "====================================================================================\n"
     ]
    }
   ],
   "source": [
    "# Remove Arthritis first since it has the highest P-value\n",
    "y = logit_df.HighBlood\n",
    "x = logit_df[['Age', 'Doc_visits', 'Full_meals_eaten','Overweight', 'Anxiety', 'Hyperlipidemia', 'Stroke']].assign(const=1)\n",
    "\n",
    "model = sm.Logit(y, x)\n",
    "results = model.fit()\n",
    "print(results.summary())"
   ]
  },
  {
   "cell_type": "code",
   "execution_count": 422,
   "id": "d238fd5a",
   "metadata": {},
   "outputs": [
    {
     "name": "stdout",
     "output_type": "stream",
     "text": [
      "Optimization terminated successfully.\n",
      "         Current function value: 0.675892\n",
      "         Iterations 4\n",
      "                           Logit Regression Results                           \n",
      "==============================================================================\n",
      "Dep. Variable:              HighBlood   No. Observations:                10000\n",
      "Model:                          Logit   Df Residuals:                     9993\n",
      "Method:                           MLE   Df Model:                            6\n",
      "Date:                Mon, 21 Oct 2024   Pseudo R-squ.:               0.0008882\n",
      "Time:                        12:44:14   Log-Likelihood:                -6758.9\n",
      "converged:                       True   LL-Null:                       -6764.9\n",
      "Covariance Type:            nonrobust   LLR p-value:                   0.06158\n",
      "====================================================================================\n",
      "                       coef    std err          z      P>|z|      [0.025      0.975]\n",
      "------------------------------------------------------------------------------------\n",
      "Doc_visits           0.0165      0.019      0.849      0.396      -0.022       0.055\n",
      "Full_meals_eaten     0.0301      0.020      1.494      0.135      -0.009       0.070\n",
      "Overweight           0.1185      0.045      2.630      0.009       0.030       0.207\n",
      "Anxiety              0.0369      0.044      0.848      0.397      -0.048       0.122\n",
      "Hyperlipidemia      -0.0385      0.043     -0.893      0.372      -0.123       0.046\n",
      "Stroke               0.0384      0.051      0.756      0.450      -0.061       0.138\n",
      "const               -0.5722      0.109     -5.228      0.000      -0.787      -0.358\n",
      "====================================================================================\n"
     ]
    }
   ],
   "source": [
    "# Remove Age first since it has the highest P-value\n",
    "y = logit_df.HighBlood\n",
    "x = logit_df[['Doc_visits', 'Full_meals_eaten','Overweight', 'Anxiety', 'Hyperlipidemia', 'Stroke']].assign(const=1)\n",
    "\n",
    "model = sm.Logit(y, x)\n",
    "results = model.fit()\n",
    "print(results.summary())"
   ]
  },
  {
   "cell_type": "code",
   "execution_count": 423,
   "id": "899ea976",
   "metadata": {
    "scrolled": false
   },
   "outputs": [
    {
     "name": "stdout",
     "output_type": "stream",
     "text": [
      "Optimization terminated successfully.\n",
      "         Current function value: 0.675920\n",
      "         Iterations 4\n",
      "                           Logit Regression Results                           \n",
      "==============================================================================\n",
      "Dep. Variable:              HighBlood   No. Observations:                10000\n",
      "Model:                          Logit   Df Residuals:                     9994\n",
      "Method:                           MLE   Df Model:                            5\n",
      "Date:                Mon, 21 Oct 2024   Pseudo R-squ.:               0.0008460\n",
      "Time:                        12:44:18   Log-Likelihood:                -6759.2\n",
      "converged:                       True   LL-Null:                       -6764.9\n",
      "Covariance Type:            nonrobust   LLR p-value:                   0.04321\n",
      "====================================================================================\n",
      "                       coef    std err          z      P>|z|      [0.025      0.975]\n",
      "------------------------------------------------------------------------------------\n",
      "Doc_visits           0.0165      0.019      0.847      0.397      -0.022       0.055\n",
      "Full_meals_eaten     0.0301      0.020      1.496      0.135      -0.009       0.070\n",
      "Overweight           0.1184      0.045      2.629      0.009       0.030       0.207\n",
      "Anxiety              0.0364      0.044      0.837      0.403      -0.049       0.122\n",
      "Hyperlipidemia      -0.0390      0.043     -0.904      0.366      -0.124       0.046\n",
      "const               -0.5640      0.109     -5.179      0.000      -0.777      -0.351\n",
      "====================================================================================\n"
     ]
    }
   ],
   "source": [
    "# Remove Stroke first since it has the highest P-value\n",
    "y = logit_df.HighBlood\n",
    "x = logit_df[['Doc_visits', 'Full_meals_eaten','Overweight', 'Anxiety', 'Hyperlipidemia']].assign(const=1)\n",
    "\n",
    "model = sm.Logit(y, x)\n",
    "results = model.fit()\n",
    "print(results.summary())"
   ]
  },
  {
   "cell_type": "code",
   "execution_count": 424,
   "id": "1c2d2df7",
   "metadata": {},
   "outputs": [
    {
     "name": "stdout",
     "output_type": "stream",
     "text": [
      "Optimization terminated successfully.\n",
      "         Current function value: 0.675955\n",
      "         Iterations 4\n",
      "                           Logit Regression Results                           \n",
      "==============================================================================\n",
      "Dep. Variable:              HighBlood   No. Observations:                10000\n",
      "Model:                          Logit   Df Residuals:                     9995\n",
      "Method:                           MLE   Df Model:                            4\n",
      "Date:                Mon, 21 Oct 2024   Pseudo R-squ.:               0.0007943\n",
      "Time:                        12:44:22   Log-Likelihood:                -6759.6\n",
      "converged:                       True   LL-Null:                       -6764.9\n",
      "Covariance Type:            nonrobust   LLR p-value:                   0.02956\n",
      "====================================================================================\n",
      "                       coef    std err          z      P>|z|      [0.025      0.975]\n",
      "------------------------------------------------------------------------------------\n",
      "Doc_visits           0.0165      0.019      0.845      0.398      -0.022       0.055\n",
      "Full_meals_eaten     0.0303      0.020      1.504      0.133      -0.009       0.070\n",
      "Overweight           0.1180      0.045      2.619      0.009       0.030       0.206\n",
      "Hyperlipidemia      -0.0395      0.043     -0.915      0.360      -0.124       0.045\n",
      "const               -0.5518      0.108     -5.113      0.000      -0.763      -0.340\n",
      "====================================================================================\n"
     ]
    }
   ],
   "source": [
    "# Remove Anxiety first since it has the highest P-value\n",
    "y = logit_df.HighBlood\n",
    "x = logit_df[['Doc_visits', 'Full_meals_eaten','Overweight', 'Hyperlipidemia']].assign(const=1)\n",
    "\n",
    "model = sm.Logit(y, x)\n",
    "results = model.fit()\n",
    "print(results.summary())"
   ]
  },
  {
   "cell_type": "code",
   "execution_count": 425,
   "id": "ae23e187",
   "metadata": {},
   "outputs": [
    {
     "name": "stdout",
     "output_type": "stream",
     "text": [
      "Optimization terminated successfully.\n",
      "         Current function value: 0.675991\n",
      "         Iterations 4\n",
      "                           Logit Regression Results                           \n",
      "==============================================================================\n",
      "Dep. Variable:              HighBlood   No. Observations:                10000\n",
      "Model:                          Logit   Df Residuals:                     9996\n",
      "Method:                           MLE   Df Model:                            3\n",
      "Date:                Mon, 21 Oct 2024   Pseudo R-squ.:               0.0007415\n",
      "Time:                        12:44:26   Log-Likelihood:                -6759.9\n",
      "converged:                       True   LL-Null:                       -6764.9\n",
      "Covariance Type:            nonrobust   LLR p-value:                   0.01829\n",
      "====================================================================================\n",
      "                       coef    std err          z      P>|z|      [0.025      0.975]\n",
      "------------------------------------------------------------------------------------\n",
      "Full_meals_eaten     0.0302      0.020      1.501      0.133      -0.009       0.070\n",
      "Overweight           0.1184      0.045      2.629      0.009       0.030       0.207\n",
      "Hyperlipidemia      -0.0404      0.043     -0.938      0.348      -0.125       0.044\n",
      "const               -0.4691      0.046    -10.273      0.000      -0.559      -0.380\n",
      "====================================================================================\n"
     ]
    }
   ],
   "source": [
    "# Remove Doc_visits first since it has the highest P-value.\n",
    "y = logit_df.HighBlood\n",
    "x = logit_df[['Full_meals_eaten','Overweight', 'Hyperlipidemia']].assign(const=1)\n",
    "\n",
    "model = sm.Logit(y, x)\n",
    "results = model.fit()\n",
    "print(results.summary())"
   ]
  },
  {
   "cell_type": "code",
   "execution_count": 426,
   "id": "8ad7e263",
   "metadata": {},
   "outputs": [
    {
     "name": "stdout",
     "output_type": "stream",
     "text": [
      "Optimization terminated successfully.\n",
      "         Current function value: 0.676035\n",
      "         Iterations 4\n",
      "                           Logit Regression Results                           \n",
      "==============================================================================\n",
      "Dep. Variable:              HighBlood   No. Observations:                10000\n",
      "Model:                          Logit   Df Residuals:                     9997\n",
      "Method:                           MLE   Df Model:                            2\n",
      "Date:                Mon, 21 Oct 2024   Pseudo R-squ.:               0.0006764\n",
      "Time:                        12:44:30   Log-Likelihood:                -6760.3\n",
      "converged:                       True   LL-Null:                       -6764.9\n",
      "Covariance Type:            nonrobust   LLR p-value:                   0.01030\n",
      "====================================================================================\n",
      "                       coef    std err          z      P>|z|      [0.025      0.975]\n",
      "------------------------------------------------------------------------------------\n",
      "Full_meals_eaten     0.0302      0.020      1.501      0.133      -0.009       0.070\n",
      "Overweight           0.1187      0.045      2.635      0.008       0.030       0.207\n",
      "const               -0.4829      0.043    -11.163      0.000      -0.568      -0.398\n",
      "====================================================================================\n"
     ]
    }
   ],
   "source": [
    "# Remove Hyperlipidemia first since it has the highest P-value.\n",
    "y = logit_df.HighBlood\n",
    "x = logit_df[['Full_meals_eaten','Overweight']].assign(const=1)\n",
    "\n",
    "model = sm.Logit(y, x)\n",
    "results = model.fit()\n",
    "print(results.summary())"
   ]
  },
  {
   "cell_type": "code",
   "execution_count": 427,
   "id": "6e0d4b41",
   "metadata": {},
   "outputs": [
    {
     "name": "stdout",
     "output_type": "stream",
     "text": [
      "Optimization terminated successfully.\n",
      "         Current function value: 0.676147\n",
      "         Iterations 4\n",
      "                           Logit Regression Results                           \n",
      "==============================================================================\n",
      "Dep. Variable:              HighBlood   No. Observations:                10000\n",
      "Model:                          Logit   Df Residuals:                     9998\n",
      "Method:                           MLE   Df Model:                            1\n",
      "Date:                Mon, 21 Oct 2024   Pseudo R-squ.:               0.0005102\n",
      "Time:                        12:45:33   Log-Likelihood:                -6761.5\n",
      "converged:                       True   LL-Null:                       -6764.9\n",
      "Covariance Type:            nonrobust   LLR p-value:                  0.008607\n",
      "==============================================================================\n",
      "                 coef    std err          z      P>|z|      [0.025      0.975]\n",
      "------------------------------------------------------------------------------\n",
      "Overweight     0.1181      0.045      2.622      0.009       0.030       0.206\n",
      "const         -0.4521      0.038    -11.882      0.000      -0.527      -0.378\n",
      "==============================================================================\n"
     ]
    }
   ],
   "source": [
    "# Remove Full_meals_eaten first since it has the highest P-value. This is the final reduced model.\n",
    "y = logit_df.HighBlood\n",
    "x = logit_df[['Overweight']].assign(const=1)\n",
    "\n",
    "model = sm.Logit(y, x)\n",
    "results = model.fit()\n",
    "print(results.summary())"
   ]
  },
  {
   "cell_type": "markdown",
   "id": "44ca0dd6",
   "metadata": {},
   "source": [
    "Here, we can see that comparing the initial MLR model and a reduced model is helpful because all of the remaining variables in the reduced model are statistically significant at 5% or less.\n",
    "\n",
    "The reduced logistic model regression equation is the following: HighBlood = -0.4521 + .1181 (Overweight)\n",
    "\n",
    "Interpretation of Coefficients:\n",
    "\n",
    "To compare the initial model with the reduced model, we can see that the reduced model is better than the initial model by way of the LLR p-values. The initial model had a LLR p-value of 0.3148 and the reduced model has a LLR p-value of 0.0086, which is much lower. This shows that the reduced model is better and more effective than the initial model."
   ]
  },
  {
   "cell_type": "code",
   "execution_count": 428,
   "id": "f496218a",
   "metadata": {},
   "outputs": [
    {
     "data": {
      "text/plain": [
       "Overweight    0.118090\n",
       "const        -0.452146\n",
       "dtype: float64"
      ]
     },
     "execution_count": 428,
     "metadata": {},
     "output_type": "execute_result"
    }
   ],
   "source": [
    "results.params"
   ]
  },
  {
   "cell_type": "code",
   "execution_count": 429,
   "id": "9f2a1bab",
   "metadata": {},
   "outputs": [
    {
     "name": "stdout",
     "output_type": "stream",
     "text": [
      "Accuracy of logistic regression classifier on test set: 0.60\n",
      "[[1814    0]\n",
      " [1186    0]]\n"
     ]
    }
   ],
   "source": [
    "X_train, X_test, y_train, y_test = train_test_split(x, y, test_size=0.3, random_state=0)\n",
    "logreg = LogisticRegression()\n",
    "logreg.fit(X_train, y_train)\n",
    "y_pred = logreg.predict(X_test)\n",
    "print('Accuracy of logistic regression classifier on test set: {:.2f}'.format(logreg.score(X_test, y_test)))\n",
    "final_matrix = confusion_matrix(y_test, y_pred)\n",
    "print(final_matrix)"
   ]
  },
  {
   "cell_type": "code",
   "execution_count": 430,
   "id": "e8ec0674",
   "metadata": {},
   "outputs": [
    {
     "name": "stdout",
     "output_type": "stream",
     "text": [
      "The odds ratio for overweight is 1.13. Given this, the change in odds for high blood pressure is 12.6\n"
     ]
    }
   ],
   "source": [
    "# Odds ratios for coefficients\n",
    "print(f\"The odds ratio for overweight is {round(np.exp(0.1181), 2)}. Given this, the change in odds for high blood pressure is {round((np.exp(0.118678) - 1) * 100, 2)}\")"
   ]
  },
  {
   "cell_type": "markdown",
   "id": "90916708",
   "metadata": {},
   "source": [
    "Interpretation of Coefficients:\n",
    "\n",
    "Keeping all other things constant, for one unit increase in Overweight, the change log odds of HighBlood by .1181.\n",
    "Given what we know about this logistic regression model, we can determine that it is indeed statistically significant because the LLR p-value of 0.0086 is below 0.05.\n",
    "\n",
    "Given the outcome of this regression analysis, I believe there is good practical evidence that the patients' incidence of them being overweight contributes to the presence of high blood pressure.\n",
    "\n",
    "However, it is also important to discuss the limitations of the analysis at hand. The first limitation of this analysis is the availability of variables to test. For example, perhaps if we had more applicable variables, our outcome could be better. Second, there are only 10,000 records in this dataset. And, finally, the data only covers a certain amount of time - if there was more data over a greater period of time, we might have more information and a better outcome.\n",
    "\n",
    "It is my recommended course of action that the results of this regression be utilized to address overweight status in patients so that we may better understand the effects on high blood pressure. Further research and even preventive action into these variables is warranted given the results of the regression."
   ]
  }
 ],
 "metadata": {
  "kernelspec": {
   "display_name": "Python 3 (ipykernel)",
   "language": "python",
   "name": "python3"
  },
  "language_info": {
   "codemirror_mode": {
    "name": "ipython",
    "version": 3
   },
   "file_extension": ".py",
   "mimetype": "text/x-python",
   "name": "python",
   "nbconvert_exporter": "python",
   "pygments_lexer": "ipython3",
   "version": "3.11.7"
  }
 },
 "nbformat": 4,
 "nbformat_minor": 5
}
